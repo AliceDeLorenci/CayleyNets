{
 "cells": [
  {
   "cell_type": "code",
   "execution_count": 78,
   "metadata": {},
   "outputs": [
    {
     "data": {
      "text/plain": [
       "device(type='cuda')"
      ]
     },
     "execution_count": 78,
     "metadata": {},
     "output_type": "execute_result"
    }
   ],
   "source": [
    "import time\n",
    "\n",
    "import torch\n",
    "import torch.nn as nn\n",
    "import torch.nn.functional as F\n",
    "\n",
    "# Check if GPU is available\n",
    "device = torch.device('cuda' if torch.cuda.is_available() else 'cpu')\n",
    "device"
   ]
  },
  {
   "cell_type": "code",
   "execution_count": 79,
   "metadata": {},
   "outputs": [],
   "source": [
    "import src.ChebNet as ChebNet\n",
    "import src.CayleyNet as CayleyNet\n",
    "import src.CORA as CORA\n",
    "import src.CommunitiesGraph as CommunitiesGraph\n",
    "import src.utils as utils"
   ]
  },
  {
   "cell_type": "code",
   "execution_count": 80,
   "metadata": {},
   "outputs": [
    {
     "data": {
      "text/plain": [
       "<module 'src.utils' from '/home/infres/avalenca-22/CayleyNets/src/utils.py'>"
      ]
     },
     "execution_count": 80,
     "metadata": {},
     "output_type": "execute_result"
    }
   ],
   "source": [
    "# Reload when files are changed\n",
    "import importlib\n",
    "importlib.reload(CayleyNet)\n",
    "importlib.reload(ChebNet)\n",
    "importlib.reload(CORA)\n",
    "importlib.reload(CommunitiesGraph)\n",
    "importlib.reload(utils)"
   ]
  },
  {
   "cell_type": "markdown",
   "metadata": {},
   "source": [
    "# CORA dataset"
   ]
  },
  {
   "cell_type": "code",
   "execution_count": 19,
   "metadata": {},
   "outputs": [
    {
     "name": "stdout",
     "output_type": "stream",
     "text": [
      "Parsing files...\n",
      "Done.\n"
     ]
    }
   ],
   "source": [
    "# Import dataset\n",
    "dataset = CORA.CORA()"
   ]
  },
  {
   "cell_type": "code",
   "execution_count": 20,
   "metadata": {},
   "outputs": [
    {
     "name": "stdout",
     "output_type": "stream",
     "text": [
      "CORA dataset\n",
      "Number of nodes: 2708\n",
      "Number of edges: 10556\n",
      "Number of features per node: 1433\n"
     ]
    }
   ],
   "source": [
    "dataset.print_properties()"
   ]
  },
  {
   "cell_type": "code",
   "execution_count": 21,
   "metadata": {},
   "outputs": [],
   "source": [
    "# Extended split of the CORA dataset\n",
    "train_mask, test_mask, val_mask = utils.split_train_test_val(dataset.n, 500, 500) "
   ]
  },
  {
   "cell_type": "code",
   "execution_count": 22,
   "metadata": {},
   "outputs": [],
   "source": [
    "# Features and labels as tensors\n",
    "features = torch.Tensor(1.0*dataset.features).to(device)\n",
    "labels = torch.Tensor(dataset.labels).long().to(device)\n",
    "edge_index = dataset.get_edge_index().to(device)\n",
    "\n",
    "# Masks as tensors\n",
    "train_mask = torch.Tensor(train_mask).bool().to(device)\n",
    "test_mask = torch.Tensor(test_mask).bool().to(device)\n",
    "val_mask = torch.Tensor(val_mask).bool().to(device)"
   ]
  },
  {
   "cell_type": "markdown",
   "metadata": {},
   "source": [
    "## ChebNet"
   ]
  },
  {
   "cell_type": "code",
   "execution_count": 23,
   "metadata": {},
   "outputs": [],
   "source": [
    "# Hyperparameters (Section 4.5)\n",
    "in_feats = dataset.n_features\n",
    "n_classes = dataset.n_classes\n",
    "n_hidden = 16\n",
    "n_hidden_layers = 1 # number of hidden layers\n",
    "k = 10 # Chebshev polynomial order \n",
    "# obs: we weren't able to identify the value of this last parameter in the paper, only that k=2*r where r is the Cayley polynomial order"
   ]
  },
  {
   "cell_type": "code",
   "execution_count": 24,
   "metadata": {},
   "outputs": [],
   "source": [
    "p_dropout=0.5\n",
    "normalization = 'sym'\n",
    "model = ChebNet.ChebNet(in_feats, n_classes, n_hidden, n_hidden_layers, k=k, p_dropout=p_dropout, normalization=normalization).to(device)"
   ]
  },
  {
   "cell_type": "code",
   "execution_count": 25,
   "metadata": {},
   "outputs": [
    {
     "name": "stdout",
     "output_type": "stream",
     "text": [
      "ChebNet(\n",
      "  (layers): ModuleList(\n",
      "    (0): ChebConv(1433, 16, K=10, normalization=sym)\n",
      "    (1): ChebConv(16, 7, K=10, normalization=sym)\n",
      "  )\n",
      ")\n",
      "Number of parameters: 230400\n",
      "Number of parameters: 229280\n",
      "Number of parameters: 1120\n"
     ]
    }
   ],
   "source": [
    "print(model)\n",
    "print(f'Number of parameters: {sum(p.numel() for p in model.parameters())}')\n",
    "print(f'Number of parameters: {sum(p.numel() for p in model.layers[0].parameters())}')\n",
    "print(f'Number of parameters: {sum(p.numel() for p in model.layers[1].parameters())}')           "
   ]
  },
  {
   "cell_type": "code",
   "execution_count": 26,
   "metadata": {},
   "outputs": [],
   "source": [
    "# Optimizer\n",
    "lr = 5e-3\n",
    "weight_decay = 5e-4\n",
    "optimizer = torch.optim.Adam(model.parameters(), lr=lr, weight_decay=weight_decay)"
   ]
  },
  {
   "cell_type": "code",
   "execution_count": 27,
   "metadata": {},
   "outputs": [
    {
     "name": "stdout",
     "output_type": "stream",
     "text": [
      "Epoch 00 | Loss 2.311 | Accuracy (validation) 0.190 | Elapsed time: 0.04s\n",
      "Epoch 01 | Loss 1.825 | Accuracy (validation) 0.248 | Elapsed time: 0.04s\n",
      "Epoch 02 | Loss 1.609 | Accuracy (validation) 0.278 | Elapsed time: 0.04s\n",
      "Epoch 03 | Loss 1.498 | Accuracy (validation) 0.284 | Elapsed time: 0.04s\n",
      "Epoch 04 | Loss 1.381 | Accuracy (validation) 0.268 | Elapsed time: 0.04s\n",
      "Epoch 05 | Loss 1.216 | Accuracy (validation) 0.292 | Elapsed time: 0.04s\n",
      "Epoch 06 | Loss 1.093 | Accuracy (validation) 0.302 | Elapsed time: 0.04s\n",
      "Epoch 07 | Loss 0.991 | Accuracy (validation) 0.328 | Elapsed time: 0.04s\n",
      "Epoch 08 | Loss 0.882 | Accuracy (validation) 0.332 | Elapsed time: 0.04s\n",
      "Epoch 09 | Loss 0.756 | Accuracy (validation) 0.350 | Elapsed time: 0.04s\n",
      "Epoch 10 | Loss 0.638 | Accuracy (validation) 0.390 | Elapsed time: 0.04s\n",
      "Epoch 11 | Loss 0.548 | Accuracy (validation) 0.412 | Elapsed time: 0.04s\n",
      "Epoch 12 | Loss 0.457 | Accuracy (validation) 0.416 | Elapsed time: 0.04s\n",
      "Epoch 13 | Loss 0.362 | Accuracy (validation) 0.438 | Elapsed time: 0.04s\n",
      "Epoch 14 | Loss 0.282 | Accuracy (validation) 0.462 | Elapsed time: 0.04s\n",
      "Epoch 15 | Loss 0.218 | Accuracy (validation) 0.502 | Elapsed time: 0.04s\n",
      "Epoch 16 | Loss 0.164 | Accuracy (validation) 0.542 | Elapsed time: 0.04s\n",
      "Epoch 17 | Loss 0.124 | Accuracy (validation) 0.568 | Elapsed time: 0.04s\n",
      "Epoch 18 | Loss 0.099 | Accuracy (validation) 0.580 | Elapsed time: 0.04s\n",
      "Epoch 19 | Loss 0.080 | Accuracy (validation) 0.580 | Elapsed time: 0.04s\n",
      "Epoch 20 | Loss 0.064 | Accuracy (validation) 0.582 | Elapsed time: 0.04s\n",
      "Epoch 21 | Loss 0.052 | Accuracy (validation) 0.574 | Elapsed time: 0.04s\n",
      "Epoch 22 | Loss 0.041 | Accuracy (validation) 0.580 | Elapsed time: 0.04s\n",
      "Epoch 23 | Loss 0.033 | Accuracy (validation) 0.586 | Elapsed time: 0.04s\n",
      "Epoch 24 | Loss 0.026 | Accuracy (validation) 0.596 | Elapsed time: 0.04s\n",
      "Epoch 25 | Loss 0.021 | Accuracy (validation) 0.600 | Elapsed time: 0.04s\n",
      "Epoch 26 | Loss 0.018 | Accuracy (validation) 0.614 | Elapsed time: 0.04s\n",
      "Epoch 27 | Loss 0.015 | Accuracy (validation) 0.618 | Elapsed time: 0.04s\n",
      "Epoch 28 | Loss 0.012 | Accuracy (validation) 0.618 | Elapsed time: 0.04s\n",
      "Epoch 29 | Loss 0.010 | Accuracy (validation) 0.626 | Elapsed time: 0.04s\n",
      "Epoch 30 | Loss 0.009 | Accuracy (validation) 0.624 | Elapsed time: 0.04s\n",
      "Epoch 31 | Loss 0.008 | Accuracy (validation) 0.628 | Elapsed time: 0.04s\n",
      "Epoch 32 | Loss 0.007 | Accuracy (validation) 0.636 | Elapsed time: 0.04s\n",
      "Epoch 33 | Loss 0.007 | Accuracy (validation) 0.650 | Elapsed time: 0.04s\n",
      "Epoch 34 | Loss 0.006 | Accuracy (validation) 0.658 | Elapsed time: 0.04s\n",
      "Epoch 35 | Loss 0.006 | Accuracy (validation) 0.664 | Elapsed time: 0.04s\n",
      "Epoch 36 | Loss 0.005 | Accuracy (validation) 0.662 | Elapsed time: 0.04s\n",
      "Epoch 37 | Loss 0.005 | Accuracy (validation) 0.674 | Elapsed time: 0.04s\n",
      "Epoch 38 | Loss 0.005 | Accuracy (validation) 0.674 | Elapsed time: 0.04s\n",
      "Epoch 39 | Loss 0.004 | Accuracy (validation) 0.676 | Elapsed time: 0.04s\n",
      "Epoch 40 | Loss 0.004 | Accuracy (validation) 0.676 | Elapsed time: 0.04s\n",
      "Epoch 41 | Loss 0.004 | Accuracy (validation) 0.678 | Elapsed time: 0.04s\n",
      "Epoch 42 | Loss 0.004 | Accuracy (validation) 0.682 | Elapsed time: 0.04s\n",
      "Epoch 43 | Loss 0.004 | Accuracy (validation) 0.686 | Elapsed time: 0.04s\n",
      "Epoch 44 | Loss 0.004 | Accuracy (validation) 0.688 | Elapsed time: 0.04s\n",
      "Epoch 45 | Loss 0.003 | Accuracy (validation) 0.686 | Elapsed time: 0.04s\n",
      "Epoch 46 | Loss 0.003 | Accuracy (validation) 0.686 | Elapsed time: 0.04s\n",
      "Epoch 47 | Loss 0.003 | Accuracy (validation) 0.688 | Elapsed time: 0.04s\n",
      "Epoch 48 | Loss 0.003 | Accuracy (validation) 0.692 | Elapsed time: 0.04s\n",
      "Epoch 49 | Loss 0.003 | Accuracy (validation) 0.698 | Elapsed time: 0.04s\n",
      "Epoch 50 | Loss 0.003 | Accuracy (validation) 0.698 | Elapsed time: 0.04s\n",
      "Epoch 51 | Loss 0.003 | Accuracy (validation) 0.702 | Elapsed time: 0.04s\n",
      "Epoch 52 | Loss 0.003 | Accuracy (validation) 0.702 | Elapsed time: 0.04s\n",
      "Epoch 53 | Loss 0.003 | Accuracy (validation) 0.706 | Elapsed time: 0.04s\n",
      "Epoch 54 | Loss 0.003 | Accuracy (validation) 0.708 | Elapsed time: 0.04s\n",
      "Epoch 55 | Loss 0.003 | Accuracy (validation) 0.710 | Elapsed time: 0.04s\n",
      "Epoch 56 | Loss 0.003 | Accuracy (validation) 0.710 | Elapsed time: 0.04s\n",
      "Epoch 57 | Loss 0.003 | Accuracy (validation) 0.710 | Elapsed time: 0.04s\n",
      "Epoch 58 | Loss 0.004 | Accuracy (validation) 0.710 | Elapsed time: 0.04s\n",
      "Epoch 59 | Loss 0.004 | Accuracy (validation) 0.710 | Elapsed time: 0.04s\n",
      "Epoch 60 | Loss 0.004 | Accuracy (validation) 0.712 | Elapsed time: 0.04s\n",
      "Epoch 61 | Loss 0.004 | Accuracy (validation) 0.714 | Elapsed time: 0.04s\n",
      "Epoch 62 | Loss 0.004 | Accuracy (validation) 0.714 | Elapsed time: 0.04s\n",
      "Epoch 63 | Loss 0.004 | Accuracy (validation) 0.714 | Elapsed time: 0.04s\n",
      "Epoch 64 | Loss 0.004 | Accuracy (validation) 0.714 | Elapsed time: 0.04s\n",
      "Epoch 65 | Loss 0.004 | Accuracy (validation) 0.712 | Elapsed time: 0.04s\n",
      "Epoch 66 | Loss 0.004 | Accuracy (validation) 0.714 | Elapsed time: 0.04s\n",
      "Epoch 67 | Loss 0.004 | Accuracy (validation) 0.712 | Elapsed time: 0.04s\n",
      "Epoch 68 | Loss 0.004 | Accuracy (validation) 0.714 | Elapsed time: 0.04s\n",
      "Epoch 69 | Loss 0.004 | Accuracy (validation) 0.718 | Elapsed time: 0.04s\n",
      "Epoch 70 | Loss 0.005 | Accuracy (validation) 0.722 | Elapsed time: 0.04s\n",
      "Epoch 71 | Loss 0.005 | Accuracy (validation) 0.724 | Elapsed time: 0.04s\n",
      "Epoch 72 | Loss 0.005 | Accuracy (validation) 0.724 | Elapsed time: 0.04s\n",
      "Epoch 73 | Loss 0.005 | Accuracy (validation) 0.724 | Elapsed time: 0.04s\n",
      "Epoch 74 | Loss 0.005 | Accuracy (validation) 0.722 | Elapsed time: 0.04s\n",
      "Epoch 75 | Loss 0.005 | Accuracy (validation) 0.724 | Elapsed time: 0.04s\n",
      "Epoch 76 | Loss 0.005 | Accuracy (validation) 0.724 | Elapsed time: 0.04s\n",
      "Epoch 77 | Loss 0.005 | Accuracy (validation) 0.724 | Elapsed time: 0.04s\n",
      "Epoch 78 | Loss 0.005 | Accuracy (validation) 0.724 | Elapsed time: 0.04s\n",
      "Epoch 79 | Loss 0.005 | Accuracy (validation) 0.726 | Elapsed time: 0.04s\n",
      "Epoch 80 | Loss 0.005 | Accuracy (validation) 0.726 | Elapsed time: 0.04s\n",
      "Epoch 81 | Loss 0.006 | Accuracy (validation) 0.726 | Elapsed time: 0.04s\n",
      "Epoch 82 | Loss 0.006 | Accuracy (validation) 0.724 | Elapsed time: 0.04s\n",
      "Epoch 83 | Loss 0.006 | Accuracy (validation) 0.724 | Elapsed time: 0.04s\n",
      "Epoch 84 | Loss 0.006 | Accuracy (validation) 0.724 | Elapsed time: 0.04s\n",
      "Epoch 85 | Loss 0.006 | Accuracy (validation) 0.732 | Elapsed time: 0.04s\n",
      "Epoch 86 | Loss 0.006 | Accuracy (validation) 0.732 | Elapsed time: 0.04s\n",
      "Epoch 87 | Loss 0.006 | Accuracy (validation) 0.738 | Elapsed time: 0.04s\n",
      "Epoch 88 | Loss 0.006 | Accuracy (validation) 0.738 | Elapsed time: 0.04s\n",
      "Epoch 89 | Loss 0.006 | Accuracy (validation) 0.740 | Elapsed time: 0.04s\n",
      "Epoch 90 | Loss 0.006 | Accuracy (validation) 0.740 | Elapsed time: 0.04s\n",
      "Epoch 91 | Loss 0.006 | Accuracy (validation) 0.744 | Elapsed time: 0.04s\n",
      "Epoch 92 | Loss 0.006 | Accuracy (validation) 0.744 | Elapsed time: 0.04s\n",
      "Epoch 93 | Loss 0.006 | Accuracy (validation) 0.744 | Elapsed time: 0.04s\n",
      "Epoch 94 | Loss 0.006 | Accuracy (validation) 0.746 | Elapsed time: 0.04s\n",
      "Epoch 95 | Loss 0.006 | Accuracy (validation) 0.744 | Elapsed time: 0.04s\n",
      "Epoch 96 | Loss 0.006 | Accuracy (validation) 0.748 | Elapsed time: 0.04s\n",
      "Epoch 97 | Loss 0.006 | Accuracy (validation) 0.750 | Elapsed time: 0.04s\n",
      "Epoch 98 | Loss 0.006 | Accuracy (validation) 0.750 | Elapsed time: 0.04s\n",
      "Epoch 99 | Loss 0.006 | Accuracy (validation) 0.750 | Elapsed time: 0.04s\n",
      "Epoch 100 | Loss 0.006 | Accuracy (validation) 0.752 | Elapsed time: 0.04s\n",
      "Epoch 101 | Loss 0.006 | Accuracy (validation) 0.754 | Elapsed time: 0.04s\n",
      "Epoch 102 | Loss 0.007 | Accuracy (validation) 0.754 | Elapsed time: 0.04s\n",
      "Epoch 103 | Loss 0.007 | Accuracy (validation) 0.758 | Elapsed time: 0.04s\n",
      "Epoch 104 | Loss 0.007 | Accuracy (validation) 0.762 | Elapsed time: 0.04s\n",
      "Epoch 105 | Loss 0.007 | Accuracy (validation) 0.762 | Elapsed time: 0.04s\n",
      "Epoch 106 | Loss 0.007 | Accuracy (validation) 0.762 | Elapsed time: 0.04s\n",
      "Epoch 107 | Loss 0.007 | Accuracy (validation) 0.764 | Elapsed time: 0.04s\n",
      "Epoch 108 | Loss 0.007 | Accuracy (validation) 0.764 | Elapsed time: 0.04s\n",
      "Epoch 109 | Loss 0.007 | Accuracy (validation) 0.764 | Elapsed time: 0.04s\n",
      "Epoch 110 | Loss 0.006 | Accuracy (validation) 0.764 | Elapsed time: 0.04s\n",
      "Epoch 111 | Loss 0.006 | Accuracy (validation) 0.764 | Elapsed time: 0.04s\n",
      "Epoch 112 | Loss 0.006 | Accuracy (validation) 0.766 | Elapsed time: 0.04s\n",
      "Epoch 113 | Loss 0.006 | Accuracy (validation) 0.768 | Elapsed time: 0.04s\n",
      "Epoch 114 | Loss 0.006 | Accuracy (validation) 0.770 | Elapsed time: 0.04s\n",
      "Epoch 115 | Loss 0.006 | Accuracy (validation) 0.770 | Elapsed time: 0.04s\n",
      "Epoch 116 | Loss 0.006 | Accuracy (validation) 0.770 | Elapsed time: 0.04s\n",
      "Epoch 117 | Loss 0.006 | Accuracy (validation) 0.770 | Elapsed time: 0.04s\n",
      "Epoch 118 | Loss 0.006 | Accuracy (validation) 0.772 | Elapsed time: 0.04s\n",
      "Epoch 119 | Loss 0.006 | Accuracy (validation) 0.772 | Elapsed time: 0.04s\n",
      "Epoch 120 | Loss 0.006 | Accuracy (validation) 0.772 | Elapsed time: 0.04s\n",
      "Epoch 121 | Loss 0.006 | Accuracy (validation) 0.772 | Elapsed time: 0.04s\n",
      "Epoch 122 | Loss 0.006 | Accuracy (validation) 0.772 | Elapsed time: 0.04s\n",
      "Epoch 123 | Loss 0.006 | Accuracy (validation) 0.772 | Elapsed time: 0.04s\n",
      "Epoch 124 | Loss 0.006 | Accuracy (validation) 0.772 | Elapsed time: 0.04s\n",
      "Epoch 125 | Loss 0.006 | Accuracy (validation) 0.774 | Elapsed time: 0.04s\n",
      "Epoch 126 | Loss 0.006 | Accuracy (validation) 0.774 | Elapsed time: 0.04s\n",
      "Epoch 127 | Loss 0.006 | Accuracy (validation) 0.774 | Elapsed time: 0.04s\n",
      "Epoch 128 | Loss 0.006 | Accuracy (validation) 0.774 | Elapsed time: 0.04s\n",
      "Epoch 129 | Loss 0.006 | Accuracy (validation) 0.778 | Elapsed time: 0.04s\n",
      "Epoch 130 | Loss 0.006 | Accuracy (validation) 0.780 | Elapsed time: 0.04s\n",
      "Epoch 131 | Loss 0.006 | Accuracy (validation) 0.780 | Elapsed time: 0.04s\n",
      "Epoch 132 | Loss 0.006 | Accuracy (validation) 0.778 | Elapsed time: 0.04s\n",
      "Epoch 133 | Loss 0.006 | Accuracy (validation) 0.780 | Elapsed time: 0.04s\n",
      "Epoch 134 | Loss 0.006 | Accuracy (validation) 0.782 | Elapsed time: 0.04s\n",
      "Epoch 135 | Loss 0.006 | Accuracy (validation) 0.784 | Elapsed time: 0.04s\n",
      "Epoch 136 | Loss 0.006 | Accuracy (validation) 0.784 | Elapsed time: 0.04s\n",
      "Epoch 137 | Loss 0.006 | Accuracy (validation) 0.784 | Elapsed time: 0.04s\n",
      "Epoch 138 | Loss 0.006 | Accuracy (validation) 0.784 | Elapsed time: 0.04s\n",
      "Epoch 139 | Loss 0.006 | Accuracy (validation) 0.786 | Elapsed time: 0.04s\n",
      "Epoch 140 | Loss 0.006 | Accuracy (validation) 0.786 | Elapsed time: 0.04s\n",
      "Epoch 141 | Loss 0.006 | Accuracy (validation) 0.792 | Elapsed time: 0.04s\n",
      "Epoch 142 | Loss 0.006 | Accuracy (validation) 0.792 | Elapsed time: 0.04s\n",
      "Epoch 143 | Loss 0.006 | Accuracy (validation) 0.794 | Elapsed time: 0.04s\n",
      "Epoch 144 | Loss 0.006 | Accuracy (validation) 0.796 | Elapsed time: 0.04s\n",
      "Epoch 145 | Loss 0.006 | Accuracy (validation) 0.796 | Elapsed time: 0.04s\n",
      "Epoch 146 | Loss 0.006 | Accuracy (validation) 0.796 | Elapsed time: 0.04s\n",
      "Epoch 147 | Loss 0.006 | Accuracy (validation) 0.798 | Elapsed time: 0.04s\n",
      "Epoch 148 | Loss 0.006 | Accuracy (validation) 0.800 | Elapsed time: 0.04s\n",
      "Epoch 149 | Loss 0.006 | Accuracy (validation) 0.800 | Elapsed time: 0.04s\n",
      "Epoch 150 | Loss 0.006 | Accuracy (validation) 0.800 | Elapsed time: 0.04s\n",
      "Epoch 151 | Loss 0.006 | Accuracy (validation) 0.800 | Elapsed time: 0.04s\n",
      "Epoch 152 | Loss 0.006 | Accuracy (validation) 0.802 | Elapsed time: 0.04s\n",
      "Epoch 153 | Loss 0.006 | Accuracy (validation) 0.802 | Elapsed time: 0.04s\n",
      "Epoch 154 | Loss 0.006 | Accuracy (validation) 0.802 | Elapsed time: 0.04s\n",
      "Epoch 155 | Loss 0.006 | Accuracy (validation) 0.802 | Elapsed time: 0.04s\n",
      "Epoch 156 | Loss 0.006 | Accuracy (validation) 0.802 | Elapsed time: 0.04s\n",
      "Epoch 157 | Loss 0.006 | Accuracy (validation) 0.802 | Elapsed time: 0.04s\n",
      "Epoch 158 | Loss 0.006 | Accuracy (validation) 0.804 | Elapsed time: 0.04s\n",
      "Epoch 159 | Loss 0.006 | Accuracy (validation) 0.806 | Elapsed time: 0.04s\n",
      "Epoch 160 | Loss 0.006 | Accuracy (validation) 0.804 | Elapsed time: 0.04s\n",
      "Epoch 161 | Loss 0.006 | Accuracy (validation) 0.804 | Elapsed time: 0.04s\n",
      "Epoch 162 | Loss 0.006 | Accuracy (validation) 0.804 | Elapsed time: 0.04s\n",
      "Epoch 163 | Loss 0.006 | Accuracy (validation) 0.802 | Elapsed time: 0.04s\n",
      "Epoch 164 | Loss 0.006 | Accuracy (validation) 0.802 | Elapsed time: 0.04s\n",
      "Epoch 165 | Loss 0.006 | Accuracy (validation) 0.800 | Elapsed time: 0.04s\n",
      "Epoch 166 | Loss 0.006 | Accuracy (validation) 0.802 | Elapsed time: 0.04s\n",
      "Epoch 167 | Loss 0.006 | Accuracy (validation) 0.804 | Elapsed time: 0.04s\n",
      "Epoch 168 | Loss 0.006 | Accuracy (validation) 0.806 | Elapsed time: 0.04s\n",
      "Epoch 169 | Loss 0.006 | Accuracy (validation) 0.806 | Elapsed time: 0.04s\n",
      "Epoch 170 | Loss 0.006 | Accuracy (validation) 0.804 | Elapsed time: 0.04s\n",
      "Epoch 171 | Loss 0.006 | Accuracy (validation) 0.804 | Elapsed time: 0.04s\n",
      "Epoch 172 | Loss 0.006 | Accuracy (validation) 0.806 | Elapsed time: 0.04s\n",
      "Epoch 173 | Loss 0.006 | Accuracy (validation) 0.810 | Elapsed time: 0.04s\n",
      "Epoch 174 | Loss 0.006 | Accuracy (validation) 0.810 | Elapsed time: 0.04s\n",
      "Epoch 175 | Loss 0.006 | Accuracy (validation) 0.812 | Elapsed time: 0.04s\n",
      "Epoch 176 | Loss 0.006 | Accuracy (validation) 0.812 | Elapsed time: 0.04s\n",
      "Epoch 177 | Loss 0.006 | Accuracy (validation) 0.816 | Elapsed time: 0.04s\n",
      "Epoch 178 | Loss 0.006 | Accuracy (validation) 0.818 | Elapsed time: 0.04s\n",
      "Epoch 179 | Loss 0.006 | Accuracy (validation) 0.818 | Elapsed time: 0.04s\n",
      "Epoch 180 | Loss 0.006 | Accuracy (validation) 0.818 | Elapsed time: 0.04s\n",
      "Epoch 181 | Loss 0.006 | Accuracy (validation) 0.820 | Elapsed time: 0.04s\n",
      "Epoch 182 | Loss 0.005 | Accuracy (validation) 0.820 | Elapsed time: 0.04s\n",
      "Epoch 183 | Loss 0.005 | Accuracy (validation) 0.820 | Elapsed time: 0.04s\n",
      "Epoch 184 | Loss 0.005 | Accuracy (validation) 0.820 | Elapsed time: 0.04s\n",
      "Epoch 185 | Loss 0.005 | Accuracy (validation) 0.820 | Elapsed time: 0.04s\n",
      "Epoch 186 | Loss 0.005 | Accuracy (validation) 0.820 | Elapsed time: 0.04s\n",
      "Epoch 187 | Loss 0.005 | Accuracy (validation) 0.820 | Elapsed time: 0.04s\n",
      "Epoch 188 | Loss 0.005 | Accuracy (validation) 0.820 | Elapsed time: 0.04s\n",
      "Epoch 189 | Loss 0.005 | Accuracy (validation) 0.820 | Elapsed time: 0.04s\n",
      "Epoch 190 | Loss 0.005 | Accuracy (validation) 0.818 | Elapsed time: 0.04s\n",
      "Epoch 191 | Loss 0.005 | Accuracy (validation) 0.818 | Elapsed time: 0.04s\n",
      "Epoch 192 | Loss 0.005 | Accuracy (validation) 0.818 | Elapsed time: 0.04s\n",
      "Epoch 193 | Loss 0.005 | Accuracy (validation) 0.818 | Elapsed time: 0.04s\n",
      "Epoch 194 | Loss 0.005 | Accuracy (validation) 0.818 | Elapsed time: 0.04s\n",
      "Epoch 195 | Loss 0.005 | Accuracy (validation) 0.816 | Elapsed time: 0.04s\n",
      "Epoch 196 | Loss 0.005 | Accuracy (validation) 0.814 | Elapsed time: 0.04s\n",
      "Epoch 197 | Loss 0.005 | Accuracy (validation) 0.814 | Elapsed time: 0.04s\n",
      "Epoch 198 | Loss 0.005 | Accuracy (validation) 0.814 | Elapsed time: 0.04s\n",
      "Epoch 199 | Loss 0.005 | Accuracy (validation) 0.816 | Elapsed time: 0.04s\n"
     ]
    }
   ],
   "source": [
    "# Train the model\n",
    "epochs=200\n",
    "loss_values, val_score, train_score = utils.train(model, optimizer, edge_index, features, labels, train_mask, val_mask, epochs, verbose=True)"
   ]
  },
  {
   "cell_type": "code",
   "execution_count": 28,
   "metadata": {},
   "outputs": [
    {
     "name": "stdout",
     "output_type": "stream",
     "text": [
      "Test accuracy 0.830\n"
     ]
    }
   ],
   "source": [
    "test_score = utils.eval_pytorch_geometric_model(model, edge_index, features, labels, test_mask)\n",
    "print(\"Test accuracy {:.3f}\".format(test_score))"
   ]
  },
  {
   "cell_type": "code",
   "execution_count": 29,
   "metadata": {},
   "outputs": [],
   "source": [
    "results = {'model': 'ChebNet',\n",
    "           'dataset': dataset.name,\n",
    "           'training size': len(train_mask),\n",
    "           'validation size': len(val_mask),\n",
    "           'test size': len(test_mask),\n",
    "           'n hidden nodes': n_hidden,\n",
    "           'n hidden layers': n_hidden_layers,\n",
    "           'polynomial order': k,\n",
    "           'laplacian normalization': normalization,\n",
    "           'dropout probability': p_dropout,\n",
    "           'learning rate': lr,\n",
    "           'weight decay': weight_decay,\n",
    "           'n epochs': epochs,\n",
    "           'loss': loss_values,\n",
    "           'train accuracy': train_score,\n",
    "           'validation accuracy': val_score,\n",
    "           'test accuracy': test_score\n",
    "           }"
   ]
  },
  {
   "cell_type": "code",
   "execution_count": 30,
   "metadata": {},
   "outputs": [],
   "source": [
    "loaded_results = utils.save_results(results, 'cheb')\n",
    "# loaded_results = utils.load_results('./results/cheb_2023-12-9-19-36-5.pkl')"
   ]
  },
  {
   "cell_type": "code",
   "execution_count": 50,
   "metadata": {},
   "outputs": [
    {
     "data": {
      "image/png": "[encoded data removed]",
      "text/plain": [
       "<Figure size 400x400 with 1 Axes>"
      ]
     },
     "metadata": {},
     "output_type": "display_data"
    }
   ],
   "source": [
    "utils.plot_accuracy(loaded_results['train accuracy'], loaded_results['validation accuracy'])"
   ]
  },
  {
   "cell_type": "code",
   "execution_count": 51,
   "metadata": {},
   "outputs": [
    {
     "data": {
      "image/png": "[encoded data removed]",
      "text/plain": [
       "<Figure size 400x400 with 1 Axes>"
      ]
     },
     "metadata": {},
     "output_type": "display_data"
    }
   ],
   "source": [
    "utils.plot_loss(loaded_results['loss'])"
   ]
  },
  {
   "cell_type": "code",
   "execution_count": 44,
   "metadata": {},
   "outputs": [
    {
     "name": "stdout",
     "output_type": "stream",
     "text": [
      "Test accuracy 0.830\n"
     ]
    }
   ],
   "source": [
    "print(\"Test accuracy {:.3f}\".format(loaded_results['test accuracy']))"
   ]
  },
  {
   "cell_type": "markdown",
   "metadata": {},
   "source": [
    "## CayleyNet"
   ]
  },
  {
   "cell_type": "code",
   "execution_count": 52,
   "metadata": {},
   "outputs": [],
   "source": [
    "# Hyperparameters (Section 4.5)\n",
    "in_feats = dataset.n_features\n",
    "n_classes = dataset.n_classes\n",
    "n_hidden = 16\n",
    "n_hidden_layers = 1 # number of hidden layers\n",
    "r = 5 # Cayley polynomial order \n",
    "# obs: we weren't able to identify the value of this last parameter in the paper"
   ]
  },
  {
   "cell_type": "code",
   "execution_count": 53,
   "metadata": {},
   "outputs": [],
   "source": [
    "p_dropout=0.5\n",
    "normalization = 'sym'\n",
    "model = CayleyNet.CayleyNet(in_feats, n_classes, n_hidden, n_hidden_layers, r=r, p_dropout=p_dropout, normalization=normalization, sparse=False, seed=0)"
   ]
  },
  {
   "cell_type": "code",
   "execution_count": 54,
   "metadata": {},
   "outputs": [
    {
     "name": "stdout",
     "output_type": "stream",
     "text": [
      "CayleyNet(\n",
      "  (layers): ModuleList(\n",
      "    (0): CayleyConv(1433, 16, r=5, normalization=sym)\n",
      "    (1): CayleyConv(16, 7, r=5, normalization=sym)\n",
      "  )\n",
      ")\n",
      "Number of parameters: 23042\n",
      "Number of parameters: 22929\n",
      "Number of parameters: 113\n"
     ]
    }
   ],
   "source": [
    "print(model)\n",
    "print(f'Number of parameters: {sum(p.numel() for p in model.parameters())}')\n",
    "print(f'Number of parameters: {sum(p.numel() for p in model.layers[0].parameters())}')\n",
    "print(f'Number of parameters: {sum(p.numel() for p in model.layers[1].parameters())}')           "
   ]
  },
  {
   "cell_type": "code",
   "execution_count": 55,
   "metadata": {},
   "outputs": [],
   "source": [
    "# Optimizer\n",
    "lr = 5e-3\n",
    "weight_decay = 5e-4\n",
    "optimizer = torch.optim.Adam(model.parameters(), lr=lr, weight_decay=weight_decay)"
   ]
  },
  {
   "cell_type": "code",
   "execution_count": 56,
   "metadata": {},
   "outputs": [
    {
     "name": "stdout",
     "output_type": "stream",
     "text": [
      "Epoch 00 | Loss 2.135 | Accuracy (validation) 0.160 | Elapsed time: 1.57s\n",
      "Epoch 01 | Loss 1.961 | Accuracy (validation) 0.202 | Elapsed time: 1.54s\n",
      "Epoch 02 | Loss 1.873 | Accuracy (validation) 0.230 | Elapsed time: 1.54s\n",
      "Epoch 03 | Loss 1.797 | Accuracy (validation) 0.248 | Elapsed time: 1.54s\n",
      "Epoch 04 | Loss 1.728 | Accuracy (validation) 0.250 | Elapsed time: 1.54s\n",
      "Epoch 05 | Loss 1.660 | Accuracy (validation) 0.284 | Elapsed time: 1.54s\n",
      "Epoch 06 | Loss 1.591 | Accuracy (validation) 0.286 | Elapsed time: 1.54s\n",
      "Epoch 07 | Loss 1.522 | Accuracy (validation) 0.306 | Elapsed time: 1.54s\n",
      "Epoch 08 | Loss 1.452 | Accuracy (validation) 0.326 | Elapsed time: 1.54s\n",
      "Epoch 09 | Loss 1.381 | Accuracy (validation) 0.346 | Elapsed time: 1.55s\n",
      "Epoch 10 | Loss 1.309 | Accuracy (validation) 0.364 | Elapsed time: 1.55s\n",
      "Epoch 11 | Loss 1.236 | Accuracy (validation) 0.384 | Elapsed time: 1.55s\n",
      "Epoch 12 | Loss 1.165 | Accuracy (validation) 0.408 | Elapsed time: 1.54s\n",
      "Epoch 13 | Loss 1.095 | Accuracy (validation) 0.426 | Elapsed time: 1.55s\n",
      "Epoch 14 | Loss 1.027 | Accuracy (validation) 0.454 | Elapsed time: 1.55s\n",
      "Epoch 15 | Loss 0.963 | Accuracy (validation) 0.480 | Elapsed time: 1.55s\n",
      "Epoch 16 | Loss 0.901 | Accuracy (validation) 0.498 | Elapsed time: 1.55s\n",
      "Epoch 17 | Loss 0.844 | Accuracy (validation) 0.510 | Elapsed time: 1.55s\n",
      "Epoch 18 | Loss 0.790 | Accuracy (validation) 0.538 | Elapsed time: 1.55s\n",
      "Epoch 19 | Loss 0.739 | Accuracy (validation) 0.550 | Elapsed time: 1.55s\n",
      "Epoch 20 | Loss 0.690 | Accuracy (validation) 0.558 | Elapsed time: 1.55s\n",
      "Epoch 21 | Loss 0.645 | Accuracy (validation) 0.568 | Elapsed time: 1.55s\n",
      "Epoch 22 | Loss 0.601 | Accuracy (validation) 0.572 | Elapsed time: 1.55s\n",
      "Epoch 23 | Loss 0.561 | Accuracy (validation) 0.586 | Elapsed time: 1.55s\n",
      "Epoch 24 | Loss 0.523 | Accuracy (validation) 0.602 | Elapsed time: 1.55s\n",
      "Epoch 25 | Loss 0.487 | Accuracy (validation) 0.614 | Elapsed time: 1.55s\n",
      "Epoch 26 | Loss 0.454 | Accuracy (validation) 0.618 | Elapsed time: 1.55s\n",
      "Epoch 27 | Loss 0.423 | Accuracy (validation) 0.620 | Elapsed time: 1.56s\n",
      "Epoch 28 | Loss 0.395 | Accuracy (validation) 0.632 | Elapsed time: 1.55s\n",
      "Epoch 29 | Loss 0.368 | Accuracy (validation) 0.634 | Elapsed time: 1.56s\n",
      "Epoch 30 | Loss 0.344 | Accuracy (validation) 0.638 | Elapsed time: 1.56s\n",
      "Epoch 31 | Loss 0.321 | Accuracy (validation) 0.636 | Elapsed time: 1.56s\n",
      "Epoch 32 | Loss 0.300 | Accuracy (validation) 0.640 | Elapsed time: 1.56s\n",
      "Epoch 33 | Loss 0.280 | Accuracy (validation) 0.644 | Elapsed time: 1.56s\n",
      "Epoch 34 | Loss 0.262 | Accuracy (validation) 0.656 | Elapsed time: 1.56s\n",
      "Epoch 35 | Loss 0.245 | Accuracy (validation) 0.660 | Elapsed time: 1.56s\n",
      "Epoch 36 | Loss 0.230 | Accuracy (validation) 0.668 | Elapsed time: 1.56s\n",
      "Epoch 37 | Loss 0.215 | Accuracy (validation) 0.668 | Elapsed time: 1.56s\n",
      "Epoch 38 | Loss 0.202 | Accuracy (validation) 0.674 | Elapsed time: 1.56s\n",
      "Epoch 39 | Loss 0.190 | Accuracy (validation) 0.678 | Elapsed time: 1.56s\n",
      "Epoch 40 | Loss 0.179 | Accuracy (validation) 0.680 | Elapsed time: 1.57s\n",
      "Epoch 41 | Loss 0.169 | Accuracy (validation) 0.694 | Elapsed time: 1.56s\n",
      "Epoch 42 | Loss 0.159 | Accuracy (validation) 0.698 | Elapsed time: 1.56s\n",
      "Epoch 43 | Loss 0.150 | Accuracy (validation) 0.702 | Elapsed time: 1.56s\n",
      "Epoch 44 | Loss 0.142 | Accuracy (validation) 0.706 | Elapsed time: 1.56s\n",
      "Epoch 45 | Loss 0.135 | Accuracy (validation) 0.708 | Elapsed time: 1.56s\n",
      "Epoch 46 | Loss 0.128 | Accuracy (validation) 0.714 | Elapsed time: 1.56s\n",
      "Epoch 47 | Loss 0.122 | Accuracy (validation) 0.716 | Elapsed time: 1.56s\n",
      "Epoch 48 | Loss 0.116 | Accuracy (validation) 0.716 | Elapsed time: 1.56s\n",
      "Epoch 49 | Loss 0.111 | Accuracy (validation) 0.714 | Elapsed time: 1.56s\n",
      "Epoch 50 | Loss 0.106 | Accuracy (validation) 0.712 | Elapsed time: 1.57s\n",
      "Epoch 51 | Loss 0.101 | Accuracy (validation) 0.708 | Elapsed time: 1.56s\n",
      "Epoch 52 | Loss 0.097 | Accuracy (validation) 0.708 | Elapsed time: 1.56s\n",
      "Epoch 53 | Loss 0.093 | Accuracy (validation) 0.714 | Elapsed time: 1.56s\n",
      "Epoch 54 | Loss 0.089 | Accuracy (validation) 0.716 | Elapsed time: 1.56s\n",
      "Epoch 55 | Loss 0.086 | Accuracy (validation) 0.716 | Elapsed time: 1.56s\n",
      "Epoch 56 | Loss 0.083 | Accuracy (validation) 0.716 | Elapsed time: 1.56s\n",
      "Epoch 57 | Loss 0.080 | Accuracy (validation) 0.716 | Elapsed time: 1.56s\n",
      "Epoch 58 | Loss 0.077 | Accuracy (validation) 0.716 | Elapsed time: 1.56s\n",
      "Epoch 59 | Loss 0.074 | Accuracy (validation) 0.714 | Elapsed time: 1.56s\n",
      "Epoch 60 | Loss 0.072 | Accuracy (validation) 0.716 | Elapsed time: 1.56s\n",
      "Epoch 61 | Loss 0.070 | Accuracy (validation) 0.720 | Elapsed time: 1.56s\n",
      "Epoch 62 | Loss 0.068 | Accuracy (validation) 0.722 | Elapsed time: 1.57s\n",
      "Epoch 63 | Loss 0.066 | Accuracy (validation) 0.722 | Elapsed time: 1.57s\n",
      "Epoch 64 | Loss 0.064 | Accuracy (validation) 0.724 | Elapsed time: 1.56s\n",
      "Epoch 65 | Loss 0.062 | Accuracy (validation) 0.724 | Elapsed time: 1.56s\n",
      "Epoch 66 | Loss 0.061 | Accuracy (validation) 0.724 | Elapsed time: 1.56s\n",
      "Epoch 67 | Loss 0.059 | Accuracy (validation) 0.724 | Elapsed time: 1.56s\n",
      "Epoch 68 | Loss 0.058 | Accuracy (validation) 0.732 | Elapsed time: 1.56s\n",
      "Epoch 69 | Loss 0.057 | Accuracy (validation) 0.734 | Elapsed time: 1.57s\n",
      "Epoch 70 | Loss 0.056 | Accuracy (validation) 0.734 | Elapsed time: 1.56s\n",
      "Epoch 71 | Loss 0.054 | Accuracy (validation) 0.736 | Elapsed time: 1.57s\n",
      "Epoch 72 | Loss 0.053 | Accuracy (validation) 0.740 | Elapsed time: 1.57s\n",
      "Epoch 73 | Loss 0.052 | Accuracy (validation) 0.740 | Elapsed time: 1.56s\n",
      "Epoch 74 | Loss 0.051 | Accuracy (validation) 0.740 | Elapsed time: 1.56s\n",
      "Epoch 75 | Loss 0.051 | Accuracy (validation) 0.740 | Elapsed time: 1.56s\n",
      "Epoch 76 | Loss 0.050 | Accuracy (validation) 0.742 | Elapsed time: 1.56s\n",
      "Epoch 77 | Loss 0.049 | Accuracy (validation) 0.742 | Elapsed time: 1.56s\n",
      "Epoch 78 | Loss 0.048 | Accuracy (validation) 0.742 | Elapsed time: 1.58s\n",
      "Epoch 79 | Loss 0.047 | Accuracy (validation) 0.742 | Elapsed time: 1.56s\n",
      "Epoch 80 | Loss 0.047 | Accuracy (validation) 0.744 | Elapsed time: 1.56s\n",
      "Epoch 81 | Loss 0.046 | Accuracy (validation) 0.748 | Elapsed time: 1.56s\n",
      "Epoch 82 | Loss 0.046 | Accuracy (validation) 0.748 | Elapsed time: 1.56s\n",
      "Epoch 83 | Loss 0.045 | Accuracy (validation) 0.748 | Elapsed time: 1.57s\n",
      "Epoch 84 | Loss 0.044 | Accuracy (validation) 0.748 | Elapsed time: 1.56s\n",
      "Epoch 85 | Loss 0.044 | Accuracy (validation) 0.748 | Elapsed time: 1.56s\n",
      "Epoch 86 | Loss 0.043 | Accuracy (validation) 0.746 | Elapsed time: 1.56s\n",
      "Epoch 87 | Loss 0.043 | Accuracy (validation) 0.746 | Elapsed time: 1.58s\n",
      "Epoch 88 | Loss 0.042 | Accuracy (validation) 0.748 | Elapsed time: 1.58s\n",
      "Epoch 89 | Loss 0.042 | Accuracy (validation) 0.752 | Elapsed time: 1.57s\n",
      "Epoch 90 | Loss 0.042 | Accuracy (validation) 0.752 | Elapsed time: 1.57s\n",
      "Epoch 91 | Loss 0.041 | Accuracy (validation) 0.752 | Elapsed time: 1.56s\n",
      "Epoch 92 | Loss 0.041 | Accuracy (validation) 0.752 | Elapsed time: 1.56s\n",
      "Epoch 93 | Loss 0.040 | Accuracy (validation) 0.754 | Elapsed time: 1.57s\n",
      "Epoch 94 | Loss 0.040 | Accuracy (validation) 0.754 | Elapsed time: 1.56s\n",
      "Epoch 95 | Loss 0.040 | Accuracy (validation) 0.754 | Elapsed time: 1.56s\n",
      "Epoch 96 | Loss 0.039 | Accuracy (validation) 0.754 | Elapsed time: 1.56s\n",
      "Epoch 97 | Loss 0.039 | Accuracy (validation) 0.756 | Elapsed time: 1.56s\n",
      "Epoch 98 | Loss 0.039 | Accuracy (validation) 0.758 | Elapsed time: 1.56s\n",
      "Epoch 99 | Loss 0.038 | Accuracy (validation) 0.758 | Elapsed time: 1.56s\n",
      "Epoch 100 | Loss 0.038 | Accuracy (validation) 0.758 | Elapsed time: 1.56s\n",
      "Epoch 101 | Loss 0.038 | Accuracy (validation) 0.758 | Elapsed time: 1.57s\n",
      "Epoch 102 | Loss 0.038 | Accuracy (validation) 0.758 | Elapsed time: 1.57s\n",
      "Epoch 103 | Loss 0.037 | Accuracy (validation) 0.758 | Elapsed time: 1.57s\n",
      "Epoch 104 | Loss 0.037 | Accuracy (validation) 0.758 | Elapsed time: 1.56s\n",
      "Epoch 105 | Loss 0.037 | Accuracy (validation) 0.758 | Elapsed time: 1.57s\n",
      "Epoch 106 | Loss 0.037 | Accuracy (validation) 0.760 | Elapsed time: 1.57s\n",
      "Epoch 107 | Loss 0.036 | Accuracy (validation) 0.760 | Elapsed time: 1.56s\n",
      "Epoch 108 | Loss 0.036 | Accuracy (validation) 0.762 | Elapsed time: 1.57s\n",
      "Epoch 109 | Loss 0.036 | Accuracy (validation) 0.764 | Elapsed time: 1.56s\n",
      "Epoch 110 | Loss 0.036 | Accuracy (validation) 0.764 | Elapsed time: 1.56s\n",
      "Epoch 111 | Loss 0.035 | Accuracy (validation) 0.764 | Elapsed time: 1.57s\n",
      "Epoch 112 | Loss 0.035 | Accuracy (validation) 0.764 | Elapsed time: 1.57s\n",
      "Epoch 113 | Loss 0.035 | Accuracy (validation) 0.764 | Elapsed time: 1.56s\n",
      "Epoch 114 | Loss 0.035 | Accuracy (validation) 0.764 | Elapsed time: 1.56s\n",
      "Epoch 115 | Loss 0.035 | Accuracy (validation) 0.766 | Elapsed time: 1.57s\n",
      "Epoch 116 | Loss 0.034 | Accuracy (validation) 0.766 | Elapsed time: 1.57s\n",
      "Epoch 117 | Loss 0.034 | Accuracy (validation) 0.766 | Elapsed time: 1.56s\n",
      "Epoch 118 | Loss 0.034 | Accuracy (validation) 0.766 | Elapsed time: 1.56s\n",
      "Epoch 119 | Loss 0.034 | Accuracy (validation) 0.766 | Elapsed time: 1.57s\n",
      "Epoch 120 | Loss 0.034 | Accuracy (validation) 0.766 | Elapsed time: 1.56s\n",
      "Epoch 121 | Loss 0.033 | Accuracy (validation) 0.766 | Elapsed time: 1.57s\n",
      "Epoch 122 | Loss 0.033 | Accuracy (validation) 0.766 | Elapsed time: 1.57s\n",
      "Epoch 123 | Loss 0.033 | Accuracy (validation) 0.766 | Elapsed time: 1.57s\n",
      "Epoch 124 | Loss 0.033 | Accuracy (validation) 0.766 | Elapsed time: 1.57s\n",
      "Epoch 125 | Loss 0.033 | Accuracy (validation) 0.766 | Elapsed time: 1.56s\n",
      "Epoch 126 | Loss 0.033 | Accuracy (validation) 0.768 | Elapsed time: 1.56s\n",
      "Epoch 127 | Loss 0.032 | Accuracy (validation) 0.768 | Elapsed time: 1.56s\n",
      "Epoch 128 | Loss 0.032 | Accuracy (validation) 0.770 | Elapsed time: 1.57s\n",
      "Epoch 129 | Loss 0.032 | Accuracy (validation) 0.770 | Elapsed time: 1.56s\n",
      "Epoch 130 | Loss 0.032 | Accuracy (validation) 0.770 | Elapsed time: 1.56s\n",
      "Epoch 131 | Loss 0.032 | Accuracy (validation) 0.770 | Elapsed time: 1.56s\n",
      "Epoch 132 | Loss 0.032 | Accuracy (validation) 0.772 | Elapsed time: 1.56s\n",
      "Epoch 133 | Loss 0.031 | Accuracy (validation) 0.772 | Elapsed time: 1.57s\n",
      "Epoch 134 | Loss 0.031 | Accuracy (validation) 0.772 | Elapsed time: 1.56s\n",
      "Epoch 135 | Loss 0.031 | Accuracy (validation) 0.772 | Elapsed time: 1.57s\n",
      "Epoch 136 | Loss 0.031 | Accuracy (validation) 0.772 | Elapsed time: 1.57s\n",
      "Epoch 137 | Loss 0.031 | Accuracy (validation) 0.772 | Elapsed time: 1.56s\n",
      "Epoch 138 | Loss 0.031 | Accuracy (validation) 0.772 | Elapsed time: 1.57s\n",
      "Epoch 139 | Loss 0.031 | Accuracy (validation) 0.772 | Elapsed time: 1.56s\n",
      "Epoch 140 | Loss 0.030 | Accuracy (validation) 0.772 | Elapsed time: 1.56s\n",
      "Epoch 141 | Loss 0.030 | Accuracy (validation) 0.772 | Elapsed time: 1.56s\n",
      "Epoch 142 | Loss 0.030 | Accuracy (validation) 0.772 | Elapsed time: 1.57s\n",
      "Epoch 143 | Loss 0.030 | Accuracy (validation) 0.774 | Elapsed time: 1.56s\n",
      "Epoch 144 | Loss 0.030 | Accuracy (validation) 0.774 | Elapsed time: 1.56s\n",
      "Epoch 145 | Loss 0.030 | Accuracy (validation) 0.776 | Elapsed time: 1.57s\n",
      "Epoch 146 | Loss 0.030 | Accuracy (validation) 0.776 | Elapsed time: 1.57s\n",
      "Epoch 147 | Loss 0.029 | Accuracy (validation) 0.776 | Elapsed time: 1.57s\n",
      "Epoch 148 | Loss 0.029 | Accuracy (validation) 0.778 | Elapsed time: 1.57s\n",
      "Epoch 149 | Loss 0.029 | Accuracy (validation) 0.778 | Elapsed time: 1.57s\n",
      "Epoch 150 | Loss 0.029 | Accuracy (validation) 0.780 | Elapsed time: 1.57s\n",
      "Epoch 151 | Loss 0.029 | Accuracy (validation) 0.780 | Elapsed time: 1.57s\n",
      "Epoch 152 | Loss 0.029 | Accuracy (validation) 0.780 | Elapsed time: 1.57s\n",
      "Epoch 153 | Loss 0.029 | Accuracy (validation) 0.780 | Elapsed time: 1.57s\n",
      "Epoch 154 | Loss 0.029 | Accuracy (validation) 0.780 | Elapsed time: 1.56s\n",
      "Epoch 155 | Loss 0.028 | Accuracy (validation) 0.782 | Elapsed time: 1.57s\n",
      "Epoch 156 | Loss 0.028 | Accuracy (validation) 0.782 | Elapsed time: 1.56s\n",
      "Epoch 157 | Loss 0.028 | Accuracy (validation) 0.784 | Elapsed time: 1.57s\n",
      "Epoch 158 | Loss 0.028 | Accuracy (validation) 0.784 | Elapsed time: 1.57s\n",
      "Epoch 159 | Loss 0.028 | Accuracy (validation) 0.784 | Elapsed time: 1.56s\n",
      "Epoch 160 | Loss 0.028 | Accuracy (validation) 0.784 | Elapsed time: 1.56s\n",
      "Epoch 161 | Loss 0.028 | Accuracy (validation) 0.784 | Elapsed time: 1.56s\n",
      "Epoch 162 | Loss 0.028 | Accuracy (validation) 0.784 | Elapsed time: 1.56s\n",
      "Epoch 163 | Loss 0.028 | Accuracy (validation) 0.784 | Elapsed time: 1.56s\n",
      "Epoch 164 | Loss 0.027 | Accuracy (validation) 0.784 | Elapsed time: 1.57s\n",
      "Epoch 165 | Loss 0.027 | Accuracy (validation) 0.782 | Elapsed time: 1.57s\n",
      "Epoch 166 | Loss 0.027 | Accuracy (validation) 0.782 | Elapsed time: 1.57s\n",
      "Epoch 167 | Loss 0.027 | Accuracy (validation) 0.782 | Elapsed time: 1.56s\n",
      "Epoch 168 | Loss 0.027 | Accuracy (validation) 0.782 | Elapsed time: 1.56s\n",
      "Epoch 169 | Loss 0.027 | Accuracy (validation) 0.782 | Elapsed time: 1.56s\n",
      "Epoch 170 | Loss 0.027 | Accuracy (validation) 0.782 | Elapsed time: 1.57s\n",
      "Epoch 171 | Loss 0.027 | Accuracy (validation) 0.782 | Elapsed time: 1.56s\n",
      "Epoch 172 | Loss 0.027 | Accuracy (validation) 0.780 | Elapsed time: 1.56s\n",
      "Epoch 173 | Loss 0.027 | Accuracy (validation) 0.782 | Elapsed time: 1.56s\n",
      "Epoch 174 | Loss 0.026 | Accuracy (validation) 0.782 | Elapsed time: 1.56s\n",
      "Epoch 175 | Loss 0.026 | Accuracy (validation) 0.782 | Elapsed time: 1.57s\n",
      "Epoch 176 | Loss 0.026 | Accuracy (validation) 0.782 | Elapsed time: 1.57s\n",
      "Epoch 177 | Loss 0.026 | Accuracy (validation) 0.782 | Elapsed time: 1.58s\n",
      "Epoch 178 | Loss 0.026 | Accuracy (validation) 0.782 | Elapsed time: 1.57s\n",
      "Epoch 179 | Loss 0.026 | Accuracy (validation) 0.784 | Elapsed time: 1.56s\n",
      "Epoch 180 | Loss 0.026 | Accuracy (validation) 0.784 | Elapsed time: 1.56s\n",
      "Epoch 181 | Loss 0.026 | Accuracy (validation) 0.784 | Elapsed time: 1.57s\n",
      "Epoch 182 | Loss 0.026 | Accuracy (validation) 0.784 | Elapsed time: 1.57s\n",
      "Epoch 183 | Loss 0.026 | Accuracy (validation) 0.784 | Elapsed time: 1.57s\n",
      "Epoch 184 | Loss 0.025 | Accuracy (validation) 0.782 | Elapsed time: 1.57s\n",
      "Epoch 185 | Loss 0.025 | Accuracy (validation) 0.780 | Elapsed time: 1.57s\n",
      "Epoch 186 | Loss 0.025 | Accuracy (validation) 0.780 | Elapsed time: 1.57s\n",
      "Epoch 187 | Loss 0.025 | Accuracy (validation) 0.782 | Elapsed time: 1.57s\n",
      "Epoch 188 | Loss 0.025 | Accuracy (validation) 0.782 | Elapsed time: 1.57s\n",
      "Epoch 189 | Loss 0.025 | Accuracy (validation) 0.782 | Elapsed time: 1.57s\n",
      "Epoch 190 | Loss 0.025 | Accuracy (validation) 0.782 | Elapsed time: 1.57s\n",
      "Epoch 191 | Loss 0.025 | Accuracy (validation) 0.782 | Elapsed time: 1.57s\n",
      "Epoch 192 | Loss 0.025 | Accuracy (validation) 0.784 | Elapsed time: 1.57s\n",
      "Epoch 193 | Loss 0.025 | Accuracy (validation) 0.784 | Elapsed time: 1.57s\n",
      "Epoch 194 | Loss 0.025 | Accuracy (validation) 0.784 | Elapsed time: 1.57s\n",
      "Epoch 195 | Loss 0.025 | Accuracy (validation) 0.782 | Elapsed time: 1.57s\n",
      "Epoch 196 | Loss 0.024 | Accuracy (validation) 0.782 | Elapsed time: 1.57s\n",
      "Epoch 197 | Loss 0.024 | Accuracy (validation) 0.782 | Elapsed time: 1.56s\n",
      "Epoch 198 | Loss 0.024 | Accuracy (validation) 0.782 | Elapsed time: 1.57s\n",
      "Epoch 199 | Loss 0.024 | Accuracy (validation) 0.782 | Elapsed time: 1.57s\n"
     ]
    }
   ],
   "source": [
    "# Train the model\n",
    "epochs=200\n",
    "loss_values, val_score, train_score = utils.train(model, optimizer, edge_index, features, labels, train_mask, val_mask, epochs, verbose=True)"
   ]
  },
  {
   "cell_type": "code",
   "execution_count": 57,
   "metadata": {},
   "outputs": [
    {
     "name": "stdout",
     "output_type": "stream",
     "text": [
      "Test accuracy 0.788\n"
     ]
    }
   ],
   "source": [
    "test_score = utils.eval_pytorch_geometric_model(model, edge_index, features, labels, test_mask)\n",
    "print(\"Test accuracy {:.3f}\".format(test_score))"
   ]
  },
  {
   "cell_type": "code",
   "execution_count": 58,
   "metadata": {},
   "outputs": [],
   "source": [
    "results = {'model': 'CayleyNet',\n",
    "           'dataset': dataset.name,\n",
    "           'training size': len(train_mask),\n",
    "           'validation size': len(val_mask),\n",
    "           'test size': len(test_mask),\n",
    "           'n hidden nodes': n_hidden,\n",
    "           'n hidden layers': n_hidden_layers,\n",
    "           'polynomial order': r,\n",
    "           'laplacian normalization': normalization,\n",
    "           'dropout probability': p_dropout,\n",
    "           'learning rate': lr,\n",
    "           'weight decay': weight_decay,\n",
    "           'n epochs': epochs,\n",
    "           'loss': loss_values,\n",
    "           'train accuracy': train_score,\n",
    "           'validation accuracy': val_score,\n",
    "           'test accuracy': test_score\n",
    "           }"
   ]
  },
  {
   "cell_type": "code",
   "execution_count": 63,
   "metadata": {},
   "outputs": [],
   "source": [
    "loaded_results = utils.save_results(results, 'cayley')\n",
    "# loaded_results = utils.load_results(fname)"
   ]
  },
  {
   "cell_type": "code",
   "execution_count": 64,
   "metadata": {},
   "outputs": [
    {
     "data": {
      "image/png": "[encoded data removed]",
      "text/plain": [
       "<Figure size 400x400 with 1 Axes>"
      ]
     },
     "metadata": {},
     "output_type": "display_data"
    }
   ],
   "source": [
    "utils.plot_accuracy(loaded_results['train accuracy'], loaded_results['validation accuracy'])"
   ]
  },
  {
   "cell_type": "code",
   "execution_count": 65,
   "metadata": {},
   "outputs": [
    {
     "data": {
      "image/png": "[encoded data removed]",
      "text/plain": [
       "<Figure size 400x400 with 1 Axes>"
      ]
     },
     "metadata": {},
     "output_type": "display_data"
    }
   ],
   "source": [
    "utils.plot_loss(loaded_results['loss'])"
   ]
  },
  {
   "cell_type": "code",
   "execution_count": 66,
   "metadata": {},
   "outputs": [
    {
     "name": "stdout",
     "output_type": "stream",
     "text": [
      "Test accuracy 0.788\n"
     ]
    }
   ],
   "source": [
    "print(\"Test accuracy {:.3f}\".format(loaded_results['test accuracy']))"
   ]
  },
  {
   "cell_type": "markdown",
   "metadata": {},
   "source": [
    "# Community detection"
   ]
  },
  {
   "cell_type": "code",
   "execution_count": 67,
   "metadata": {},
   "outputs": [],
   "source": [
    "# Import dataset\n",
    "n_community=15\n",
    "p=0.5\n",
    "q=0.001\n",
    "n=1000\n",
    "dataset = CommunitiesGraph.CommunitiesGraph(n_community, p, q, n)"
   ]
  },
  {
   "cell_type": "code",
   "execution_count": 68,
   "metadata": {},
   "outputs": [
    {
     "name": "stdout",
     "output_type": "stream",
     "text": [
      "Communities dataset\n",
      "Number of nodes: 1000\n",
      "Number of edges: 33810\n",
      "Number of features per node: 1\n"
     ]
    }
   ],
   "source": [
    "dataset.print_properties()"
   ]
  },
  {
   "cell_type": "code",
   "execution_count": 70,
   "metadata": {},
   "outputs": [],
   "source": [
    "# Train/test/validation split\n",
    "train_mask, test_mask, val_mask = utils.split_train_test_val(dataset.n, 0.2, 0.1) "
   ]
  },
  {
   "cell_type": "code",
   "execution_count": 71,
   "metadata": {},
   "outputs": [],
   "source": [
    "# Features and labels as tensors\n",
    "features = torch.Tensor(1.0*dataset.features).to(device)\n",
    "labels = torch.Tensor(dataset.labels).long().to(device)\n",
    "edge_index = dataset.get_edge_index().to(device)\n",
    "\n",
    "# Masks as tensors\n",
    "train_mask = torch.Tensor(train_mask).bool().to(device)\n",
    "test_mask = torch.Tensor(test_mask).bool().to(device)\n",
    "val_mask = torch.Tensor(val_mask).bool().to(device)"
   ]
  },
  {
   "cell_type": "markdown",
   "metadata": {},
   "source": [
    "## ChebNet"
   ]
  },
  {
   "cell_type": "code",
   "execution_count": 95,
   "metadata": {},
   "outputs": [],
   "source": [
    "# Hyperparameters (Section 4.5)\n",
    "in_feats = dataset.n_features\n",
    "n_classes = dataset.n_classes\n",
    "n_hidden = 32\n",
    "n_hidden_layers = 1 # number of hidden layers\n",
    "k = 10 # Chebshev polynomial order "
   ]
  },
  {
   "cell_type": "code",
   "execution_count": 96,
   "metadata": {},
   "outputs": [],
   "source": [
    "p_dropout=0.5\n",
    "normalization = 'sym'\n",
    "model = ChebNet.ChebNet(in_feats, n_classes, n_hidden, n_hidden_layers, \n",
    "                        k=k, p_dropout=p_dropout, normalization=normalization).to(device)"
   ]
  },
  {
   "cell_type": "code",
   "execution_count": 97,
   "metadata": {},
   "outputs": [
    {
     "name": "stdout",
     "output_type": "stream",
     "text": [
      "ChebNet(\n",
      "  (layers): ModuleList(\n",
      "    (0): ChebConv(1, 32, K=10, normalization=sym)\n",
      "    (1): ChebConv(32, 15, K=10, normalization=sym)\n",
      "  )\n",
      ")\n",
      "Number of parameters: 5120\n",
      "Number of parameters: 320\n",
      "Number of parameters: 4800\n"
     ]
    }
   ],
   "source": [
    "print(model)\n",
    "print(f'Number of parameters: {sum(p.numel() for p in model.parameters())}')\n",
    "print(f'Number of parameters: {sum(p.numel() for p in model.layers[0].parameters())}')\n",
    "print(f'Number of parameters: {sum(p.numel() for p in model.layers[1].parameters())}')           "
   ]
  },
  {
   "cell_type": "code",
   "execution_count": 98,
   "metadata": {},
   "outputs": [],
   "source": [
    "# Optimizer\n",
    "lr = 5e-3\n",
    "weight_decay = 5e-4\n",
    "optimizer = torch.optim.Adam(model.parameters(), lr=lr, weight_decay=weight_decay)"
   ]
  },
  {
   "cell_type": "code",
   "execution_count": 99,
   "metadata": {},
   "outputs": [
    {
     "name": "stdout",
     "output_type": "stream",
     "text": [
      "Epoch 00 | Loss 5.743 | Accuracy (validation) 0.060 | Elapsed time: 0.03s\n",
      "Epoch 01 | Loss 4.398 | Accuracy (validation) 0.060 | Elapsed time: 0.02s\n",
      "Epoch 02 | Loss 3.616 | Accuracy (validation) 0.060 | Elapsed time: 0.02s\n",
      "Epoch 03 | Loss 3.163 | Accuracy (validation) 0.060 | Elapsed time: 0.02s\n",
      "Epoch 04 | Loss 2.939 | Accuracy (validation) 0.080 | Elapsed time: 0.02s\n",
      "Epoch 05 | Loss 2.834 | Accuracy (validation) 0.050 | Elapsed time: 0.02s\n",
      "Epoch 06 | Loss 2.788 | Accuracy (validation) 0.040 | Elapsed time: 0.02s\n",
      "Epoch 07 | Loss 2.767 | Accuracy (validation) 0.040 | Elapsed time: 0.02s\n",
      "Epoch 08 | Loss 2.757 | Accuracy (validation) 0.040 | Elapsed time: 0.02s\n",
      "Epoch 09 | Loss 2.754 | Accuracy (validation) 0.030 | Elapsed time: 0.02s\n",
      "Epoch 10 | Loss 2.760 | Accuracy (validation) 0.070 | Elapsed time: 0.02s\n",
      "Epoch 11 | Loss 2.772 | Accuracy (validation) 0.070 | Elapsed time: 0.02s\n",
      "Epoch 12 | Loss 2.784 | Accuracy (validation) 0.070 | Elapsed time: 0.02s\n",
      "Epoch 13 | Loss 2.791 | Accuracy (validation) 0.070 | Elapsed time: 0.02s\n",
      "Epoch 14 | Loss 2.792 | Accuracy (validation) 0.100 | Elapsed time: 0.02s\n",
      "Epoch 15 | Loss 2.788 | Accuracy (validation) 0.130 | Elapsed time: 0.02s\n",
      "Epoch 16 | Loss 2.779 | Accuracy (validation) 0.060 | Elapsed time: 0.02s\n",
      "Epoch 17 | Loss 2.770 | Accuracy (validation) 0.060 | Elapsed time: 0.02s\n",
      "Epoch 18 | Loss 2.760 | Accuracy (validation) 0.090 | Elapsed time: 0.02s\n",
      "Epoch 19 | Loss 2.752 | Accuracy (validation) 0.040 | Elapsed time: 0.02s\n",
      "Epoch 20 | Loss 2.746 | Accuracy (validation) 0.040 | Elapsed time: 0.02s\n",
      "Epoch 21 | Loss 2.740 | Accuracy (validation) 0.030 | Elapsed time: 0.02s\n",
      "Epoch 22 | Loss 2.735 | Accuracy (validation) 0.040 | Elapsed time: 0.02s\n",
      "Epoch 23 | Loss 2.729 | Accuracy (validation) 0.040 | Elapsed time: 0.02s\n",
      "Epoch 24 | Loss 2.724 | Accuracy (validation) 0.040 | Elapsed time: 0.02s\n",
      "Epoch 25 | Loss 2.718 | Accuracy (validation) 0.040 | Elapsed time: 0.02s\n",
      "Epoch 26 | Loss 2.712 | Accuracy (validation) 0.040 | Elapsed time: 0.02s\n",
      "Epoch 27 | Loss 2.706 | Accuracy (validation) 0.040 | Elapsed time: 0.02s\n",
      "Epoch 28 | Loss 2.700 | Accuracy (validation) 0.040 | Elapsed time: 0.02s\n",
      "Epoch 29 | Loss 2.694 | Accuracy (validation) 0.040 | Elapsed time: 0.02s\n",
      "Epoch 30 | Loss 2.688 | Accuracy (validation) 0.040 | Elapsed time: 0.02s\n",
      "Epoch 31 | Loss 2.683 | Accuracy (validation) 0.040 | Elapsed time: 0.02s\n",
      "Epoch 32 | Loss 2.679 | Accuracy (validation) 0.070 | Elapsed time: 0.02s\n",
      "Epoch 33 | Loss 2.675 | Accuracy (validation) 0.070 | Elapsed time: 0.02s\n",
      "Epoch 34 | Loss 2.673 | Accuracy (validation) 0.070 | Elapsed time: 0.02s\n",
      "Epoch 35 | Loss 2.671 | Accuracy (validation) 0.070 | Elapsed time: 0.02s\n",
      "Epoch 36 | Loss 2.669 | Accuracy (validation) 0.070 | Elapsed time: 0.02s\n",
      "Epoch 37 | Loss 2.667 | Accuracy (validation) 0.070 | Elapsed time: 0.02s\n",
      "Epoch 38 | Loss 2.664 | Accuracy (validation) 0.070 | Elapsed time: 0.02s\n",
      "Epoch 39 | Loss 2.662 | Accuracy (validation) 0.050 | Elapsed time: 0.02s\n",
      "Epoch 40 | Loss 2.660 | Accuracy (validation) 0.040 | Elapsed time: 0.02s\n",
      "Epoch 41 | Loss 2.658 | Accuracy (validation) 0.040 | Elapsed time: 0.02s\n",
      "Epoch 42 | Loss 2.657 | Accuracy (validation) 0.040 | Elapsed time: 0.02s\n",
      "Epoch 43 | Loss 2.656 | Accuracy (validation) 0.040 | Elapsed time: 0.02s\n",
      "Epoch 44 | Loss 2.654 | Accuracy (validation) 0.040 | Elapsed time: 0.02s\n",
      "Epoch 45 | Loss 2.652 | Accuracy (validation) 0.040 | Elapsed time: 0.02s\n",
      "Epoch 46 | Loss 2.650 | Accuracy (validation) 0.040 | Elapsed time: 0.02s\n",
      "Epoch 47 | Loss 2.649 | Accuracy (validation) 0.040 | Elapsed time: 0.02s\n",
      "Epoch 48 | Loss 2.648 | Accuracy (validation) 0.040 | Elapsed time: 0.02s\n",
      "Epoch 49 | Loss 2.647 | Accuracy (validation) 0.040 | Elapsed time: 0.02s\n",
      "Epoch 50 | Loss 2.646 | Accuracy (validation) 0.050 | Elapsed time: 0.02s\n",
      "Epoch 51 | Loss 2.645 | Accuracy (validation) 0.050 | Elapsed time: 0.02s\n",
      "Epoch 52 | Loss 2.645 | Accuracy (validation) 0.050 | Elapsed time: 0.02s\n",
      "Epoch 53 | Loss 2.644 | Accuracy (validation) 0.050 | Elapsed time: 0.02s\n",
      "Epoch 54 | Loss 2.643 | Accuracy (validation) 0.050 | Elapsed time: 0.02s\n",
      "Epoch 55 | Loss 2.641 | Accuracy (validation) 0.050 | Elapsed time: 0.02s\n",
      "Epoch 56 | Loss 2.640 | Accuracy (validation) 0.050 | Elapsed time: 0.02s\n",
      "Epoch 57 | Loss 2.639 | Accuracy (validation) 0.040 | Elapsed time: 0.02s\n",
      "Epoch 58 | Loss 2.638 | Accuracy (validation) 0.040 | Elapsed time: 0.02s\n",
      "Epoch 59 | Loss 2.636 | Accuracy (validation) 0.040 | Elapsed time: 0.02s\n",
      "Epoch 60 | Loss 2.635 | Accuracy (validation) 0.040 | Elapsed time: 0.02s\n",
      "Epoch 61 | Loss 2.634 | Accuracy (validation) 0.040 | Elapsed time: 0.02s\n",
      "Epoch 62 | Loss 2.633 | Accuracy (validation) 0.040 | Elapsed time: 0.02s\n",
      "Epoch 63 | Loss 2.632 | Accuracy (validation) 0.050 | Elapsed time: 0.02s\n",
      "Epoch 64 | Loss 2.630 | Accuracy (validation) 0.050 | Elapsed time: 0.02s\n",
      "Epoch 65 | Loss 2.629 | Accuracy (validation) 0.050 | Elapsed time: 0.02s\n",
      "Epoch 66 | Loss 2.628 | Accuracy (validation) 0.050 | Elapsed time: 0.02s\n",
      "Epoch 67 | Loss 2.626 | Accuracy (validation) 0.050 | Elapsed time: 0.02s\n",
      "Epoch 68 | Loss 2.625 | Accuracy (validation) 0.040 | Elapsed time: 0.02s\n",
      "Epoch 69 | Loss 2.623 | Accuracy (validation) 0.050 | Elapsed time: 0.02s\n",
      "Epoch 70 | Loss 2.622 | Accuracy (validation) 0.050 | Elapsed time: 0.02s\n",
      "Epoch 71 | Loss 2.620 | Accuracy (validation) 0.050 | Elapsed time: 0.02s\n",
      "Epoch 72 | Loss 2.618 | Accuracy (validation) 0.050 | Elapsed time: 0.02s\n",
      "Epoch 73 | Loss 2.616 | Accuracy (validation) 0.070 | Elapsed time: 0.02s\n",
      "Epoch 74 | Loss 2.614 | Accuracy (validation) 0.070 | Elapsed time: 0.02s\n",
      "Epoch 75 | Loss 2.612 | Accuracy (validation) 0.090 | Elapsed time: 0.02s\n",
      "Epoch 76 | Loss 2.609 | Accuracy (validation) 0.090 | Elapsed time: 0.02s\n",
      "Epoch 77 | Loss 2.607 | Accuracy (validation) 0.090 | Elapsed time: 0.02s\n",
      "Epoch 78 | Loss 2.604 | Accuracy (validation) 0.080 | Elapsed time: 0.02s\n",
      "Epoch 79 | Loss 2.601 | Accuracy (validation) 0.100 | Elapsed time: 0.02s\n",
      "Epoch 80 | Loss 2.598 | Accuracy (validation) 0.120 | Elapsed time: 0.02s\n",
      "Epoch 81 | Loss 2.594 | Accuracy (validation) 0.130 | Elapsed time: 0.02s\n",
      "Epoch 82 | Loss 2.590 | Accuracy (validation) 0.140 | Elapsed time: 0.02s\n",
      "Epoch 83 | Loss 2.586 | Accuracy (validation) 0.130 | Elapsed time: 0.02s\n",
      "Epoch 84 | Loss 2.582 | Accuracy (validation) 0.130 | Elapsed time: 0.02s\n",
      "Epoch 85 | Loss 2.577 | Accuracy (validation) 0.150 | Elapsed time: 0.02s\n",
      "Epoch 86 | Loss 2.572 | Accuracy (validation) 0.150 | Elapsed time: 0.02s\n",
      "Epoch 87 | Loss 2.566 | Accuracy (validation) 0.150 | Elapsed time: 0.02s\n",
      "Epoch 88 | Loss 2.560 | Accuracy (validation) 0.150 | Elapsed time: 0.02s\n",
      "Epoch 89 | Loss 2.554 | Accuracy (validation) 0.150 | Elapsed time: 0.02s\n",
      "Epoch 90 | Loss 2.547 | Accuracy (validation) 0.160 | Elapsed time: 0.02s\n",
      "Epoch 91 | Loss 2.540 | Accuracy (validation) 0.170 | Elapsed time: 0.02s\n",
      "Epoch 92 | Loss 2.532 | Accuracy (validation) 0.170 | Elapsed time: 0.02s\n",
      "Epoch 93 | Loss 2.524 | Accuracy (validation) 0.170 | Elapsed time: 0.02s\n",
      "Epoch 94 | Loss 2.516 | Accuracy (validation) 0.170 | Elapsed time: 0.02s\n",
      "Epoch 95 | Loss 2.508 | Accuracy (validation) 0.180 | Elapsed time: 0.02s\n",
      "Epoch 96 | Loss 2.499 | Accuracy (validation) 0.180 | Elapsed time: 0.02s\n",
      "Epoch 97 | Loss 2.489 | Accuracy (validation) 0.170 | Elapsed time: 0.02s\n",
      "Epoch 98 | Loss 2.480 | Accuracy (validation) 0.170 | Elapsed time: 0.02s\n",
      "Epoch 99 | Loss 2.470 | Accuracy (validation) 0.180 | Elapsed time: 0.02s\n",
      "Epoch 100 | Loss 2.460 | Accuracy (validation) 0.180 | Elapsed time: 0.02s\n",
      "Epoch 101 | Loss 2.450 | Accuracy (validation) 0.180 | Elapsed time: 0.02s\n",
      "Epoch 102 | Loss 2.439 | Accuracy (validation) 0.180 | Elapsed time: 0.02s\n",
      "Epoch 103 | Loss 2.428 | Accuracy (validation) 0.180 | Elapsed time: 0.02s\n",
      "Epoch 104 | Loss 2.417 | Accuracy (validation) 0.180 | Elapsed time: 0.02s\n",
      "Epoch 105 | Loss 2.406 | Accuracy (validation) 0.180 | Elapsed time: 0.02s\n",
      "Epoch 106 | Loss 2.395 | Accuracy (validation) 0.190 | Elapsed time: 0.02s\n",
      "Epoch 107 | Loss 2.384 | Accuracy (validation) 0.190 | Elapsed time: 0.02s\n",
      "Epoch 108 | Loss 2.372 | Accuracy (validation) 0.200 | Elapsed time: 0.02s\n",
      "Epoch 109 | Loss 2.361 | Accuracy (validation) 0.200 | Elapsed time: 0.02s\n",
      "Epoch 110 | Loss 2.349 | Accuracy (validation) 0.210 | Elapsed time: 0.02s\n",
      "Epoch 111 | Loss 2.337 | Accuracy (validation) 0.210 | Elapsed time: 0.02s\n",
      "Epoch 112 | Loss 2.326 | Accuracy (validation) 0.210 | Elapsed time: 0.02s\n",
      "Epoch 113 | Loss 2.314 | Accuracy (validation) 0.210 | Elapsed time: 0.02s\n",
      "Epoch 114 | Loss 2.302 | Accuracy (validation) 0.220 | Elapsed time: 0.02s\n",
      "Epoch 115 | Loss 2.291 | Accuracy (validation) 0.220 | Elapsed time: 0.02s\n",
      "Epoch 116 | Loss 2.279 | Accuracy (validation) 0.230 | Elapsed time: 0.02s\n",
      "Epoch 117 | Loss 2.267 | Accuracy (validation) 0.230 | Elapsed time: 0.02s\n",
      "Epoch 118 | Loss 2.256 | Accuracy (validation) 0.230 | Elapsed time: 0.02s\n",
      "Epoch 119 | Loss 2.244 | Accuracy (validation) 0.250 | Elapsed time: 0.02s\n",
      "Epoch 120 | Loss 2.233 | Accuracy (validation) 0.240 | Elapsed time: 0.02s\n",
      "Epoch 121 | Loss 2.221 | Accuracy (validation) 0.250 | Elapsed time: 0.02s\n",
      "Epoch 122 | Loss 2.210 | Accuracy (validation) 0.250 | Elapsed time: 0.02s\n",
      "Epoch 123 | Loss 2.199 | Accuracy (validation) 0.270 | Elapsed time: 0.02s\n",
      "Epoch 124 | Loss 2.188 | Accuracy (validation) 0.250 | Elapsed time: 0.02s\n",
      "Epoch 125 | Loss 2.177 | Accuracy (validation) 0.260 | Elapsed time: 0.02s\n",
      "Epoch 126 | Loss 2.167 | Accuracy (validation) 0.260 | Elapsed time: 0.02s\n",
      "Epoch 127 | Loss 2.156 | Accuracy (validation) 0.290 | Elapsed time: 0.02s\n",
      "Epoch 128 | Loss 2.146 | Accuracy (validation) 0.280 | Elapsed time: 0.02s\n",
      "Epoch 129 | Loss 2.136 | Accuracy (validation) 0.280 | Elapsed time: 0.02s\n",
      "Epoch 130 | Loss 2.127 | Accuracy (validation) 0.290 | Elapsed time: 0.02s\n",
      "Epoch 131 | Loss 2.117 | Accuracy (validation) 0.290 | Elapsed time: 0.02s\n",
      "Epoch 132 | Loss 2.107 | Accuracy (validation) 0.300 | Elapsed time: 0.02s\n",
      "Epoch 133 | Loss 2.098 | Accuracy (validation) 0.300 | Elapsed time: 0.02s\n",
      "Epoch 134 | Loss 2.089 | Accuracy (validation) 0.340 | Elapsed time: 0.02s\n",
      "Epoch 135 | Loss 2.080 | Accuracy (validation) 0.360 | Elapsed time: 0.02s\n",
      "Epoch 136 | Loss 2.071 | Accuracy (validation) 0.320 | Elapsed time: 0.02s\n",
      "Epoch 137 | Loss 2.062 | Accuracy (validation) 0.380 | Elapsed time: 0.02s\n",
      "Epoch 138 | Loss 2.053 | Accuracy (validation) 0.350 | Elapsed time: 0.02s\n",
      "Epoch 139 | Loss 2.044 | Accuracy (validation) 0.370 | Elapsed time: 0.02s\n",
      "Epoch 140 | Loss 2.035 | Accuracy (validation) 0.370 | Elapsed time: 0.02s\n",
      "Epoch 141 | Loss 2.027 | Accuracy (validation) 0.350 | Elapsed time: 0.02s\n",
      "Epoch 142 | Loss 2.018 | Accuracy (validation) 0.380 | Elapsed time: 0.02s\n",
      "Epoch 143 | Loss 2.010 | Accuracy (validation) 0.370 | Elapsed time: 0.02s\n",
      "Epoch 144 | Loss 2.001 | Accuracy (validation) 0.380 | Elapsed time: 0.02s\n",
      "Epoch 145 | Loss 1.993 | Accuracy (validation) 0.380 | Elapsed time: 0.02s\n",
      "Epoch 146 | Loss 1.985 | Accuracy (validation) 0.380 | Elapsed time: 0.02s\n",
      "Epoch 147 | Loss 1.977 | Accuracy (validation) 0.390 | Elapsed time: 0.02s\n",
      "Epoch 148 | Loss 1.969 | Accuracy (validation) 0.390 | Elapsed time: 0.02s\n",
      "Epoch 149 | Loss 1.961 | Accuracy (validation) 0.380 | Elapsed time: 0.02s\n",
      "Epoch 150 | Loss 1.953 | Accuracy (validation) 0.400 | Elapsed time: 0.02s\n",
      "Epoch 151 | Loss 1.945 | Accuracy (validation) 0.390 | Elapsed time: 0.02s\n",
      "Epoch 152 | Loss 1.937 | Accuracy (validation) 0.410 | Elapsed time: 0.02s\n",
      "Epoch 153 | Loss 1.930 | Accuracy (validation) 0.400 | Elapsed time: 0.02s\n",
      "Epoch 154 | Loss 1.922 | Accuracy (validation) 0.440 | Elapsed time: 0.02s\n",
      "Epoch 155 | Loss 1.914 | Accuracy (validation) 0.430 | Elapsed time: 0.02s\n",
      "Epoch 156 | Loss 1.907 | Accuracy (validation) 0.440 | Elapsed time: 0.02s\n",
      "Epoch 157 | Loss 1.900 | Accuracy (validation) 0.450 | Elapsed time: 0.02s\n",
      "Epoch 158 | Loss 1.892 | Accuracy (validation) 0.460 | Elapsed time: 0.02s\n",
      "Epoch 159 | Loss 1.885 | Accuracy (validation) 0.480 | Elapsed time: 0.02s\n",
      "Epoch 160 | Loss 1.878 | Accuracy (validation) 0.440 | Elapsed time: 0.02s\n",
      "Epoch 161 | Loss 1.871 | Accuracy (validation) 0.460 | Elapsed time: 0.02s\n",
      "Epoch 162 | Loss 1.864 | Accuracy (validation) 0.440 | Elapsed time: 0.02s\n",
      "Epoch 163 | Loss 1.859 | Accuracy (validation) 0.490 | Elapsed time: 0.02s\n",
      "Epoch 164 | Loss 1.852 | Accuracy (validation) 0.480 | Elapsed time: 0.02s\n",
      "Epoch 165 | Loss 1.844 | Accuracy (validation) 0.490 | Elapsed time: 0.02s\n",
      "Epoch 166 | Loss 1.838 | Accuracy (validation) 0.490 | Elapsed time: 0.02s\n",
      "Epoch 167 | Loss 1.833 | Accuracy (validation) 0.480 | Elapsed time: 0.02s\n",
      "Epoch 168 | Loss 1.827 | Accuracy (validation) 0.510 | Elapsed time: 0.02s\n",
      "Epoch 169 | Loss 1.820 | Accuracy (validation) 0.490 | Elapsed time: 0.02s\n",
      "Epoch 170 | Loss 1.814 | Accuracy (validation) 0.490 | Elapsed time: 0.02s\n",
      "Epoch 171 | Loss 1.809 | Accuracy (validation) 0.520 | Elapsed time: 0.02s\n",
      "Epoch 172 | Loss 1.803 | Accuracy (validation) 0.530 | Elapsed time: 0.02s\n",
      "Epoch 173 | Loss 1.797 | Accuracy (validation) 0.500 | Elapsed time: 0.02s\n",
      "Epoch 174 | Loss 1.792 | Accuracy (validation) 0.520 | Elapsed time: 0.02s\n",
      "Epoch 175 | Loss 1.786 | Accuracy (validation) 0.520 | Elapsed time: 0.02s\n",
      "Epoch 176 | Loss 1.780 | Accuracy (validation) 0.520 | Elapsed time: 0.02s\n",
      "Epoch 177 | Loss 1.775 | Accuracy (validation) 0.530 | Elapsed time: 0.02s\n",
      "Epoch 178 | Loss 1.770 | Accuracy (validation) 0.530 | Elapsed time: 0.02s\n",
      "Epoch 179 | Loss 1.764 | Accuracy (validation) 0.530 | Elapsed time: 0.02s\n",
      "Epoch 180 | Loss 1.759 | Accuracy (validation) 0.550 | Elapsed time: 0.02s\n",
      "Epoch 181 | Loss 1.754 | Accuracy (validation) 0.540 | Elapsed time: 0.02s\n",
      "Epoch 182 | Loss 1.749 | Accuracy (validation) 0.560 | Elapsed time: 0.02s\n",
      "Epoch 183 | Loss 1.743 | Accuracy (validation) 0.560 | Elapsed time: 0.02s\n",
      "Epoch 184 | Loss 1.738 | Accuracy (validation) 0.560 | Elapsed time: 0.02s\n",
      "Epoch 185 | Loss 1.733 | Accuracy (validation) 0.570 | Elapsed time: 0.02s\n",
      "Epoch 186 | Loss 1.728 | Accuracy (validation) 0.570 | Elapsed time: 0.02s\n",
      "Epoch 187 | Loss 1.723 | Accuracy (validation) 0.560 | Elapsed time: 0.02s\n",
      "Epoch 188 | Loss 1.718 | Accuracy (validation) 0.570 | Elapsed time: 0.02s\n",
      "Epoch 189 | Loss 1.713 | Accuracy (validation) 0.580 | Elapsed time: 0.02s\n",
      "Epoch 190 | Loss 1.708 | Accuracy (validation) 0.580 | Elapsed time: 0.02s\n",
      "Epoch 191 | Loss 1.703 | Accuracy (validation) 0.580 | Elapsed time: 0.02s\n",
      "Epoch 192 | Loss 1.698 | Accuracy (validation) 0.590 | Elapsed time: 0.02s\n",
      "Epoch 193 | Loss 1.693 | Accuracy (validation) 0.610 | Elapsed time: 0.02s\n",
      "Epoch 194 | Loss 1.688 | Accuracy (validation) 0.600 | Elapsed time: 0.02s\n",
      "Epoch 195 | Loss 1.683 | Accuracy (validation) 0.600 | Elapsed time: 0.02s\n",
      "Epoch 196 | Loss 1.678 | Accuracy (validation) 0.610 | Elapsed time: 0.02s\n",
      "Epoch 197 | Loss 1.673 | Accuracy (validation) 0.610 | Elapsed time: 0.02s\n",
      "Epoch 198 | Loss 1.669 | Accuracy (validation) 0.620 | Elapsed time: 0.02s\n",
      "Epoch 199 | Loss 1.664 | Accuracy (validation) 0.610 | Elapsed time: 0.02s\n",
      "\n",
      "Test accuracy 0.600\n"
     ]
    }
   ],
   "source": [
    "# Train the model\n",
    "epochs=200\n",
    "loss_values, val_score, train_score = utils.train(model, optimizer, \n",
    "                                                  edge_index, features, labels, \n",
    "                                                  train_mask, val_mask, epochs, verbose=True)\n",
    "\n",
    "test_score = utils.eval_pytorch_geometric_model(model, edge_index, features, labels, test_mask)\n",
    "print(\"\\nTest accuracy {:.3f}\".format(test_score))"
   ]
  },
  {
   "cell_type": "code",
   "execution_count": 100,
   "metadata": {},
   "outputs": [
    {
     "data": {
      "image/png": "[encoded data removed]",
      "text/plain": [
       "<Figure size 400x400 with 1 Axes>"
      ]
     },
     "metadata": {},
     "output_type": "display_data"
    },
    {
     "data": {
      "image/png": "[encoded data removed]",
      "text/plain": [
       "<Figure size 400x400 with 1 Axes>"
      ]
     },
     "metadata": {},
     "output_type": "display_data"
    },
    {
     "name": "stdout",
     "output_type": "stream",
     "text": [
      "Test accuracy 0.600\n"
     ]
    }
   ],
   "source": [
    "results = {'model': 'ChebNet',\n",
    "           'dataset': dataset.name,\n",
    "           'training size': len(train_mask),\n",
    "           'validation size': len(val_mask),\n",
    "           'test size': len(test_mask),\n",
    "           'n hidden nodes': n_hidden,\n",
    "           'n hidden layers': n_hidden_layers,\n",
    "           'polynomial order': r,\n",
    "           'laplacian normalization': normalization,\n",
    "           'dropout probability': p_dropout,\n",
    "           'learning rate': lr,\n",
    "           'weight decay': weight_decay,\n",
    "           'n epochs': epochs,\n",
    "           'loss': loss_values,\n",
    "           'train accuracy': train_score,\n",
    "           'validation accuracy': val_score,\n",
    "           'test accuracy': test_score\n",
    "           }\n",
    "\n",
    "loaded_results = utils.save_results(results, results['model'], results['dataset'])\n",
    "\n",
    "utils.plot_accuracy(loaded_results['train accuracy'], loaded_results['validation accuracy'])\n",
    "utils.plot_loss(loaded_results['loss'])\n",
    "print(\"Test accuracy {:.3f}\".format(loaded_results['test accuracy']))"
   ]
  },
  {
   "cell_type": "markdown",
   "metadata": {},
   "source": [
    "## CayleyNet"
   ]
  },
  {
   "cell_type": "code",
   "execution_count": 85,
   "metadata": {},
   "outputs": [],
   "source": [
    "# Hyperparameters (Section 4.5)\n",
    "in_feats = dataset.n_features\n",
    "n_classes = dataset.n_classes\n",
    "n_hidden = 32\n",
    "n_hidden_layers = 1 # number of hidden layers\n",
    "r = 5 # Cayley polynomial order "
   ]
  },
  {
   "cell_type": "code",
   "execution_count": 86,
   "metadata": {},
   "outputs": [
    {
     "name": "stderr",
     "output_type": "stream",
     "text": [
      "/home/infres/avalenca-22/.local/lib/python3.10/site-packages/torch/nn/modules/module.py:1133: UserWarning: Complex modules are a new feature under active development whose design may change, and some modules might not work as expected when using complex tensors as parameters or buffers. Please file an issue at https://github.com/pytorch/pytorch/issues/new?template=bug-report.yml if a complex module does not work as expected.\n",
      "  warnings.warn(\n"
     ]
    }
   ],
   "source": [
    "p_dropout=0.5\n",
    "normalization = 'sym'\n",
    "model = CayleyNet.CayleyNet(in_feats, n_classes, n_hidden, n_hidden_layers, r=r, p_dropout=p_dropout, normalization=normalization, sparse=False, seed=0)"
   ]
  },
  {
   "cell_type": "code",
   "execution_count": 87,
   "metadata": {},
   "outputs": [
    {
     "name": "stdout",
     "output_type": "stream",
     "text": [
      "CayleyNet(\n",
      "  (layers): ModuleList(\n",
      "    (0): CayleyConv(1, 32, r=5, normalization=sym)\n",
      "    (1): CayleyConv(32, 15, r=5, normalization=sym)\n",
      "  )\n",
      ")\n",
      "Number of parameters: 514\n",
      "Number of parameters: 33\n",
      "Number of parameters: 481\n"
     ]
    }
   ],
   "source": [
    "print(model)\n",
    "print(f'Number of parameters: {sum(p.numel() for p in model.parameters())}')\n",
    "print(f'Number of parameters: {sum(p.numel() for p in model.layers[0].parameters())}')\n",
    "print(f'Number of parameters: {sum(p.numel() for p in model.layers[1].parameters())}')           "
   ]
  },
  {
   "cell_type": "code",
   "execution_count": 88,
   "metadata": {},
   "outputs": [],
   "source": [
    "# Optimizer\n",
    "lr = 5e-3\n",
    "weight_decay = 5e-4\n",
    "optimizer = torch.optim.Adam(model.parameters(), lr=lr, weight_decay=weight_decay)"
   ]
  },
  {
   "cell_type": "code",
   "execution_count": 89,
   "metadata": {},
   "outputs": [
    {
     "name": "stdout",
     "output_type": "stream",
     "text": [
      "Epoch 00 | Loss 13.991 | Accuracy (validation) 0.080 | Elapsed time: 0.05s\n",
      "Epoch 01 | Loss 10.996 | Accuracy (validation) 0.080 | Elapsed time: 0.04s\n",
      "Epoch 02 | Loss 10.578 | Accuracy (validation) 0.080 | Elapsed time: 0.04s\n",
      "Epoch 03 | Loss 10.156 | Accuracy (validation) 0.080 | Elapsed time: 0.04s\n",
      "Epoch 04 | Loss 9.734 | Accuracy (validation) 0.080 | Elapsed time: 0.04s\n",
      "Epoch 05 | Loss 9.313 | Accuracy (validation) 0.080 | Elapsed time: 0.04s\n",
      "Epoch 06 | Loss 8.895 | Accuracy (validation) 0.080 | Elapsed time: 0.03s\n",
      "Epoch 07 | Loss 8.479 | Accuracy (validation) 0.080 | Elapsed time: 0.04s\n",
      "Epoch 08 | Loss 8.067 | Accuracy (validation) 0.080 | Elapsed time: 0.03s\n",
      "Epoch 09 | Loss 7.659 | Accuracy (validation) 0.080 | Elapsed time: 0.03s\n",
      "Epoch 10 | Loss 7.256 | Accuracy (validation) 0.080 | Elapsed time: 0.03s\n",
      "Epoch 11 | Loss 6.860 | Accuracy (validation) 0.080 | Elapsed time: 0.03s\n",
      "Epoch 12 | Loss 6.476 | Accuracy (validation) 0.080 | Elapsed time: 0.04s\n",
      "Epoch 13 | Loss 6.108 | Accuracy (validation) 0.080 | Elapsed time: 0.03s\n",
      "Epoch 14 | Loss 5.762 | Accuracy (validation) 0.080 | Elapsed time: 0.03s\n",
      "Epoch 15 | Loss 5.443 | Accuracy (validation) 0.080 | Elapsed time: 0.03s\n",
      "Epoch 16 | Loss 5.156 | Accuracy (validation) 0.090 | Elapsed time: 0.04s\n",
      "Epoch 17 | Loss 4.900 | Accuracy (validation) 0.090 | Elapsed time: 0.03s\n",
      "Epoch 18 | Loss 4.669 | Accuracy (validation) 0.100 | Elapsed time: 0.03s\n",
      "Epoch 19 | Loss 4.457 | Accuracy (validation) 0.110 | Elapsed time: 0.04s\n",
      "Epoch 20 | Loss 4.259 | Accuracy (validation) 0.110 | Elapsed time: 0.03s\n",
      "Epoch 21 | Loss 4.073 | Accuracy (validation) 0.110 | Elapsed time: 0.03s\n",
      "Epoch 22 | Loss 3.899 | Accuracy (validation) 0.110 | Elapsed time: 0.03s\n",
      "Epoch 23 | Loss 3.741 | Accuracy (validation) 0.120 | Elapsed time: 0.03s\n",
      "Epoch 24 | Loss 3.600 | Accuracy (validation) 0.130 | Elapsed time: 0.04s\n",
      "Epoch 25 | Loss 3.478 | Accuracy (validation) 0.140 | Elapsed time: 0.04s\n",
      "Epoch 26 | Loss 3.375 | Accuracy (validation) 0.100 | Elapsed time: 0.04s\n",
      "Epoch 27 | Loss 3.288 | Accuracy (validation) 0.070 | Elapsed time: 0.03s\n",
      "Epoch 28 | Loss 3.214 | Accuracy (validation) 0.070 | Elapsed time: 0.03s\n",
      "Epoch 29 | Loss 3.152 | Accuracy (validation) 0.050 | Elapsed time: 0.03s\n",
      "Epoch 30 | Loss 3.099 | Accuracy (validation) 0.050 | Elapsed time: 0.03s\n",
      "Epoch 31 | Loss 3.055 | Accuracy (validation) 0.050 | Elapsed time: 0.04s\n",
      "Epoch 32 | Loss 3.019 | Accuracy (validation) 0.070 | Elapsed time: 0.04s\n",
      "Epoch 33 | Loss 2.990 | Accuracy (validation) 0.050 | Elapsed time: 0.04s\n",
      "Epoch 34 | Loss 2.967 | Accuracy (validation) 0.080 | Elapsed time: 0.03s\n",
      "Epoch 35 | Loss 2.948 | Accuracy (validation) 0.090 | Elapsed time: 0.03s\n",
      "Epoch 36 | Loss 2.931 | Accuracy (validation) 0.090 | Elapsed time: 0.03s\n",
      "Epoch 37 | Loss 2.917 | Accuracy (validation) 0.070 | Elapsed time: 0.03s\n",
      "Epoch 38 | Loss 2.903 | Accuracy (validation) 0.060 | Elapsed time: 0.04s\n",
      "Epoch 39 | Loss 2.890 | Accuracy (validation) 0.050 | Elapsed time: 0.04s\n",
      "Epoch 40 | Loss 2.876 | Accuracy (validation) 0.040 | Elapsed time: 0.03s\n",
      "Epoch 41 | Loss 2.864 | Accuracy (validation) 0.040 | Elapsed time: 0.03s\n",
      "Epoch 42 | Loss 2.852 | Accuracy (validation) 0.070 | Elapsed time: 0.03s\n",
      "Epoch 43 | Loss 2.840 | Accuracy (validation) 0.070 | Elapsed time: 0.03s\n",
      "Epoch 44 | Loss 2.828 | Accuracy (validation) 0.080 | Elapsed time: 0.04s\n",
      "Epoch 45 | Loss 2.817 | Accuracy (validation) 0.070 | Elapsed time: 0.04s\n",
      "Epoch 46 | Loss 2.806 | Accuracy (validation) 0.060 | Elapsed time: 0.04s\n",
      "Epoch 47 | Loss 2.795 | Accuracy (validation) 0.070 | Elapsed time: 0.03s\n",
      "Epoch 48 | Loss 2.784 | Accuracy (validation) 0.070 | Elapsed time: 0.03s\n",
      "Epoch 49 | Loss 2.775 | Accuracy (validation) 0.080 | Elapsed time: 0.03s\n",
      "Epoch 50 | Loss 2.767 | Accuracy (validation) 0.100 | Elapsed time: 0.03s\n",
      "Epoch 51 | Loss 2.761 | Accuracy (validation) 0.100 | Elapsed time: 0.03s\n",
      "Epoch 52 | Loss 2.758 | Accuracy (validation) 0.110 | Elapsed time: 0.03s\n",
      "Epoch 53 | Loss 2.756 | Accuracy (validation) 0.090 | Elapsed time: 0.03s\n",
      "Epoch 54 | Loss 2.755 | Accuracy (validation) 0.090 | Elapsed time: 0.03s\n",
      "Epoch 55 | Loss 2.755 | Accuracy (validation) 0.090 | Elapsed time: 0.03s\n",
      "Epoch 56 | Loss 2.754 | Accuracy (validation) 0.100 | Elapsed time: 0.03s\n",
      "Epoch 57 | Loss 2.754 | Accuracy (validation) 0.110 | Elapsed time: 0.03s\n",
      "Epoch 58 | Loss 2.753 | Accuracy (validation) 0.100 | Elapsed time: 0.04s\n",
      "Epoch 59 | Loss 2.752 | Accuracy (validation) 0.100 | Elapsed time: 0.04s\n",
      "Epoch 60 | Loss 2.751 | Accuracy (validation) 0.100 | Elapsed time: 0.04s\n",
      "Epoch 61 | Loss 2.749 | Accuracy (validation) 0.100 | Elapsed time: 0.03s\n",
      "Epoch 62 | Loss 2.747 | Accuracy (validation) 0.100 | Elapsed time: 0.03s\n",
      "Epoch 63 | Loss 2.745 | Accuracy (validation) 0.100 | Elapsed time: 0.03s\n",
      "Epoch 64 | Loss 2.743 | Accuracy (validation) 0.080 | Elapsed time: 0.03s\n",
      "Epoch 65 | Loss 2.741 | Accuracy (validation) 0.090 | Elapsed time: 0.04s\n",
      "Epoch 66 | Loss 2.739 | Accuracy (validation) 0.090 | Elapsed time: 0.04s\n",
      "Epoch 67 | Loss 2.737 | Accuracy (validation) 0.080 | Elapsed time: 0.04s\n",
      "Epoch 68 | Loss 2.736 | Accuracy (validation) 0.070 | Elapsed time: 0.03s\n",
      "Epoch 69 | Loss 2.734 | Accuracy (validation) 0.070 | Elapsed time: 0.03s\n",
      "Epoch 70 | Loss 2.733 | Accuracy (validation) 0.070 | Elapsed time: 0.03s\n",
      "Epoch 71 | Loss 2.731 | Accuracy (validation) 0.080 | Elapsed time: 0.03s\n",
      "Epoch 72 | Loss 2.730 | Accuracy (validation) 0.070 | Elapsed time: 0.04s\n",
      "Epoch 73 | Loss 2.729 | Accuracy (validation) 0.080 | Elapsed time: 0.04s\n",
      "Epoch 74 | Loss 2.728 | Accuracy (validation) 0.080 | Elapsed time: 0.04s\n",
      "Epoch 75 | Loss 2.728 | Accuracy (validation) 0.080 | Elapsed time: 0.03s\n",
      "Epoch 76 | Loss 2.727 | Accuracy (validation) 0.100 | Elapsed time: 0.04s\n",
      "Epoch 77 | Loss 2.727 | Accuracy (validation) 0.090 | Elapsed time: 0.03s\n",
      "Epoch 78 | Loss 2.726 | Accuracy (validation) 0.090 | Elapsed time: 0.04s\n",
      "Epoch 79 | Loss 2.726 | Accuracy (validation) 0.090 | Elapsed time: 0.04s\n",
      "Epoch 80 | Loss 2.726 | Accuracy (validation) 0.110 | Elapsed time: 0.04s\n",
      "Epoch 81 | Loss 2.725 | Accuracy (validation) 0.100 | Elapsed time: 0.04s\n",
      "Epoch 82 | Loss 2.725 | Accuracy (validation) 0.090 | Elapsed time: 0.03s\n",
      "Epoch 83 | Loss 2.724 | Accuracy (validation) 0.090 | Elapsed time: 0.03s\n",
      "Epoch 84 | Loss 2.724 | Accuracy (validation) 0.080 | Elapsed time: 0.04s\n",
      "Epoch 85 | Loss 2.723 | Accuracy (validation) 0.070 | Elapsed time: 0.04s\n",
      "Epoch 86 | Loss 2.723 | Accuracy (validation) 0.070 | Elapsed time: 0.03s\n",
      "Epoch 87 | Loss 2.722 | Accuracy (validation) 0.080 | Elapsed time: 0.04s\n",
      "Epoch 88 | Loss 2.722 | Accuracy (validation) 0.080 | Elapsed time: 0.03s\n",
      "Epoch 89 | Loss 2.721 | Accuracy (validation) 0.080 | Elapsed time: 0.03s\n",
      "Epoch 90 | Loss 2.721 | Accuracy (validation) 0.080 | Elapsed time: 0.03s\n",
      "Epoch 91 | Loss 2.721 | Accuracy (validation) 0.080 | Elapsed time: 0.04s\n",
      "Epoch 92 | Loss 2.721 | Accuracy (validation) 0.080 | Elapsed time: 0.04s\n",
      "Epoch 93 | Loss 2.720 | Accuracy (validation) 0.100 | Elapsed time: 0.04s\n",
      "Epoch 94 | Loss 2.720 | Accuracy (validation) 0.100 | Elapsed time: 0.04s\n",
      "Epoch 95 | Loss 2.720 | Accuracy (validation) 0.100 | Elapsed time: 0.03s\n",
      "Epoch 96 | Loss 2.720 | Accuracy (validation) 0.100 | Elapsed time: 0.03s\n",
      "Epoch 97 | Loss 2.720 | Accuracy (validation) 0.100 | Elapsed time: 0.03s\n",
      "Epoch 98 | Loss 2.719 | Accuracy (validation) 0.100 | Elapsed time: 0.04s\n",
      "Epoch 99 | Loss 2.719 | Accuracy (validation) 0.090 | Elapsed time: 0.04s\n",
      "Epoch 100 | Loss 2.719 | Accuracy (validation) 0.090 | Elapsed time: 0.04s\n",
      "Epoch 101 | Loss 2.719 | Accuracy (validation) 0.090 | Elapsed time: 0.03s\n",
      "Epoch 102 | Loss 2.718 | Accuracy (validation) 0.090 | Elapsed time: 0.04s\n",
      "Epoch 103 | Loss 2.718 | Accuracy (validation) 0.090 | Elapsed time: 0.03s\n",
      "Epoch 104 | Loss 2.718 | Accuracy (validation) 0.090 | Elapsed time: 0.04s\n",
      "Epoch 105 | Loss 2.718 | Accuracy (validation) 0.090 | Elapsed time: 0.03s\n",
      "Epoch 106 | Loss 2.718 | Accuracy (validation) 0.080 | Elapsed time: 0.03s\n",
      "Epoch 107 | Loss 2.717 | Accuracy (validation) 0.090 | Elapsed time: 0.03s\n",
      "Epoch 108 | Loss 2.717 | Accuracy (validation) 0.090 | Elapsed time: 0.03s\n",
      "Epoch 109 | Loss 2.717 | Accuracy (validation) 0.090 | Elapsed time: 0.03s\n",
      "Epoch 110 | Loss 2.717 | Accuracy (validation) 0.090 | Elapsed time: 0.03s\n",
      "Epoch 111 | Loss 2.717 | Accuracy (validation) 0.090 | Elapsed time: 0.03s\n",
      "Epoch 112 | Loss 2.717 | Accuracy (validation) 0.100 | Elapsed time: 0.03s\n",
      "Epoch 113 | Loss 2.716 | Accuracy (validation) 0.100 | Elapsed time: 0.03s\n",
      "Epoch 114 | Loss 2.716 | Accuracy (validation) 0.100 | Elapsed time: 0.03s\n",
      "Epoch 115 | Loss 2.716 | Accuracy (validation) 0.100 | Elapsed time: 0.03s\n",
      "Epoch 116 | Loss 2.716 | Accuracy (validation) 0.100 | Elapsed time: 0.03s\n",
      "Epoch 117 | Loss 2.716 | Accuracy (validation) 0.100 | Elapsed time: 0.03s\n",
      "Epoch 118 | Loss 2.715 | Accuracy (validation) 0.100 | Elapsed time: 0.04s\n",
      "Epoch 119 | Loss 2.715 | Accuracy (validation) 0.090 | Elapsed time: 0.04s\n",
      "Epoch 120 | Loss 2.715 | Accuracy (validation) 0.090 | Elapsed time: 0.03s\n",
      "Epoch 121 | Loss 2.715 | Accuracy (validation) 0.090 | Elapsed time: 0.03s\n",
      "Epoch 122 | Loss 2.715 | Accuracy (validation) 0.090 | Elapsed time: 0.03s\n",
      "Epoch 123 | Loss 2.714 | Accuracy (validation) 0.090 | Elapsed time: 0.03s\n",
      "Epoch 124 | Loss 2.714 | Accuracy (validation) 0.090 | Elapsed time: 0.03s\n",
      "Epoch 125 | Loss 2.714 | Accuracy (validation) 0.090 | Elapsed time: 0.03s\n",
      "Epoch 126 | Loss 2.714 | Accuracy (validation) 0.090 | Elapsed time: 0.03s\n",
      "Epoch 127 | Loss 2.714 | Accuracy (validation) 0.090 | Elapsed time: 0.03s\n",
      "Epoch 128 | Loss 2.714 | Accuracy (validation) 0.090 | Elapsed time: 0.03s\n",
      "Epoch 129 | Loss 2.713 | Accuracy (validation) 0.090 | Elapsed time: 0.03s\n",
      "Epoch 130 | Loss 2.713 | Accuracy (validation) 0.090 | Elapsed time: 0.03s\n",
      "Epoch 131 | Loss 2.713 | Accuracy (validation) 0.090 | Elapsed time: 0.03s\n",
      "Epoch 132 | Loss 2.713 | Accuracy (validation) 0.090 | Elapsed time: 0.03s\n",
      "Epoch 133 | Loss 2.713 | Accuracy (validation) 0.090 | Elapsed time: 0.04s\n",
      "Epoch 134 | Loss 2.712 | Accuracy (validation) 0.090 | Elapsed time: 0.04s\n",
      "Epoch 135 | Loss 2.712 | Accuracy (validation) 0.090 | Elapsed time: 0.03s\n",
      "Epoch 136 | Loss 2.712 | Accuracy (validation) 0.090 | Elapsed time: 0.03s\n",
      "Epoch 137 | Loss 2.712 | Accuracy (validation) 0.090 | Elapsed time: 0.03s\n",
      "Epoch 138 | Loss 2.712 | Accuracy (validation) 0.090 | Elapsed time: 0.03s\n",
      "Epoch 139 | Loss 2.712 | Accuracy (validation) 0.090 | Elapsed time: 0.04s\n",
      "Epoch 140 | Loss 2.711 | Accuracy (validation) 0.090 | Elapsed time: 0.04s\n",
      "Epoch 141 | Loss 2.711 | Accuracy (validation) 0.090 | Elapsed time: 0.04s\n",
      "Epoch 142 | Loss 2.711 | Accuracy (validation) 0.090 | Elapsed time: 0.04s\n",
      "Epoch 143 | Loss 2.711 | Accuracy (validation) 0.090 | Elapsed time: 0.03s\n",
      "Epoch 144 | Loss 2.711 | Accuracy (validation) 0.090 | Elapsed time: 0.03s\n",
      "Epoch 145 | Loss 2.711 | Accuracy (validation) 0.090 | Elapsed time: 0.04s\n",
      "Epoch 146 | Loss 2.710 | Accuracy (validation) 0.090 | Elapsed time: 0.04s\n",
      "Epoch 147 | Loss 2.710 | Accuracy (validation) 0.090 | Elapsed time: 0.04s\n",
      "Epoch 148 | Loss 2.710 | Accuracy (validation) 0.090 | Elapsed time: 0.04s\n",
      "Epoch 149 | Loss 2.710 | Accuracy (validation) 0.090 | Elapsed time: 0.03s\n",
      "Epoch 150 | Loss 2.710 | Accuracy (validation) 0.090 | Elapsed time: 0.03s\n",
      "Epoch 151 | Loss 2.709 | Accuracy (validation) 0.090 | Elapsed time: 0.03s\n",
      "Epoch 152 | Loss 2.709 | Accuracy (validation) 0.090 | Elapsed time: 0.03s\n",
      "Epoch 153 | Loss 2.709 | Accuracy (validation) 0.090 | Elapsed time: 0.03s\n",
      "Epoch 154 | Loss 2.709 | Accuracy (validation) 0.090 | Elapsed time: 0.03s\n",
      "Epoch 155 | Loss 2.709 | Accuracy (validation) 0.090 | Elapsed time: 0.03s\n",
      "Epoch 156 | Loss 2.709 | Accuracy (validation) 0.090 | Elapsed time: 0.03s\n",
      "Epoch 157 | Loss 2.708 | Accuracy (validation) 0.090 | Elapsed time: 0.03s\n",
      "Epoch 158 | Loss 2.708 | Accuracy (validation) 0.090 | Elapsed time: 0.03s\n",
      "Epoch 159 | Loss 2.708 | Accuracy (validation) 0.090 | Elapsed time: 0.04s\n",
      "Epoch 160 | Loss 2.708 | Accuracy (validation) 0.090 | Elapsed time: 0.04s\n",
      "Epoch 161 | Loss 2.708 | Accuracy (validation) 0.090 | Elapsed time: 0.04s\n",
      "Epoch 162 | Loss 2.708 | Accuracy (validation) 0.090 | Elapsed time: 0.04s\n",
      "Epoch 163 | Loss 2.707 | Accuracy (validation) 0.090 | Elapsed time: 0.03s\n",
      "Epoch 164 | Loss 2.707 | Accuracy (validation) 0.090 | Elapsed time: 0.03s\n",
      "Epoch 165 | Loss 2.707 | Accuracy (validation) 0.090 | Elapsed time: 0.03s\n",
      "Epoch 166 | Loss 2.707 | Accuracy (validation) 0.090 | Elapsed time: 0.03s\n",
      "Epoch 167 | Loss 2.707 | Accuracy (validation) 0.090 | Elapsed time: 0.03s\n",
      "Epoch 168 | Loss 2.706 | Accuracy (validation) 0.090 | Elapsed time: 0.03s\n",
      "Epoch 169 | Loss 2.706 | Accuracy (validation) 0.090 | Elapsed time: 0.03s\n",
      "Epoch 170 | Loss 2.706 | Accuracy (validation) 0.090 | Elapsed time: 0.03s\n",
      "Epoch 171 | Loss 2.706 | Accuracy (validation) 0.090 | Elapsed time: 0.03s\n",
      "Epoch 172 | Loss 2.706 | Accuracy (validation) 0.090 | Elapsed time: 0.03s\n",
      "Epoch 173 | Loss 2.706 | Accuracy (validation) 0.090 | Elapsed time: 0.03s\n",
      "Epoch 174 | Loss 2.705 | Accuracy (validation) 0.090 | Elapsed time: 0.03s\n",
      "Epoch 175 | Loss 2.705 | Accuracy (validation) 0.090 | Elapsed time: 0.03s\n",
      "Epoch 176 | Loss 2.705 | Accuracy (validation) 0.090 | Elapsed time: 0.03s\n",
      "Epoch 177 | Loss 2.705 | Accuracy (validation) 0.090 | Elapsed time: 0.03s\n",
      "Epoch 178 | Loss 2.705 | Accuracy (validation) 0.090 | Elapsed time: 0.03s\n",
      "Epoch 179 | Loss 2.705 | Accuracy (validation) 0.090 | Elapsed time: 0.03s\n",
      "Epoch 180 | Loss 2.704 | Accuracy (validation) 0.090 | Elapsed time: 0.03s\n",
      "Epoch 181 | Loss 2.704 | Accuracy (validation) 0.090 | Elapsed time: 0.03s\n",
      "Epoch 182 | Loss 2.704 | Accuracy (validation) 0.090 | Elapsed time: 0.03s\n",
      "Epoch 183 | Loss 2.704 | Accuracy (validation) 0.090 | Elapsed time: 0.04s\n",
      "Epoch 184 | Loss 2.704 | Accuracy (validation) 0.090 | Elapsed time: 0.03s\n",
      "Epoch 185 | Loss 2.704 | Accuracy (validation) 0.090 | Elapsed time: 0.03s\n",
      "Epoch 186 | Loss 2.703 | Accuracy (validation) 0.090 | Elapsed time: 0.04s\n",
      "Epoch 187 | Loss 2.703 | Accuracy (validation) 0.090 | Elapsed time: 0.03s\n",
      "Epoch 188 | Loss 2.703 | Accuracy (validation) 0.090 | Elapsed time: 0.03s\n",
      "Epoch 189 | Loss 2.703 | Accuracy (validation) 0.090 | Elapsed time: 0.03s\n",
      "Epoch 190 | Loss 2.703 | Accuracy (validation) 0.090 | Elapsed time: 0.03s\n",
      "Epoch 191 | Loss 2.703 | Accuracy (validation) 0.090 | Elapsed time: 0.03s\n",
      "Epoch 192 | Loss 2.702 | Accuracy (validation) 0.090 | Elapsed time: 0.03s\n",
      "Epoch 193 | Loss 2.702 | Accuracy (validation) 0.090 | Elapsed time: 0.03s\n",
      "Epoch 194 | Loss 2.702 | Accuracy (validation) 0.090 | Elapsed time: 0.03s\n",
      "Epoch 195 | Loss 2.702 | Accuracy (validation) 0.090 | Elapsed time: 0.03s\n",
      "Epoch 196 | Loss 2.702 | Accuracy (validation) 0.090 | Elapsed time: 0.03s\n",
      "Epoch 197 | Loss 2.702 | Accuracy (validation) 0.090 | Elapsed time: 0.03s\n",
      "Epoch 198 | Loss 2.701 | Accuracy (validation) 0.090 | Elapsed time: 0.03s\n",
      "Epoch 199 | Loss 2.701 | Accuracy (validation) 0.090 | Elapsed time: 0.03s\n",
      "Test accuracy 0.045\n"
     ]
    }
   ],
   "source": [
    "# Train the model\n",
    "epochs=200\n",
    "loss_values, val_score, train_score = utils.train(model, optimizer, edge_index, features, labels, train_mask, val_mask, epochs, verbose=True)\n",
    "\n",
    "test_score = utils.eval_pytorch_geometric_model(model, edge_index, features, labels, test_mask)\n",
    "print(\"\\nTest accuracy {:.3f}\".format(test_score))"
   ]
  },
  {
   "cell_type": "code",
   "execution_count": 94,
   "metadata": {},
   "outputs": [
    {
     "data": {
      "image/png": "[encoded data removed]",
      "text/plain": [
       "<Figure size 400x400 with 1 Axes>"
      ]
     },
     "metadata": {},
     "output_type": "display_data"
    },
    {
     "data": {
      "image/png": "[encoded data removed]",
      "text/plain": [
       "<Figure size 400x400 with 1 Axes>"
      ]
     },
     "metadata": {},
     "output_type": "display_data"
    },
    {
     "name": "stdout",
     "output_type": "stream",
     "text": [
      "Test accuracy 0.045\n"
     ]
    }
   ],
   "source": [
    "results = {'model': 'CayleyNet',\n",
    "           'dataset': dataset.name,\n",
    "           'training size': len(train_mask),\n",
    "           'validation size': len(val_mask),\n",
    "           'test size': len(test_mask),\n",
    "           'n hidden nodes': n_hidden,\n",
    "           'n hidden layers': n_hidden_layers,\n",
    "           'polynomial order': r,\n",
    "           'laplacian normalization': normalization,\n",
    "           'dropout probability': p_dropout,\n",
    "           'learning rate': lr,\n",
    "           'weight decay': weight_decay,\n",
    "           'n epochs': epochs,\n",
    "           'loss': loss_values,\n",
    "           'train accuracy': train_score,\n",
    "           'validation accuracy': val_score,\n",
    "           'test accuracy': test_score\n",
    "           }\n",
    "\n",
    "loaded_results = utils.save_results(results, results['model'], results['dataset'])\n",
    "\n",
    "utils.plot_accuracy(loaded_results['train accuracy'], loaded_results['validation accuracy'])\n",
    "utils.plot_loss(loaded_results['loss'])\n",
    "print(\"Test accuracy {:.3f}\".format(loaded_results['test accuracy']))"
   ]
  },
  {
   "cell_type": "code",
   "execution_count": null,
   "metadata": {},
   "outputs": [],
   "source": []
  }
 ],
 "metadata": {
  "kernelspec": {
   "display_name": "Python 3",
   "language": "python",
   "name": "python3"
  },
  "language_info": {
   "codemirror_mode": {
    "name": "ipython",
    "version": 3
   },
   "file_extension": ".py",
   "mimetype": "text/x-python",
   "name": "python",
   "nbconvert_exporter": "python",
   "pygments_lexer": "ipython3",
   "version": "3.10.12"
  }
 },
 "nbformat": 4,
 "nbformat_minor": 2
}
