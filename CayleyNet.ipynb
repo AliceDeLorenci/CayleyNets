{
 "cells": [
  {
   "cell_type": "code",
   "execution_count": 1,
   "metadata": {},
   "outputs": [
    {
     "name": "stderr",
     "output_type": "stream",
     "text": [
      "/home/infres/avalenca-22/.local/lib/python3.10/site-packages/torch/cuda/__init__.py:138: UserWarning: CUDA initialization: The NVIDIA driver on your system is too old (found version 11070). Please update your GPU driver by downloading and installing a new version from the URL: http://www.nvidia.com/Download/index.aspx Alternatively, go to: https://pytorch.org to install a PyTorch version that has been compiled with your version of the CUDA driver. (Triggered internally at ../c10/cuda/CUDAFunctions.cpp:108.)\n",
      "  return torch._C._cuda_getDeviceCount() > 0\n"
     ]
    }
   ],
   "source": [
    "import time\n",
    "\n",
    "import torch\n",
    "import torch.nn as nn\n",
    "import torch.nn.functional as F\n",
    "\n",
    "# Check if GPU is available\n",
    "device = torch.device('cuda' if torch.cuda.is_available() else 'cpu')"
   ]
  },
  {
   "cell_type": "code",
   "execution_count": 2,
   "metadata": {},
   "outputs": [
    {
     "data": {
      "text/plain": [
       "device(type='cpu')"
      ]
     },
     "execution_count": 2,
     "metadata": {},
     "output_type": "execute_result"
    }
   ],
   "source": [
    "device"
   ]
  },
  {
   "cell_type": "code",
   "execution_count": 169,
   "metadata": {},
   "outputs": [],
   "source": [
    "import src.CayleyNet as CayleyNet\n",
    "import src.CORA as CORA\n",
    "import src.utils as utils"
   ]
  },
  {
   "cell_type": "code",
   "execution_count": 170,
   "metadata": {},
   "outputs": [
    {
     "data": {
      "text/plain": [
       "<module 'src.utils' from '/home/infres/avalenca-22/CayleyNets/src/utils.py'>"
      ]
     },
     "execution_count": 170,
     "metadata": {},
     "output_type": "execute_result"
    }
   ],
   "source": [
    "# Reload when files are changed\n",
    "import importlib\n",
    "importlib.reload(CayleyNet)\n",
    "importlib.reload(CORA)\n",
    "importlib.reload(utils)"
   ]
  },
  {
   "cell_type": "code",
   "execution_count": 171,
   "metadata": {},
   "outputs": [
    {
     "name": "stdout",
     "output_type": "stream",
     "text": [
      "Parsing files...\n",
      "Done.\n"
     ]
    }
   ],
   "source": [
    "# Import dataset\n",
    "cora = CORA.CORA()"
   ]
  },
  {
   "cell_type": "code",
   "execution_count": 172,
   "metadata": {},
   "outputs": [
    {
     "name": "stdout",
     "output_type": "stream",
     "text": [
      "CORA dataset\n",
      "Number of nodes: 2708\n",
      "Number of edges: 10556\n",
      "Number of features per node: 1433\n"
     ]
    }
   ],
   "source": [
    "# Print properties of the dataset\n",
    "dataset = cora\n",
    "print(dataset.description)\n",
    "print(f'Number of nodes: {dataset.n}')\n",
    "print(f'Number of edges: {dataset.n_edges}')\n",
    "print(f'Number of features per node: {dataset.n_features}')"
   ]
  },
  {
   "cell_type": "code",
   "execution_count": 173,
   "metadata": {},
   "outputs": [],
   "source": [
    "# Extended split of the CORA dataset\n",
    "train_mask, test_mask, val_mask = utils.split_train_test_val(cora.n, 500, 500) "
   ]
  },
  {
   "cell_type": "code",
   "execution_count": 174,
   "metadata": {},
   "outputs": [],
   "source": [
    "# Features and labels as tensors\n",
    "features = torch.Tensor(1.0*dataset.features).to(device)\n",
    "labels = torch.Tensor(dataset.labels).long().to(device)\n",
    "edge_index = dataset.get_edge_index()\n",
    "\n",
    "# Masks as tensors\n",
    "train_mask = torch.Tensor(train_mask).bool().to(device)\n",
    "test_mask = torch.Tensor(test_mask).bool().to(device)\n",
    "val_mask = torch.Tensor(val_mask).bool().to(device)"
   ]
  },
  {
   "cell_type": "code",
   "execution_count": 175,
   "metadata": {},
   "outputs": [],
   "source": [
    "# Hyperparameters (Section 4.5)\n",
    "in_feats = dataset.n_features\n",
    "n_classes = dataset.n_classes\n",
    "n_hidden = 16\n",
    "n_layers = 1 # number of hidden+output layers\n",
    "r = 5 # Cayley polynomial order \n",
    "# obs: we weren't able to identify the value of this last parameter in the paper"
   ]
  },
  {
   "cell_type": "code",
   "execution_count": 176,
   "metadata": {},
   "outputs": [],
   "source": [
    "model = CayleyNet.CayleyNet(in_feats, n_classes, n_hidden, n_layers, r=5, p_dropout=0.5, normalization = 'sym', sparse=False, seed=0)"
   ]
  },
  {
   "cell_type": "code",
   "execution_count": 177,
   "metadata": {},
   "outputs": [
    {
     "name": "stdout",
     "output_type": "stream",
     "text": [
      "CayleyNet(\n",
      "  (layers): ModuleList(\n",
      "    (0): CayleyConv(1433, 16, r=5, normalization=sym)\n",
      "    (1): CayleyConv(16, 7, r=5, normalization=sym)\n",
      "  )\n",
      ")\n",
      "Number of parameters: 23042\n",
      "Number of parameters: 22929\n",
      "Number of parameters: 113\n"
     ]
    }
   ],
   "source": [
    "print(model)\n",
    "print(f'Number of parameters: {sum(p.numel() for p in model.parameters())}')\n",
    "print(f'Number of parameters: {sum(p.numel() for p in model.layers[0].parameters())}')\n",
    "print(f'Number of parameters: {sum(p.numel() for p in model.layers[1].parameters())}')"
   ]
  },
  {
   "cell_type": "code",
   "execution_count": 178,
   "metadata": {},
   "outputs": [],
   "source": [
    "# Optimizer\n",
    "lr = 5e-3\n",
    "weight_decay = 5e-4\n",
    "optimizer = torch.optim.Adam(model.parameters(), lr=lr, weight_decay=weight_decay)"
   ]
  },
  {
   "cell_type": "code",
   "execution_count": 179,
   "metadata": {},
   "outputs": [
    {
     "name": "stdout",
     "output_type": "stream",
     "text": [
      "Epoch 00 | Loss 2.201 | Accuracy (validation) 0.098 | Elapsed time: 7.95s\n",
      "Epoch 01 | Loss 2.028 | Accuracy (validation) 0.122 | Elapsed time: 7.93s\n",
      "Epoch 02 | Loss 1.947 | Accuracy (validation) 0.142 | Elapsed time: 7.59s\n",
      "Epoch 03 | Loss 1.886 | Accuracy (validation) 0.154 | Elapsed time: 7.63s\n",
      "Epoch 04 | Loss 1.836 | Accuracy (validation) 0.180 | Elapsed time: 7.58s\n",
      "Epoch 05 | Loss 1.791 | Accuracy (validation) 0.204 | Elapsed time: 7.57s\n",
      "Epoch 06 | Loss 1.746 | Accuracy (validation) 0.226 | Elapsed time: 7.88s\n",
      "Epoch 07 | Loss 1.700 | Accuracy (validation) 0.250 | Elapsed time: 8.32s\n",
      "Epoch 08 | Loss 1.652 | Accuracy (validation) 0.268 | Elapsed time: 7.90s\n",
      "Epoch 09 | Loss 1.601 | Accuracy (validation) 0.294 | Elapsed time: 7.60s\n",
      "Epoch 10 | Loss 1.548 | Accuracy (validation) 0.314 | Elapsed time: 7.93s\n",
      "Epoch 11 | Loss 1.494 | Accuracy (validation) 0.316 | Elapsed time: 7.60s\n",
      "Epoch 12 | Loss 1.439 | Accuracy (validation) 0.318 | Elapsed time: 7.54s\n",
      "Epoch 13 | Loss 1.384 | Accuracy (validation) 0.322 | Elapsed time: 7.58s\n",
      "Epoch 14 | Loss 1.329 | Accuracy (validation) 0.334 | Elapsed time: 7.63s\n",
      "Epoch 15 | Loss 1.274 | Accuracy (validation) 0.352 | Elapsed time: 7.94s\n",
      "Epoch 16 | Loss 1.220 | Accuracy (validation) 0.366 | Elapsed time: 7.94s\n",
      "Epoch 17 | Loss 1.166 | Accuracy (validation) 0.382 | Elapsed time: 8.89s\n",
      "Epoch 18 | Loss 1.114 | Accuracy (validation) 0.406 | Elapsed time: 7.71s\n",
      "Epoch 19 | Loss 1.063 | Accuracy (validation) 0.418 | Elapsed time: 7.60s\n",
      "Epoch 20 | Loss 1.013 | Accuracy (validation) 0.428 | Elapsed time: 8.47s\n",
      "Epoch 21 | Loss 0.964 | Accuracy (validation) 0.432 | Elapsed time: 7.41s\n",
      "Epoch 22 | Loss 0.915 | Accuracy (validation) 0.446 | Elapsed time: 8.02s\n",
      "Epoch 23 | Loss 0.868 | Accuracy (validation) 0.460 | Elapsed time: 7.51s\n",
      "Epoch 24 | Loss 0.822 | Accuracy (validation) 0.478 | Elapsed time: 7.66s\n",
      "Epoch 25 | Loss 0.777 | Accuracy (validation) 0.496 | Elapsed time: 7.54s\n",
      "Epoch 26 | Loss 0.734 | Accuracy (validation) 0.506 | Elapsed time: 7.48s\n",
      "Epoch 27 | Loss 0.693 | Accuracy (validation) 0.522 | Elapsed time: 7.39s\n",
      "Epoch 28 | Loss 0.653 | Accuracy (validation) 0.534 | Elapsed time: 7.49s\n",
      "Epoch 29 | Loss 0.615 | Accuracy (validation) 0.538 | Elapsed time: 7.47s\n",
      "Epoch 30 | Loss 0.579 | Accuracy (validation) 0.546 | Elapsed time: 7.98s\n",
      "Epoch 31 | Loss 0.545 | Accuracy (validation) 0.556 | Elapsed time: 7.40s\n",
      "Epoch 32 | Loss 0.513 | Accuracy (validation) 0.560 | Elapsed time: 7.36s\n",
      "Epoch 33 | Loss 0.482 | Accuracy (validation) 0.576 | Elapsed time: 7.43s\n",
      "Epoch 34 | Loss 0.452 | Accuracy (validation) 0.584 | Elapsed time: 7.36s\n",
      "Epoch 35 | Loss 0.425 | Accuracy (validation) 0.590 | Elapsed time: 7.42s\n",
      "Epoch 36 | Loss 0.399 | Accuracy (validation) 0.604 | Elapsed time: 7.40s\n",
      "Epoch 37 | Loss 0.374 | Accuracy (validation) 0.604 | Elapsed time: 7.42s\n",
      "Epoch 38 | Loss 0.351 | Accuracy (validation) 0.614 | Elapsed time: 8.18s\n",
      "Epoch 39 | Loss 0.330 | Accuracy (validation) 0.616 | Elapsed time: 7.46s\n",
      "Epoch 40 | Loss 0.309 | Accuracy (validation) 0.620 | Elapsed time: 7.35s\n",
      "Epoch 41 | Loss 0.290 | Accuracy (validation) 0.622 | Elapsed time: 7.42s\n",
      "Epoch 42 | Loss 0.272 | Accuracy (validation) 0.620 | Elapsed time: 7.43s\n",
      "Epoch 43 | Loss 0.256 | Accuracy (validation) 0.626 | Elapsed time: 7.42s\n",
      "Epoch 44 | Loss 0.240 | Accuracy (validation) 0.628 | Elapsed time: 7.69s\n",
      "Epoch 45 | Loss 0.226 | Accuracy (validation) 0.630 | Elapsed time: 7.42s\n",
      "Epoch 46 | Loss 0.213 | Accuracy (validation) 0.636 | Elapsed time: 8.24s\n",
      "Epoch 47 | Loss 0.200 | Accuracy (validation) 0.636 | Elapsed time: 7.94s\n",
      "Epoch 48 | Loss 0.189 | Accuracy (validation) 0.640 | Elapsed time: 8.52s\n",
      "Epoch 49 | Loss 0.178 | Accuracy (validation) 0.642 | Elapsed time: 7.37s\n",
      "Epoch 50 | Loss 0.168 | Accuracy (validation) 0.648 | Elapsed time: 7.56s\n",
      "Epoch 51 | Loss 0.159 | Accuracy (validation) 0.650 | Elapsed time: 7.40s\n",
      "Epoch 52 | Loss 0.151 | Accuracy (validation) 0.650 | Elapsed time: 7.35s\n",
      "Epoch 53 | Loss 0.143 | Accuracy (validation) 0.654 | Elapsed time: 7.32s\n",
      "Epoch 54 | Loss 0.136 | Accuracy (validation) 0.654 | Elapsed time: 7.73s\n",
      "Epoch 55 | Loss 0.129 | Accuracy (validation) 0.658 | Elapsed time: 7.44s\n",
      "Epoch 56 | Loss 0.123 | Accuracy (validation) 0.658 | Elapsed time: 7.54s\n",
      "Epoch 57 | Loss 0.117 | Accuracy (validation) 0.660 | Elapsed time: 7.42s\n",
      "Epoch 58 | Loss 0.112 | Accuracy (validation) 0.660 | Elapsed time: 7.36s\n",
      "Epoch 59 | Loss 0.107 | Accuracy (validation) 0.666 | Elapsed time: 7.29s\n",
      "Epoch 60 | Loss 0.102 | Accuracy (validation) 0.670 | Elapsed time: 7.40s\n",
      "Epoch 61 | Loss 0.098 | Accuracy (validation) 0.670 | Elapsed time: 7.40s\n",
      "Epoch 62 | Loss 0.094 | Accuracy (validation) 0.672 | Elapsed time: 8.62s\n",
      "Epoch 63 | Loss 0.090 | Accuracy (validation) 0.676 | Elapsed time: 7.39s\n",
      "Epoch 64 | Loss 0.087 | Accuracy (validation) 0.680 | Elapsed time: 7.46s\n",
      "Epoch 65 | Loss 0.084 | Accuracy (validation) 0.680 | Elapsed time: 7.41s\n",
      "Epoch 66 | Loss 0.081 | Accuracy (validation) 0.680 | Elapsed time: 7.39s\n",
      "Epoch 67 | Loss 0.078 | Accuracy (validation) 0.682 | Elapsed time: 7.34s\n",
      "Epoch 68 | Loss 0.076 | Accuracy (validation) 0.684 | Elapsed time: 7.37s\n",
      "Epoch 69 | Loss 0.073 | Accuracy (validation) 0.684 | Elapsed time: 7.32s\n",
      "Epoch 70 | Loss 0.071 | Accuracy (validation) 0.684 | Elapsed time: 7.90s\n",
      "Epoch 71 | Loss 0.069 | Accuracy (validation) 0.686 | Elapsed time: 7.27s\n",
      "Epoch 72 | Loss 0.067 | Accuracy (validation) 0.690 | Elapsed time: 7.30s\n",
      "Epoch 73 | Loss 0.065 | Accuracy (validation) 0.692 | Elapsed time: 7.23s\n",
      "Epoch 74 | Loss 0.064 | Accuracy (validation) 0.692 | Elapsed time: 7.28s\n",
      "Epoch 75 | Loss 0.062 | Accuracy (validation) 0.694 | Elapsed time: 7.25s\n",
      "Epoch 76 | Loss 0.061 | Accuracy (validation) 0.692 | Elapsed time: 7.25s\n",
      "Epoch 77 | Loss 0.059 | Accuracy (validation) 0.694 | Elapsed time: 7.23s\n",
      "Epoch 78 | Loss 0.058 | Accuracy (validation) 0.692 | Elapsed time: 8.04s\n",
      "Epoch 79 | Loss 0.057 | Accuracy (validation) 0.692 | Elapsed time: 7.25s\n",
      "Epoch 80 | Loss 0.056 | Accuracy (validation) 0.692 | Elapsed time: 7.29s\n",
      "Epoch 81 | Loss 0.055 | Accuracy (validation) 0.694 | Elapsed time: 7.22s\n",
      "Epoch 82 | Loss 0.054 | Accuracy (validation) 0.694 | Elapsed time: 7.29s\n",
      "Epoch 83 | Loss 0.053 | Accuracy (validation) 0.694 | Elapsed time: 7.18s\n",
      "Epoch 84 | Loss 0.052 | Accuracy (validation) 0.694 | Elapsed time: 7.29s\n",
      "Epoch 85 | Loss 0.051 | Accuracy (validation) 0.692 | Elapsed time: 7.33s\n",
      "Epoch 86 | Loss 0.050 | Accuracy (validation) 0.694 | Elapsed time: 7.62s\n",
      "Epoch 87 | Loss 0.049 | Accuracy (validation) 0.696 | Elapsed time: 7.71s\n",
      "Epoch 88 | Loss 0.049 | Accuracy (validation) 0.700 | Elapsed time: 7.28s\n",
      "Epoch 89 | Loss 0.048 | Accuracy (validation) 0.700 | Elapsed time: 7.24s\n",
      "Epoch 90 | Loss 0.047 | Accuracy (validation) 0.702 | Elapsed time: 7.28s\n",
      "Epoch 91 | Loss 0.047 | Accuracy (validation) 0.702 | Elapsed time: 7.27s\n",
      "Epoch 92 | Loss 0.046 | Accuracy (validation) 0.702 | Elapsed time: 7.33s\n",
      "Epoch 93 | Loss 0.046 | Accuracy (validation) 0.706 | Elapsed time: 7.19s\n",
      "Epoch 94 | Loss 0.045 | Accuracy (validation) 0.706 | Elapsed time: 7.46s\n",
      "Epoch 95 | Loss 0.045 | Accuracy (validation) 0.708 | Elapsed time: 7.23s\n",
      "Epoch 96 | Loss 0.044 | Accuracy (validation) 0.712 | Elapsed time: 7.20s\n",
      "Epoch 97 | Loss 0.044 | Accuracy (validation) 0.714 | Elapsed time: 7.17s\n",
      "Epoch 98 | Loss 0.043 | Accuracy (validation) 0.714 | Elapsed time: 7.25s\n",
      "Epoch 99 | Loss 0.043 | Accuracy (validation) 0.714 | Elapsed time: 7.23s\n"
     ]
    }
   ],
   "source": [
    "# Train the model\n",
    "batch_size = 32\n",
    "epochs = 100\n",
    "\n",
    "# save loss values for plotting\n",
    "loss_values = []\n",
    "val_score = []\n",
    "train_score = []\n",
    "\n",
    "verbose = True\n",
    "for e in range(epochs):\n",
    "    start = time.time()\n",
    "\n",
    "    # Compute output\n",
    "    logp = model(features, edge_index)\n",
    "\n",
    "    # Compute loss\n",
    "    loss = F.nll_loss(logp[train_mask], labels[train_mask])\n",
    "    loss_values.append(loss.item())\n",
    "\n",
    "    # Perform backward pass\n",
    "    optimizer.zero_grad()\n",
    "    loss.backward()\n",
    "    optimizer.step()\n",
    "\n",
    "    # Evaluation\n",
    "    score = utils.eval_pytorch_geometric_model(model, edge_index, features, labels, train_mask)\n",
    "    train_score.append(score)\n",
    "\n",
    "    score = utils.eval_pytorch_geometric_model(model, edge_index, features, labels, val_mask)\n",
    "    val_score.append(score)\n",
    "\n",
    "    # Print loss\n",
    "    end = time.time()\n",
    "    if verbose:\n",
    "        print(\"Epoch {:02d} | Loss {:.3f} | Accuracy (validation) {:.3f} | Elapsed time: {:.2f}s\".format(e, loss.item(), score, end - start))"
   ]
  },
  {
   "cell_type": "code",
   "execution_count": 180,
   "metadata": {},
   "outputs": [
    {
     "name": "stdout",
     "output_type": "stream",
     "text": [
      "Test accuracy 0.694\n"
     ]
    }
   ],
   "source": [
    "test_score = utils.eval_pytorch_geometric_model(model, edge_index, features, labels, test_mask)\n",
    "print(\"Test accuracy {:.3f}\".format(test_score))"
   ]
  },
  {
   "cell_type": "code",
   "execution_count": 181,
   "metadata": {},
   "outputs": [
    {
     "data": {
      "image/png": "[encoded data removed]",
      "text/plain": [
       "<Figure size 600x600 with 1 Axes>"
      ]
     },
     "metadata": {},
     "output_type": "display_data"
    }
   ],
   "source": [
    "utils.plot_accuracy(train_score, val_score)"
   ]
  },
  {
   "cell_type": "code",
   "execution_count": 182,
   "metadata": {},
   "outputs": [
    {
     "data": {
      "image/png": "[encoded data removed]",
      "text/plain": [
       "<Figure size 600x600 with 1 Axes>"
      ]
     },
     "metadata": {},
     "output_type": "display_data"
    }
   ],
   "source": [
    "utils.plot_loss(loss_values)"
   ]
  },
  {
   "cell_type": "code",
   "execution_count": null,
   "metadata": {},
   "outputs": [],
   "source": []
  }
 ],
 "metadata": {
  "kernelspec": {
   "display_name": "base",
   "language": "python",
   "name": "python3"
  },
  "language_info": {
   "codemirror_mode": {
    "name": "ipython",
    "version": 3
   },
   "file_extension": ".py",
   "mimetype": "text/x-python",
   "name": "python",
   "nbconvert_exporter": "python",
   "pygments_lexer": "ipython3",
   "version": "3.10.9"
  }
 },
 "nbformat": 4,
 "nbformat_minor": 2
}
