{
 "cells": [
  {
   "cell_type": "code",
   "execution_count": 1,
   "metadata": {},
   "outputs": [],
   "source": [
    "import time\n",
    "\n",
    "import torch\n",
    "import torch.nn as nn\n",
    "import torch.nn.functional as F\n",
    "\n",
    "# Check if GPU is available\n",
    "device = torch.device('cuda' if torch.cuda.is_available() else 'cpu')"
   ]
  },
  {
   "cell_type": "code",
   "execution_count": 2,
   "metadata": {},
   "outputs": [
    {
     "data": {
      "text/plain": [
       "device(type='cuda')"
      ]
     },
     "execution_count": 2,
     "metadata": {},
     "output_type": "execute_result"
    }
   ],
   "source": [
    "device"
   ]
  },
  {
   "cell_type": "code",
   "execution_count": 3,
   "metadata": {},
   "outputs": [],
   "source": [
    "import src.CayleyNet as CayleyNet\n",
    "import src.CORA as CORA\n",
    "import src.utils as utils"
   ]
  },
  {
   "cell_type": "code",
   "execution_count": 4,
   "metadata": {},
   "outputs": [
    {
     "data": {
      "text/plain": [
       "<module 'src.utils' from '/home/infres/avalenca-22/CayleyNets/src/utils.py'>"
      ]
     },
     "execution_count": 4,
     "metadata": {},
     "output_type": "execute_result"
    }
   ],
   "source": [
    "# Reload when files are changed\n",
    "import importlib\n",
    "importlib.reload(CayleyNet)\n",
    "importlib.reload(CORA)\n",
    "importlib.reload(utils)"
   ]
  },
  {
   "cell_type": "code",
   "execution_count": 5,
   "metadata": {},
   "outputs": [
    {
     "name": "stdout",
     "output_type": "stream",
     "text": [
      "Parsing files...\n",
      "Done.\n"
     ]
    }
   ],
   "source": [
    "# Import dataset\n",
    "cora = CORA.CORA()"
   ]
  },
  {
   "cell_type": "code",
   "execution_count": 6,
   "metadata": {},
   "outputs": [
    {
     "name": "stdout",
     "output_type": "stream",
     "text": [
      "CORA dataset\n",
      "Number of nodes: 2708\n",
      "Number of edges: 10556\n",
      "Number of features per node: 1433\n"
     ]
    }
   ],
   "source": [
    "# Print properties of the dataset\n",
    "dataset = cora\n",
    "print(dataset.description)\n",
    "print(f'Number of nodes: {dataset.n}')\n",
    "print(f'Number of edges: {dataset.n_edges}')\n",
    "print(f'Number of features per node: {dataset.n_features}')"
   ]
  },
  {
   "cell_type": "code",
   "execution_count": 7,
   "metadata": {},
   "outputs": [],
   "source": [
    "# Extended split of the CORA dataset\n",
    "train_mask, test_mask, val_mask = utils.split_train_test_val(dataset.n, 500, 500) "
   ]
  },
  {
   "cell_type": "code",
   "execution_count": 8,
   "metadata": {},
   "outputs": [],
   "source": [
    "# Features and labels as tensors\n",
    "features = torch.Tensor(1.0*dataset.features).to(device)\n",
    "labels = torch.Tensor(dataset.labels).long().to(device)\n",
    "edge_index = dataset.get_edge_index().to(device)\n",
    "\n",
    "# Masks as tensors\n",
    "train_mask = torch.Tensor(train_mask).bool().to(device)\n",
    "test_mask = torch.Tensor(test_mask).bool().to(device)\n",
    "val_mask = torch.Tensor(val_mask).bool().to(device)"
   ]
  },
  {
   "cell_type": "code",
   "execution_count": 9,
   "metadata": {},
   "outputs": [],
   "source": [
    "# Hyperparameters (Section 4.5)\n",
    "in_feats = dataset.n_features\n",
    "n_classes = dataset.n_classes\n",
    "n_hidden = 16\n",
    "n_hidden_layers = 1 # number of hidden layers\n",
    "r = 5 # Cayley polynomial order \n",
    "# obs: we weren't able to identify the value of this last parameter in the paper"
   ]
  },
  {
   "cell_type": "code",
   "execution_count": 10,
   "metadata": {},
   "outputs": [
    {
     "name": "stderr",
     "output_type": "stream",
     "text": [
      "/home/infres/avalenca-22/.local/lib/python3.10/site-packages/torch/nn/modules/module.py:1133: UserWarning: Complex modules are a new feature under active development whose design may change, and some modules might not work as expected when using complex tensors as parameters or buffers. Please file an issue at https://github.com/pytorch/pytorch/issues/new?template=bug-report.yml if a complex module does not work as expected.\n",
      "  warnings.warn(\n"
     ]
    }
   ],
   "source": [
    "p_dropout=0.5\n",
    "normalization = 'sym'\n",
    "model = CayleyNet.CayleyNet(in_feats, n_classes, n_hidden, n_hidden_layers, r=r, p_dropout=p_dropout, normalization=normalization, sparse=False, seed=0)"
   ]
  },
  {
   "cell_type": "code",
   "execution_count": 11,
   "metadata": {},
   "outputs": [
    {
     "name": "stdout",
     "output_type": "stream",
     "text": [
      "CayleyNet(\n",
      "  (layers): ModuleList(\n",
      "    (0): CayleyConv(1433, 16, r=5, normalization=sym)\n",
      "    (1): CayleyConv(16, 7, r=5, normalization=sym)\n",
      "  )\n",
      ")\n",
      "Number of parameters: 23042\n",
      "Number of parameters: 22929\n",
      "Number of parameters: 113\n"
     ]
    }
   ],
   "source": [
    "print(model)\n",
    "print(f'Number of parameters: {sum(p.numel() for p in model.parameters())}')\n",
    "print(f'Number of parameters: {sum(p.numel() for p in model.layers[0].parameters())}')\n",
    "print(f'Number of parameters: {sum(p.numel() for p in model.layers[1].parameters())}')           "
   ]
  },
  {
   "cell_type": "code",
   "execution_count": 12,
   "metadata": {},
   "outputs": [],
   "source": [
    "# Optimizer\n",
    "lr = 5e-3\n",
    "weight_decay = 5e-4\n",
    "optimizer = torch.optim.Adam(model.parameters(), lr=lr, weight_decay=weight_decay)"
   ]
  },
  {
   "cell_type": "code",
   "execution_count": 13,
   "metadata": {},
   "outputs": [
    {
     "name": "stdout",
     "output_type": "stream",
     "text": [
      "Epoch 00 | Loss 2.118 | Accuracy (validation) 0.154 | Elapsed time: 2.09s\n",
      "Epoch 01 | Loss 1.947 | Accuracy (validation) 0.180 | Elapsed time: 1.54s\n",
      "Epoch 02 | Loss 1.859 | Accuracy (validation) 0.230 | Elapsed time: 1.54s\n",
      "Epoch 03 | Loss 1.785 | Accuracy (validation) 0.256 | Elapsed time: 1.54s\n",
      "Epoch 04 | Loss 1.718 | Accuracy (validation) 0.278 | Elapsed time: 1.54s\n",
      "Epoch 05 | Loss 1.653 | Accuracy (validation) 0.306 | Elapsed time: 1.54s\n",
      "Epoch 06 | Loss 1.587 | Accuracy (validation) 0.330 | Elapsed time: 1.54s\n",
      "Epoch 07 | Loss 1.520 | Accuracy (validation) 0.354 | Elapsed time: 1.54s\n",
      "Epoch 08 | Loss 1.453 | Accuracy (validation) 0.376 | Elapsed time: 1.54s\n",
      "Epoch 09 | Loss 1.384 | Accuracy (validation) 0.406 | Elapsed time: 1.54s\n",
      "Epoch 10 | Loss 1.314 | Accuracy (validation) 0.424 | Elapsed time: 1.54s\n",
      "Epoch 11 | Loss 1.243 | Accuracy (validation) 0.450 | Elapsed time: 1.54s\n",
      "Epoch 12 | Loss 1.173 | Accuracy (validation) 0.482 | Elapsed time: 1.54s\n",
      "Epoch 13 | Loss 1.104 | Accuracy (validation) 0.506 | Elapsed time: 1.55s\n",
      "Epoch 14 | Loss 1.036 | Accuracy (validation) 0.528 | Elapsed time: 1.55s\n",
      "Epoch 15 | Loss 0.972 | Accuracy (validation) 0.550 | Elapsed time: 1.55s\n",
      "Epoch 16 | Loss 0.911 | Accuracy (validation) 0.558 | Elapsed time: 1.55s\n",
      "Epoch 17 | Loss 0.855 | Accuracy (validation) 0.586 | Elapsed time: 1.55s\n",
      "Epoch 18 | Loss 0.801 | Accuracy (validation) 0.602 | Elapsed time: 1.55s\n",
      "Epoch 19 | Loss 0.751 | Accuracy (validation) 0.606 | Elapsed time: 1.55s\n",
      "Epoch 20 | Loss 0.703 | Accuracy (validation) 0.614 | Elapsed time: 1.55s\n",
      "Epoch 21 | Loss 0.658 | Accuracy (validation) 0.622 | Elapsed time: 1.55s\n",
      "Epoch 22 | Loss 0.614 | Accuracy (validation) 0.632 | Elapsed time: 1.55s\n",
      "Epoch 23 | Loss 0.573 | Accuracy (validation) 0.636 | Elapsed time: 1.55s\n",
      "Epoch 24 | Loss 0.535 | Accuracy (validation) 0.644 | Elapsed time: 1.55s\n",
      "Epoch 25 | Loss 0.499 | Accuracy (validation) 0.642 | Elapsed time: 1.55s\n",
      "Epoch 26 | Loss 0.465 | Accuracy (validation) 0.642 | Elapsed time: 1.55s\n",
      "Epoch 27 | Loss 0.434 | Accuracy (validation) 0.642 | Elapsed time: 1.56s\n",
      "Epoch 28 | Loss 0.406 | Accuracy (validation) 0.644 | Elapsed time: 1.55s\n",
      "Epoch 29 | Loss 0.379 | Accuracy (validation) 0.652 | Elapsed time: 1.55s\n",
      "Epoch 30 | Loss 0.354 | Accuracy (validation) 0.664 | Elapsed time: 1.56s\n",
      "Epoch 31 | Loss 0.331 | Accuracy (validation) 0.668 | Elapsed time: 1.55s\n",
      "Epoch 32 | Loss 0.309 | Accuracy (validation) 0.674 | Elapsed time: 1.55s\n",
      "Epoch 33 | Loss 0.289 | Accuracy (validation) 0.678 | Elapsed time: 1.56s\n",
      "Epoch 34 | Loss 0.271 | Accuracy (validation) 0.684 | Elapsed time: 1.56s\n",
      "Epoch 35 | Loss 0.254 | Accuracy (validation) 0.686 | Elapsed time: 1.56s\n",
      "Epoch 36 | Loss 0.238 | Accuracy (validation) 0.696 | Elapsed time: 1.55s\n",
      "Epoch 37 | Loss 0.224 | Accuracy (validation) 0.700 | Elapsed time: 1.56s\n",
      "Epoch 38 | Loss 0.210 | Accuracy (validation) 0.700 | Elapsed time: 1.55s\n",
      "Epoch 39 | Loss 0.198 | Accuracy (validation) 0.704 | Elapsed time: 1.56s\n",
      "Epoch 40 | Loss 0.186 | Accuracy (validation) 0.706 | Elapsed time: 1.56s\n",
      "Epoch 41 | Loss 0.176 | Accuracy (validation) 0.708 | Elapsed time: 1.56s\n",
      "Epoch 42 | Loss 0.166 | Accuracy (validation) 0.706 | Elapsed time: 1.56s\n",
      "Epoch 43 | Loss 0.157 | Accuracy (validation) 0.708 | Elapsed time: 1.56s\n",
      "Epoch 44 | Loss 0.149 | Accuracy (validation) 0.712 | Elapsed time: 1.56s\n",
      "Epoch 45 | Loss 0.141 | Accuracy (validation) 0.714 | Elapsed time: 1.56s\n",
      "Epoch 46 | Loss 0.134 | Accuracy (validation) 0.714 | Elapsed time: 1.56s\n",
      "Epoch 47 | Loss 0.127 | Accuracy (validation) 0.716 | Elapsed time: 1.56s\n",
      "Epoch 48 | Loss 0.121 | Accuracy (validation) 0.716 | Elapsed time: 1.56s\n",
      "Epoch 49 | Loss 0.116 | Accuracy (validation) 0.712 | Elapsed time: 1.56s\n",
      "Epoch 50 | Loss 0.111 | Accuracy (validation) 0.718 | Elapsed time: 1.56s\n",
      "Epoch 51 | Loss 0.106 | Accuracy (validation) 0.718 | Elapsed time: 1.56s\n",
      "Epoch 52 | Loss 0.101 | Accuracy (validation) 0.718 | Elapsed time: 1.56s\n",
      "Epoch 53 | Loss 0.097 | Accuracy (validation) 0.720 | Elapsed time: 1.56s\n",
      "Epoch 54 | Loss 0.093 | Accuracy (validation) 0.720 | Elapsed time: 1.56s\n",
      "Epoch 55 | Loss 0.090 | Accuracy (validation) 0.724 | Elapsed time: 1.56s\n",
      "Epoch 56 | Loss 0.086 | Accuracy (validation) 0.726 | Elapsed time: 1.56s\n",
      "Epoch 57 | Loss 0.083 | Accuracy (validation) 0.728 | Elapsed time: 1.56s\n",
      "Epoch 58 | Loss 0.080 | Accuracy (validation) 0.730 | Elapsed time: 1.56s\n",
      "Epoch 59 | Loss 0.078 | Accuracy (validation) 0.730 | Elapsed time: 1.57s\n",
      "Epoch 60 | Loss 0.075 | Accuracy (validation) 0.732 | Elapsed time: 1.56s\n",
      "Epoch 61 | Loss 0.073 | Accuracy (validation) 0.732 | Elapsed time: 1.56s\n",
      "Epoch 62 | Loss 0.071 | Accuracy (validation) 0.732 | Elapsed time: 1.56s\n",
      "Epoch 63 | Loss 0.069 | Accuracy (validation) 0.732 | Elapsed time: 1.56s\n",
      "Epoch 64 | Loss 0.067 | Accuracy (validation) 0.732 | Elapsed time: 1.56s\n",
      "Epoch 65 | Loss 0.065 | Accuracy (validation) 0.732 | Elapsed time: 1.56s\n",
      "Epoch 66 | Loss 0.063 | Accuracy (validation) 0.734 | Elapsed time: 1.56s\n",
      "Epoch 67 | Loss 0.062 | Accuracy (validation) 0.734 | Elapsed time: 1.56s\n",
      "Epoch 68 | Loss 0.060 | Accuracy (validation) 0.736 | Elapsed time: 1.56s\n",
      "Epoch 69 | Loss 0.059 | Accuracy (validation) 0.736 | Elapsed time: 1.57s\n",
      "Epoch 70 | Loss 0.058 | Accuracy (validation) 0.738 | Elapsed time: 1.56s\n",
      "Epoch 71 | Loss 0.056 | Accuracy (validation) 0.740 | Elapsed time: 1.56s\n",
      "Epoch 72 | Loss 0.055 | Accuracy (validation) 0.742 | Elapsed time: 1.56s\n",
      "Epoch 73 | Loss 0.054 | Accuracy (validation) 0.742 | Elapsed time: 1.56s\n",
      "Epoch 74 | Loss 0.053 | Accuracy (validation) 0.742 | Elapsed time: 1.56s\n",
      "Epoch 75 | Loss 0.052 | Accuracy (validation) 0.740 | Elapsed time: 1.57s\n",
      "Epoch 76 | Loss 0.051 | Accuracy (validation) 0.740 | Elapsed time: 1.57s\n",
      "Epoch 77 | Loss 0.051 | Accuracy (validation) 0.740 | Elapsed time: 1.56s\n",
      "Epoch 78 | Loss 0.050 | Accuracy (validation) 0.740 | Elapsed time: 1.56s\n",
      "Epoch 79 | Loss 0.049 | Accuracy (validation) 0.742 | Elapsed time: 1.56s\n",
      "Epoch 80 | Loss 0.048 | Accuracy (validation) 0.740 | Elapsed time: 1.56s\n",
      "Epoch 81 | Loss 0.048 | Accuracy (validation) 0.742 | Elapsed time: 1.56s\n",
      "Epoch 82 | Loss 0.047 | Accuracy (validation) 0.742 | Elapsed time: 1.56s\n",
      "Epoch 83 | Loss 0.046 | Accuracy (validation) 0.744 | Elapsed time: 1.56s\n",
      "Epoch 84 | Loss 0.046 | Accuracy (validation) 0.744 | Elapsed time: 1.56s\n",
      "Epoch 85 | Loss 0.045 | Accuracy (validation) 0.746 | Elapsed time: 1.57s\n",
      "Epoch 86 | Loss 0.045 | Accuracy (validation) 0.746 | Elapsed time: 1.56s\n",
      "Epoch 87 | Loss 0.044 | Accuracy (validation) 0.748 | Elapsed time: 1.56s\n",
      "Epoch 88 | Loss 0.044 | Accuracy (validation) 0.748 | Elapsed time: 1.56s\n",
      "Epoch 89 | Loss 0.043 | Accuracy (validation) 0.750 | Elapsed time: 1.57s\n",
      "Epoch 90 | Loss 0.043 | Accuracy (validation) 0.750 | Elapsed time: 1.56s\n",
      "Epoch 91 | Loss 0.042 | Accuracy (validation) 0.750 | Elapsed time: 1.56s\n",
      "Epoch 92 | Loss 0.042 | Accuracy (validation) 0.750 | Elapsed time: 1.56s\n",
      "Epoch 93 | Loss 0.042 | Accuracy (validation) 0.754 | Elapsed time: 1.56s\n",
      "Epoch 94 | Loss 0.041 | Accuracy (validation) 0.752 | Elapsed time: 1.56s\n",
      "Epoch 95 | Loss 0.041 | Accuracy (validation) 0.752 | Elapsed time: 1.56s\n",
      "Epoch 96 | Loss 0.040 | Accuracy (validation) 0.754 | Elapsed time: 1.56s\n",
      "Epoch 97 | Loss 0.040 | Accuracy (validation) 0.754 | Elapsed time: 1.56s\n",
      "Epoch 98 | Loss 0.040 | Accuracy (validation) 0.754 | Elapsed time: 1.56s\n",
      "Epoch 99 | Loss 0.039 | Accuracy (validation) 0.754 | Elapsed time: 1.56s\n",
      "Epoch 100 | Loss 0.039 | Accuracy (validation) 0.752 | Elapsed time: 1.57s\n",
      "Epoch 101 | Loss 0.039 | Accuracy (validation) 0.752 | Elapsed time: 1.56s\n",
      "Epoch 102 | Loss 0.039 | Accuracy (validation) 0.752 | Elapsed time: 1.56s\n",
      "Epoch 103 | Loss 0.038 | Accuracy (validation) 0.752 | Elapsed time: 1.56s\n",
      "Epoch 104 | Loss 0.038 | Accuracy (validation) 0.752 | Elapsed time: 1.56s\n",
      "Epoch 105 | Loss 0.038 | Accuracy (validation) 0.752 | Elapsed time: 1.56s\n",
      "Epoch 106 | Loss 0.038 | Accuracy (validation) 0.754 | Elapsed time: 1.56s\n",
      "Epoch 107 | Loss 0.037 | Accuracy (validation) 0.754 | Elapsed time: 1.56s\n",
      "Epoch 108 | Loss 0.037 | Accuracy (validation) 0.756 | Elapsed time: 1.56s\n",
      "Epoch 109 | Loss 0.037 | Accuracy (validation) 0.760 | Elapsed time: 1.56s\n",
      "Epoch 110 | Loss 0.037 | Accuracy (validation) 0.760 | Elapsed time: 1.57s\n",
      "Epoch 111 | Loss 0.036 | Accuracy (validation) 0.760 | Elapsed time: 1.56s\n",
      "Epoch 112 | Loss 0.036 | Accuracy (validation) 0.760 | Elapsed time: 1.56s\n",
      "Epoch 113 | Loss 0.036 | Accuracy (validation) 0.758 | Elapsed time: 1.57s\n",
      "Epoch 114 | Loss 0.036 | Accuracy (validation) 0.758 | Elapsed time: 1.56s\n",
      "Epoch 115 | Loss 0.036 | Accuracy (validation) 0.758 | Elapsed time: 1.56s\n",
      "Epoch 116 | Loss 0.035 | Accuracy (validation) 0.758 | Elapsed time: 1.56s\n",
      "Epoch 117 | Loss 0.035 | Accuracy (validation) 0.758 | Elapsed time: 1.56s\n",
      "Epoch 118 | Loss 0.035 | Accuracy (validation) 0.758 | Elapsed time: 1.56s\n",
      "Epoch 119 | Loss 0.035 | Accuracy (validation) 0.758 | Elapsed time: 1.57s\n",
      "Epoch 120 | Loss 0.035 | Accuracy (validation) 0.758 | Elapsed time: 1.56s\n",
      "Epoch 121 | Loss 0.034 | Accuracy (validation) 0.758 | Elapsed time: 1.57s\n",
      "Epoch 122 | Loss 0.034 | Accuracy (validation) 0.758 | Elapsed time: 1.56s\n",
      "Epoch 123 | Loss 0.034 | Accuracy (validation) 0.760 | Elapsed time: 1.56s\n",
      "Epoch 124 | Loss 0.034 | Accuracy (validation) 0.762 | Elapsed time: 1.56s\n",
      "Epoch 125 | Loss 0.034 | Accuracy (validation) 0.762 | Elapsed time: 1.56s\n",
      "Epoch 126 | Loss 0.034 | Accuracy (validation) 0.762 | Elapsed time: 1.56s\n",
      "Epoch 127 | Loss 0.033 | Accuracy (validation) 0.762 | Elapsed time: 1.56s\n",
      "Epoch 128 | Loss 0.033 | Accuracy (validation) 0.762 | Elapsed time: 1.56s\n",
      "Epoch 129 | Loss 0.033 | Accuracy (validation) 0.762 | Elapsed time: 1.56s\n",
      "Epoch 130 | Loss 0.033 | Accuracy (validation) 0.762 | Elapsed time: 1.56s\n",
      "Epoch 131 | Loss 0.033 | Accuracy (validation) 0.762 | Elapsed time: 1.57s\n",
      "Epoch 132 | Loss 0.033 | Accuracy (validation) 0.762 | Elapsed time: 1.56s\n",
      "Epoch 133 | Loss 0.032 | Accuracy (validation) 0.762 | Elapsed time: 1.56s\n",
      "Epoch 134 | Loss 0.032 | Accuracy (validation) 0.762 | Elapsed time: 1.56s\n",
      "Epoch 135 | Loss 0.032 | Accuracy (validation) 0.760 | Elapsed time: 1.56s\n",
      "Epoch 136 | Loss 0.032 | Accuracy (validation) 0.758 | Elapsed time: 1.56s\n",
      "Epoch 137 | Loss 0.032 | Accuracy (validation) 0.758 | Elapsed time: 1.56s\n",
      "Epoch 138 | Loss 0.032 | Accuracy (validation) 0.758 | Elapsed time: 1.56s\n",
      "Epoch 139 | Loss 0.031 | Accuracy (validation) 0.760 | Elapsed time: 1.57s\n",
      "Epoch 140 | Loss 0.031 | Accuracy (validation) 0.758 | Elapsed time: 1.56s\n",
      "Epoch 141 | Loss 0.031 | Accuracy (validation) 0.758 | Elapsed time: 1.57s\n",
      "Epoch 142 | Loss 0.031 | Accuracy (validation) 0.758 | Elapsed time: 1.56s\n",
      "Epoch 143 | Loss 0.031 | Accuracy (validation) 0.758 | Elapsed time: 1.56s\n",
      "Epoch 144 | Loss 0.031 | Accuracy (validation) 0.758 | Elapsed time: 1.57s\n",
      "Epoch 145 | Loss 0.031 | Accuracy (validation) 0.758 | Elapsed time: 1.56s\n",
      "Epoch 146 | Loss 0.030 | Accuracy (validation) 0.758 | Elapsed time: 1.56s\n",
      "Epoch 147 | Loss 0.030 | Accuracy (validation) 0.758 | Elapsed time: 1.57s\n",
      "Epoch 148 | Loss 0.030 | Accuracy (validation) 0.760 | Elapsed time: 1.56s\n",
      "Epoch 149 | Loss 0.030 | Accuracy (validation) 0.760 | Elapsed time: 1.57s\n",
      "Epoch 150 | Loss 0.030 | Accuracy (validation) 0.760 | Elapsed time: 1.57s\n",
      "Epoch 151 | Loss 0.030 | Accuracy (validation) 0.760 | Elapsed time: 1.56s\n",
      "Epoch 152 | Loss 0.030 | Accuracy (validation) 0.760 | Elapsed time: 1.57s\n",
      "Epoch 153 | Loss 0.030 | Accuracy (validation) 0.760 | Elapsed time: 1.56s\n",
      "Epoch 154 | Loss 0.029 | Accuracy (validation) 0.760 | Elapsed time: 1.56s\n",
      "Epoch 155 | Loss 0.029 | Accuracy (validation) 0.760 | Elapsed time: 1.56s\n",
      "Epoch 156 | Loss 0.029 | Accuracy (validation) 0.760 | Elapsed time: 1.56s\n",
      "Epoch 157 | Loss 0.029 | Accuracy (validation) 0.760 | Elapsed time: 1.56s\n",
      "Epoch 158 | Loss 0.029 | Accuracy (validation) 0.760 | Elapsed time: 1.56s\n",
      "Epoch 159 | Loss 0.029 | Accuracy (validation) 0.760 | Elapsed time: 1.57s\n",
      "Epoch 160 | Loss 0.029 | Accuracy (validation) 0.760 | Elapsed time: 1.57s\n",
      "Epoch 161 | Loss 0.029 | Accuracy (validation) 0.760 | Elapsed time: 1.56s\n",
      "Epoch 162 | Loss 0.028 | Accuracy (validation) 0.760 | Elapsed time: 1.56s\n",
      "Epoch 163 | Loss 0.028 | Accuracy (validation) 0.758 | Elapsed time: 1.56s\n",
      "Epoch 164 | Loss 0.028 | Accuracy (validation) 0.758 | Elapsed time: 1.56s\n",
      "Epoch 165 | Loss 0.028 | Accuracy (validation) 0.758 | Elapsed time: 1.57s\n",
      "Epoch 166 | Loss 0.028 | Accuracy (validation) 0.758 | Elapsed time: 1.57s\n",
      "Epoch 167 | Loss 0.028 | Accuracy (validation) 0.762 | Elapsed time: 1.56s\n",
      "Epoch 168 | Loss 0.028 | Accuracy (validation) 0.762 | Elapsed time: 1.57s\n",
      "Epoch 169 | Loss 0.028 | Accuracy (validation) 0.762 | Elapsed time: 1.57s\n",
      "Epoch 170 | Loss 0.028 | Accuracy (validation) 0.760 | Elapsed time: 1.56s\n",
      "Epoch 171 | Loss 0.027 | Accuracy (validation) 0.760 | Elapsed time: 1.57s\n",
      "Epoch 172 | Loss 0.027 | Accuracy (validation) 0.760 | Elapsed time: 1.56s\n",
      "Epoch 173 | Loss 0.027 | Accuracy (validation) 0.760 | Elapsed time: 1.56s\n",
      "Epoch 174 | Loss 0.027 | Accuracy (validation) 0.762 | Elapsed time: 1.57s\n",
      "Epoch 175 | Loss 0.027 | Accuracy (validation) 0.762 | Elapsed time: 1.57s\n",
      "Epoch 176 | Loss 0.027 | Accuracy (validation) 0.762 | Elapsed time: 1.56s\n",
      "Epoch 177 | Loss 0.027 | Accuracy (validation) 0.762 | Elapsed time: 1.56s\n",
      "Epoch 178 | Loss 0.027 | Accuracy (validation) 0.762 | Elapsed time: 1.56s\n",
      "Epoch 179 | Loss 0.027 | Accuracy (validation) 0.762 | Elapsed time: 1.56s\n",
      "Epoch 180 | Loss 0.027 | Accuracy (validation) 0.762 | Elapsed time: 1.56s\n",
      "Epoch 181 | Loss 0.026 | Accuracy (validation) 0.762 | Elapsed time: 1.57s\n",
      "Epoch 182 | Loss 0.026 | Accuracy (validation) 0.764 | Elapsed time: 1.57s\n",
      "Epoch 183 | Loss 0.026 | Accuracy (validation) 0.764 | Elapsed time: 1.57s\n",
      "Epoch 184 | Loss 0.026 | Accuracy (validation) 0.764 | Elapsed time: 1.56s\n",
      "Epoch 185 | Loss 0.026 | Accuracy (validation) 0.764 | Elapsed time: 1.56s\n",
      "Epoch 186 | Loss 0.026 | Accuracy (validation) 0.764 | Elapsed time: 1.57s\n",
      "Epoch 187 | Loss 0.026 | Accuracy (validation) 0.764 | Elapsed time: 1.56s\n",
      "Epoch 188 | Loss 0.026 | Accuracy (validation) 0.764 | Elapsed time: 1.56s\n",
      "Epoch 189 | Loss 0.026 | Accuracy (validation) 0.764 | Elapsed time: 1.56s\n",
      "Epoch 190 | Loss 0.026 | Accuracy (validation) 0.764 | Elapsed time: 1.56s\n",
      "Epoch 191 | Loss 0.026 | Accuracy (validation) 0.764 | Elapsed time: 1.56s\n",
      "Epoch 192 | Loss 0.025 | Accuracy (validation) 0.764 | Elapsed time: 1.56s\n",
      "Epoch 193 | Loss 0.025 | Accuracy (validation) 0.764 | Elapsed time: 1.57s\n",
      "Epoch 194 | Loss 0.025 | Accuracy (validation) 0.764 | Elapsed time: 1.56s\n",
      "Epoch 195 | Loss 0.025 | Accuracy (validation) 0.764 | Elapsed time: 1.57s\n",
      "Epoch 196 | Loss 0.025 | Accuracy (validation) 0.764 | Elapsed time: 1.56s\n",
      "Epoch 197 | Loss 0.025 | Accuracy (validation) 0.764 | Elapsed time: 1.56s\n",
      "Epoch 198 | Loss 0.025 | Accuracy (validation) 0.764 | Elapsed time: 1.56s\n",
      "Epoch 199 | Loss 0.025 | Accuracy (validation) 0.764 | Elapsed time: 1.56s\n"
     ]
    }
   ],
   "source": [
    "# Train the model\n",
    "batch_size = 32\n",
    "epochs = 200\n",
    "\n",
    "# save loss values for plotting\n",
    "loss_values = []\n",
    "val_score = []\n",
    "train_score = []\n",
    "\n",
    "verbose = True\n",
    "for e in range(epochs):\n",
    "    start = time.time()\n",
    "\n",
    "    # Compute output\n",
    "    logp = model(features, edge_index)\n",
    "\n",
    "    # Compute loss\n",
    "    loss = F.nll_loss(logp[train_mask], labels[train_mask])\n",
    "    loss_values.append(loss.item())\n",
    "\n",
    "    # Perform backward pass\n",
    "    optimizer.zero_grad()\n",
    "    loss.backward()\n",
    "    optimizer.step()\n",
    "\n",
    "    # Evaluation\n",
    "    score = utils.eval_pytorch_geometric_model(model, edge_index, features, labels, train_mask)\n",
    "    train_score.append(score)\n",
    "\n",
    "    score = utils.eval_pytorch_geometric_model(model, edge_index, features, labels, val_mask)\n",
    "    val_score.append(score)\n",
    "\n",
    "    # Print loss\n",
    "    end = time.time()\n",
    "    if verbose:\n",
    "        print(\"Epoch {:02d} | Loss {:.3f} | Accuracy (validation) {:.3f} | Elapsed time: {:.2f}s\".format(e, loss.item(), score, end - start))"
   ]
  },
  {
   "cell_type": "code",
   "execution_count": 14,
   "metadata": {},
   "outputs": [
    {
     "name": "stdout",
     "output_type": "stream",
     "text": [
      "Test accuracy 0.760\n"
     ]
    }
   ],
   "source": [
    "test_score = utils.eval_pytorch_geometric_model(model, edge_index, features, labels, test_mask)\n",
    "print(\"Test accuracy {:.3f}\".format(test_score))"
   ]
  },
  {
   "cell_type": "code",
   "execution_count": 15,
   "metadata": {},
   "outputs": [],
   "source": [
    "results = {'model': 'CayleyNet',\n",
    "           'dataset': dataset.name,\n",
    "           'training size': len(train_mask),\n",
    "           'validation size': len(val_mask),\n",
    "           'test size': len(test_mask),\n",
    "           'n hidden nodes': n_hidden,\n",
    "           'n hidden layers': n_hidden_layers,\n",
    "           'polynomial order': r,\n",
    "           'laplacian normalization': normalization,\n",
    "           'dropout probability': p_dropout,\n",
    "           'learning rate': lr,\n",
    "           'weight decay': weight_decay,\n",
    "           'batch size': batch_size,\n",
    "           'n epochs': epochs,\n",
    "           'loss': loss_values,\n",
    "           'train accuracy': train_score,\n",
    "           'validation accuracy': val_score,\n",
    "           'test accuracy': test_score\n",
    "           }"
   ]
  },
  {
   "cell_type": "code",
   "execution_count": 16,
   "metadata": {},
   "outputs": [],
   "source": [
    "import pickle\n",
    "import datetime\n",
    "ts = datetime.datetime.now()\n",
    "ts = '{}-{}-{}-{}-{}-{}'.format(ts.year, ts.month, ts.day, ts.hour, ts.minute, ts.second)\n",
    "fname = './results/cayley_{}.pkl'.format(ts)\n",
    "with open(fname, 'wb') as f:\n",
    "    pickle.dump(results, f)\n",
    "        \n",
    "with open(fname, 'rb') as f:\n",
    "    loaded_results = pickle.load(f)"
   ]
  },
  {
   "cell_type": "code",
   "execution_count": 17,
   "metadata": {},
   "outputs": [
    {
     "data": {
      "image/png": "[encoded data removed]",
      "text/plain": [
       "<Figure size 600x600 with 1 Axes>"
      ]
     },
     "metadata": {},
     "output_type": "display_data"
    }
   ],
   "source": [
    "utils.plot_accuracy(loaded_results['train accuracy'], loaded_results['validation accuracy'])"
   ]
  },
  {
   "cell_type": "code",
   "execution_count": 18,
   "metadata": {},
   "outputs": [
    {
     "data": {
      "image/png": "[encoded data removed]",
      "text/plain": [
       "<Figure size 600x600 with 1 Axes>"
      ]
     },
     "metadata": {},
     "output_type": "display_data"
    }
   ],
   "source": [
    "utils.plot_loss(loaded_results['loss'])"
   ]
  },
  {
   "cell_type": "code",
   "execution_count": 19,
   "metadata": {},
   "outputs": [
    {
     "name": "stdout",
     "output_type": "stream",
     "text": [
      "Test accuracy 0.760\n"
     ]
    }
   ],
   "source": [
    "print(\"Test accuracy {:.3f}\".format(loaded_results['test accuracy']))"
   ]
  },
  {
   "cell_type": "markdown",
   "metadata": {},
   "source": [
    "# CayLeyNet for community detection"
   ]
  },
  {
   "cell_type": "code",
   "execution_count": 1,
   "metadata": {},
   "outputs": [
    {
     "ename": "ModuleNotFoundError",
     "evalue": "No module named 'sknetwork'",
     "output_type": "error",
     "traceback": [
      "\u001b[1;31m---------------------------------------------------------------------------\u001b[0m",
      "\u001b[1;31mModuleNotFoundError\u001b[0m                       Traceback (most recent call last)",
      "Cell \u001b[1;32mIn[1], line 1\u001b[0m\n\u001b[1;32m----> 1\u001b[0m \u001b[38;5;28;01mimport\u001b[39;00m \u001b[38;5;21;01msrc\u001b[39;00m\u001b[38;5;21;01m.\u001b[39;00m\u001b[38;5;21;01mCommunitiesGraph\u001b[39;00m \u001b[38;5;28;01mas\u001b[39;00m \u001b[38;5;21;01mCG\u001b[39;00m\n\u001b[0;32m      2\u001b[0m \u001b[38;5;28;01mimport\u001b[39;00m \u001b[38;5;21;01mnumpy\u001b[39;00m \u001b[38;5;28;01mas\u001b[39;00m \u001b[38;5;21;01mnp\u001b[39;00m\n",
      "File \u001b[1;32mc:\\Users\\Usuario\\Documents\\Documents\\MVA\\GDA\\Projet\\CayleyNets\\src\\CommunitiesGraph.py:6\u001b[0m\n\u001b[0;32m      3\u001b[0m \u001b[38;5;28;01mfrom\u001b[39;00m \u001b[38;5;21;01mscipy\u001b[39;00m \u001b[38;5;28;01mimport\u001b[39;00m sparse\n\u001b[0;32m      5\u001b[0m \u001b[38;5;28;01mfrom\u001b[39;00m \u001b[38;5;21;01mIPython\u001b[39;00m\u001b[38;5;21;01m.\u001b[39;00m\u001b[38;5;21;01mdisplay\u001b[39;00m \u001b[38;5;28;01mimport\u001b[39;00m display, SVG\n\u001b[1;32m----> 6\u001b[0m \u001b[38;5;28;01mfrom\u001b[39;00m \u001b[38;5;21;01msknetwork\u001b[39;00m\u001b[38;5;21;01m.\u001b[39;00m\u001b[38;5;21;01mvisualization\u001b[39;00m \u001b[38;5;28;01mimport\u001b[39;00m svg_graph\n\u001b[0;32m      8\u001b[0m \u001b[38;5;28;01mclass\u001b[39;00m \u001b[38;5;21;01mCommunitiesGraph\u001b[39;00m:\n\u001b[0;32m      9\u001b[0m \u001b[38;5;250m    \u001b[39m\u001b[38;5;124;03m\"\"\"\u001b[39;00m\n\u001b[0;32m     10\u001b[0m \u001b[38;5;124;03m    Generate a synthetic n-communities graph. Uses scikit-network to display graph.\u001b[39;00m\n\u001b[0;32m     11\u001b[0m \u001b[38;5;124;03m    \"\"\"\u001b[39;00m\n",
      "\u001b[1;31mModuleNotFoundError\u001b[0m: No module named 'sknetwork'"
     ]
    }
   ],
   "source": [
    "import src.CommunitiesGraph as CG\n",
    "import numpy as np"
   ]
  },
  {
   "cell_type": "code",
   "execution_count": 2,
   "metadata": {},
   "outputs": [
    {
     "ename": "NameError",
     "evalue": "name 'CG' is not defined",
     "output_type": "error",
     "traceback": [
      "\u001b[1;31m---------------------------------------------------------------------------\u001b[0m",
      "\u001b[1;31mNameError\u001b[0m                                 Traceback (most recent call last)",
      "Cell \u001b[1;32mIn[2], line 5\u001b[0m\n\u001b[0;32m      3\u001b[0m q\u001b[38;5;241m=\u001b[39m\u001b[38;5;241m0.001\u001b[39m\n\u001b[0;32m      4\u001b[0m n\u001b[38;5;241m=\u001b[39m\u001b[38;5;241m1000\u001b[39m\n\u001b[1;32m----> 5\u001b[0m graph \u001b[38;5;241m=\u001b[39m \u001b[43mCG\u001b[49m\u001b[38;5;241m.\u001b[39mCommunitiesGraph(n_community, p, q, n)\n\u001b[0;32m      7\u001b[0m Adj \u001b[38;5;241m=\u001b[39m graph\u001b[38;5;241m.\u001b[39madjacency\n\u001b[0;32m      8\u001b[0m edge_index \u001b[38;5;241m=\u001b[39m torch\u001b[38;5;241m.\u001b[39mtensor(np\u001b[38;5;241m.\u001b[39marray(Adj\u001b[38;5;241m.\u001b[39mnonzero()), dtype\u001b[38;5;241m=\u001b[39mtorch\u001b[38;5;241m.\u001b[39mlong)\u001b[38;5;241m.\u001b[39mto(device)\n",
      "\u001b[1;31mNameError\u001b[0m: name 'CG' is not defined"
     ]
    }
   ],
   "source": [
    "n_community=15\n",
    "p=0.5\n",
    "q=0.001\n",
    "n=1000\n",
    "graph = CG.CommunitiesGraph(n_community, p, q, n)\n",
    "\n",
    "Adj = graph.adjacency\n",
    "edge_index = torch.tensor(np.array(Adj.nonzero()), dtype=torch.long).to(device) "
   ]
  },
  {
   "cell_type": "code",
   "execution_count": 3,
   "metadata": {},
   "outputs": [
    {
     "ename": "NameError",
     "evalue": "name 'torch' is not defined",
     "output_type": "error",
     "traceback": [
      "\u001b[1;31m---------------------------------------------------------------------------\u001b[0m",
      "\u001b[1;31mNameError\u001b[0m                                 Traceback (most recent call last)",
      "Cell \u001b[1;32mIn[3], line 2\u001b[0m\n\u001b[0;32m      1\u001b[0m \u001b[38;5;66;03m# Generation of noisy steps signals s.t. f^j_i = 1 + sigma if i in cluster j and f^j_i = sigma if i not in cluster j\u001b[39;00m\n\u001b[1;32m----> 2\u001b[0m f \u001b[38;5;241m=\u001b[39m \u001b[43mtorch\u001b[49m\u001b[38;5;241m.\u001b[39mzeros((n_community, n))\n\u001b[0;32m      3\u001b[0m labels \u001b[38;5;241m=\u001b[39m graph\u001b[38;5;241m.\u001b[39mlabel\n\u001b[0;32m      6\u001b[0m \u001b[38;5;28;01mfor\u001b[39;00m i \u001b[38;5;129;01min\u001b[39;00m \u001b[38;5;28mrange\u001b[39m(n_community):\n",
      "\u001b[1;31mNameError\u001b[0m: name 'torch' is not defined"
     ]
    }
   ],
   "source": [
    "# Generation of noisy steps signals s.t. f^j_i = 1 + sigma if i in cluster j and f^j_i = sigma if i not in cluster j\n",
    "f = torch.zeros((n_community, n))\n",
    "labels = graph.label\n",
    "\n",
    "\n",
    "for i in range(n_community):\n",
    "    for j in range(n):\n",
    "        if labels[j] == i:\n",
    "            f[i, j] = 1 + np.random.normal(0, 0.3)\n",
    "        else:\n",
    "            f[i, j] = np.random.normal(0, 0.3)\n",
    "\n",
    "f = f.to(device)\n",
    "print(f.device)"
   ]
  },
  {
   "cell_type": "code",
   "execution_count": 4,
   "metadata": {},
   "outputs": [
    {
     "ename": "NameError",
     "evalue": "name 'CayleyNet' is not defined",
     "output_type": "error",
     "traceback": [
      "\u001b[1;31m---------------------------------------------------------------------------\u001b[0m",
      "\u001b[1;31mNameError\u001b[0m                                 Traceback (most recent call last)",
      "Cell \u001b[1;32mIn[4], line 12\u001b[0m\n\u001b[0;32m      9\u001b[0m normalization \u001b[38;5;241m=\u001b[39m \u001b[38;5;124m'\u001b[39m\u001b[38;5;124msym\u001b[39m\u001b[38;5;124m'\u001b[39m\n\u001b[0;32m     10\u001b[0m bias \u001b[38;5;241m=\u001b[39m \u001b[38;5;28;01mTrue\u001b[39;00m\n\u001b[1;32m---> 12\u001b[0m model \u001b[38;5;241m=\u001b[39m \u001b[43mCayleyNet\u001b[49m\u001b[38;5;241m.\u001b[39mCayleyNet(in_feats\u001b[38;5;241m=\u001b[39m feature_channels, n_classes \u001b[38;5;241m=\u001b[39m n_community, n_hidden \u001b[38;5;241m=\u001b[39m hidden_channels, n_layers\u001b[38;5;241m=\u001b[39m\u001b[38;5;241m1\u001b[39m, r \u001b[38;5;241m=\u001b[39m r, p_dropout\u001b[38;5;241m=\u001b[39mdropout, normalization\u001b[38;5;241m=\u001b[39mnormalization, sparse\u001b[38;5;241m=\u001b[39msparse)\n",
      "\u001b[1;31mNameError\u001b[0m: name 'CayleyNet' is not defined"
     ]
    }
   ],
   "source": [
    "# Hyperparameters\n",
    "\n",
    "hidden_channels = 32\n",
    "feature_channels = 1\n",
    "r = 10\n",
    "jacobi_iters = 5\n",
    "sparse = False\n",
    "dropout = 0.5\n",
    "normalization = 'sym'\n",
    "bias = True\n",
    "\n",
    "model = CayleyNet.CayleyNet(in_feats= feature_channels, n_classes = n_community, n_hidden = hidden_channels, n_layers=1, r = r, p_dropout=dropout, normalization=normalization, sparse=sparse)"
   ]
  },
  {
   "cell_type": "code",
   "execution_count": 5,
   "metadata": {},
   "outputs": [
    {
     "ename": "NameError",
     "evalue": "name 'importlib' is not defined",
     "output_type": "error",
     "traceback": [
      "\u001b[1;31m---------------------------------------------------------------------------\u001b[0m",
      "\u001b[1;31mNameError\u001b[0m                                 Traceback (most recent call last)",
      "Cell \u001b[1;32mIn[5], line 1\u001b[0m\n\u001b[1;32m----> 1\u001b[0m \u001b[43mimportlib\u001b[49m\u001b[38;5;241m.\u001b[39mreload(CayleyNet)\n\u001b[0;32m      2\u001b[0m \u001b[38;5;66;03m# Optimizer\u001b[39;00m\n\u001b[0;32m      3\u001b[0m lr \u001b[38;5;241m=\u001b[39m \u001b[38;5;241m5e-3\u001b[39m\n",
      "\u001b[1;31mNameError\u001b[0m: name 'importlib' is not defined"
     ]
    }
   ],
   "source": [
    "importlib.reload(CayleyNet)\n",
    "# Optimizer\n",
    "lr = 5e-3\n",
    "weight_decay = 5e-4\n",
    "optimizer = torch.optim.Adam(model.parameters(), lr=lr, weight_decay=weight_decay)"
   ]
  },
  {
   "cell_type": "code",
   "execution_count": 6,
   "metadata": {},
   "outputs": [
    {
     "ename": "NameError",
     "evalue": "name 'model' is not defined",
     "output_type": "error",
     "traceback": [
      "\u001b[1;31m---------------------------------------------------------------------------\u001b[0m",
      "\u001b[1;31mNameError\u001b[0m                                 Traceback (most recent call last)",
      "Cell \u001b[1;32mIn[6], line 1\u001b[0m\n\u001b[1;32m----> 1\u001b[0m \u001b[43mmodel\u001b[49m\u001b[38;5;241m.\u001b[39mtrain()\n\u001b[0;32m      2\u001b[0m optimizer \u001b[38;5;241m=\u001b[39m torch\u001b[38;5;241m.\u001b[39moptim\u001b[38;5;241m.\u001b[39mAdam(model\u001b[38;5;241m.\u001b[39mparameters(), lr\u001b[38;5;241m=\u001b[39m\u001b[38;5;241m0.01\u001b[39m)\n\u001b[0;32m      3\u001b[0m criterion \u001b[38;5;241m=\u001b[39m nn\u001b[38;5;241m.\u001b[39mCrossEntropyLoss()\n",
      "\u001b[1;31mNameError\u001b[0m: name 'model' is not defined"
     ]
    }
   ],
   "source": [
    "model.train()\n",
    "optimizer = torch.optim.Adam(model.parameters(), lr=0.01)\n",
    "criterion = nn.CrossEntropyLoss()\n",
    "\n",
    "label = torch.tensor(np.arange(n_community)).long()\n",
    "\n",
    "# train the model\n",
    "for epoch in range(100):\n",
    "    optimizer.zero_grad()\n",
    "    for j in range(n_community):\n",
    "        out = model(f[j], edge_index)\n",
    "        loss = criterion(out, label[j])\n",
    "        loss.backward()\n",
    "        optimizer.step()\n",
    "        \n",
    "        \n",
    "    print('Epoch %d | Loss: %.4f' % (epoch+1, loss.item()))"
   ]
  }
 ],
 "metadata": {
  "kernelspec": {
   "display_name": "base",
   "language": "python",
   "name": "python3"
  },
  "language_info": {
   "codemirror_mode": {
    "name": "ipython",
    "version": 3
   },
   "file_extension": ".py",
   "mimetype": "text/x-python",
   "name": "python",
   "nbconvert_exporter": "python",
   "pygments_lexer": "ipython3",
   "version": "3.8.8"
  }
 },
 "nbformat": 4,
 "nbformat_minor": 2
}
