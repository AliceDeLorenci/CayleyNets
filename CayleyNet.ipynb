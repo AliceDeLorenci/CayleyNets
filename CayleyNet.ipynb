{
 "cells": [
  {
   "cell_type": "code",
   "execution_count": 10,
   "metadata": {},
   "outputs": [],
   "source": [
    "import time\n",
    "\n",
    "import torch\n",
    "import torch.nn as nn\n",
    "import torch.nn.functional as F\n",
    "\n",
    "# Check if GPU is available\n",
    "device = torch.device('cuda' if torch.cuda.is_available() else 'cpu')"
   ]
  },
  {
   "cell_type": "code",
   "execution_count": 11,
   "metadata": {},
   "outputs": [
    {
     "data": {
      "text/plain": [
       "device(type='cuda')"
      ]
     },
     "execution_count": 11,
     "metadata": {},
     "output_type": "execute_result"
    }
   ],
   "source": [
    "device"
   ]
  },
  {
   "cell_type": "code",
   "execution_count": 12,
   "metadata": {},
   "outputs": [],
   "source": [
    "import src.CayleyNet as CayleyNet\n",
    "import src.CORA as CORA\n",
    "import src.utils as utils"
   ]
  },
  {
   "cell_type": "code",
   "execution_count": 13,
   "metadata": {},
   "outputs": [
    {
     "data": {
      "text/plain": [
       "<module 'src.utils' from '/home/infres/jalvarez-22/GDA/CayleyNets/src/utils.py'>"
      ]
     },
     "execution_count": 13,
     "metadata": {},
     "output_type": "execute_result"
    }
   ],
   "source": [
    "# Reload when files are changed\n",
    "import importlib\n",
    "importlib.reload(CayleyNet)\n",
    "importlib.reload(CORA)\n",
    "importlib.reload(utils)"
   ]
  },
  {
   "cell_type": "code",
   "execution_count": 14,
   "metadata": {},
   "outputs": [
    {
     "name": "stdout",
     "output_type": "stream",
     "text": [
      "Parsing files...\n",
      "Done.\n"
     ]
    }
   ],
   "source": [
    "# Import dataset\n",
    "cora = CORA.CORA()"
   ]
  },
  {
   "cell_type": "code",
   "execution_count": 15,
   "metadata": {},
   "outputs": [
    {
     "name": "stdout",
     "output_type": "stream",
     "text": [
      "CORA dataset\n",
      "Number of nodes: 2708\n",
      "Number of edges: 10556\n",
      "Number of features per node: 1433\n"
     ]
    }
   ],
   "source": [
    "# Print properties of the dataset\n",
    "dataset = cora\n",
    "print(dataset.description)\n",
    "print(f'Number of nodes: {dataset.n}')\n",
    "print(f'Number of edges: {dataset.n_edges}')\n",
    "print(f'Number of features per node: {dataset.n_features}')"
   ]
  },
  {
   "cell_type": "code",
   "execution_count": 7,
   "metadata": {},
   "outputs": [],
   "source": [
    "# Extended split of the CORA dataset\n",
    "train_mask, test_mask, val_mask = utils.split_train_test_val(dataset.n, 500, 500) "
   ]
  },
  {
   "cell_type": "code",
   "execution_count": 8,
   "metadata": {},
   "outputs": [],
   "source": [
    "# Features and labels as tensors\n",
    "features = torch.Tensor(1.0*dataset.features).to(device)\n",
    "labels = torch.Tensor(dataset.labels).long().to(device)\n",
    "edge_index = dataset.get_edge_index().to(device)\n",
    "\n",
    "# Masks as tensors\n",
    "train_mask = torch.Tensor(train_mask).bool().to(device)\n",
    "test_mask = torch.Tensor(test_mask).bool().to(device)\n",
    "val_mask = torch.Tensor(val_mask).bool().to(device)"
   ]
  },
  {
   "cell_type": "code",
   "execution_count": 9,
   "metadata": {},
   "outputs": [],
   "source": [
    "# Hyperparameters (Section 4.5)\n",
    "in_feats = dataset.n_features\n",
    "n_classes = dataset.n_classes\n",
    "n_hidden = 16\n",
    "n_hidden_layers = 1 # number of hidden layers\n",
    "r = 5 # Cayley polynomial order \n",
    "# obs: we weren't able to identify the value of this last parameter in the paper"
   ]
  },
  {
   "cell_type": "code",
   "execution_count": 10,
   "metadata": {},
   "outputs": [
    {
     "name": "stderr",
     "output_type": "stream",
     "text": [
      "/home/infres/jalvarez-22/miniconda3/lib/python3.10/site-packages/torch/nn/modules/module.py:1133: UserWarning: Complex modules are a new feature under active development whose design may change, and some modules might not work as expected when using complex tensors as parameters or buffers. Please file an issue at https://github.com/pytorch/pytorch/issues/new?template=bug-report.yml if a complex module does not work as expected.\n",
      "  warnings.warn(\n"
     ]
    }
   ],
   "source": [
    "p_dropout=0.5\n",
    "normalization = 'sym'\n",
    "model = CayleyNet.CayleyNet(in_feats, n_classes, n_hidden, n_hidden_layers, r=r, p_dropout=p_dropout, normalization=normalization, sparse=False, seed=0)"
   ]
  },
  {
   "cell_type": "code",
   "execution_count": 11,
   "metadata": {},
   "outputs": [
    {
     "name": "stdout",
     "output_type": "stream",
     "text": [
      "CayleyNet(\n",
      "  (layers): ModuleList(\n",
      "    (0): CayleyConv(1433, 16, r=5, normalization=sym)\n",
      "    (1): CayleyConv(16, 7, r=5, normalization=sym)\n",
      "  )\n",
      ")\n",
      "Number of parameters: 23042\n",
      "Number of parameters: 22929\n",
      "Number of parameters: 113\n"
     ]
    }
   ],
   "source": [
    "print(model)\n",
    "print(f'Number of parameters: {sum(p.numel() for p in model.parameters())}')\n",
    "print(f'Number of parameters: {sum(p.numel() for p in model.layers[0].parameters())}')\n",
    "print(f'Number of parameters: {sum(p.numel() for p in model.layers[1].parameters())}')           "
   ]
  },
  {
   "cell_type": "code",
   "execution_count": 12,
   "metadata": {},
   "outputs": [],
   "source": [
    "# Optimizer\n",
    "lr = 5e-3\n",
    "weight_decay = 5e-4\n",
    "optimizer = torch.optim.Adam(model.parameters(), lr=lr, weight_decay=weight_decay)"
   ]
  },
  {
   "cell_type": "code",
   "execution_count": 13,
   "metadata": {},
   "outputs": [
    {
     "name": "stdout",
     "output_type": "stream",
     "text": [
      "Epoch 00 | Loss 2.127 | Accuracy (validation) 0.158 | Elapsed time: 2.10s\n",
      "Epoch 01 | Loss 1.958 | Accuracy (validation) 0.200 | Elapsed time: 1.53s\n",
      "Epoch 02 | Loss 1.872 | Accuracy (validation) 0.250 | Elapsed time: 1.54s\n",
      "Epoch 03 | Loss 1.799 | Accuracy (validation) 0.274 | Elapsed time: 1.54s\n",
      "Epoch 04 | Loss 1.731 | Accuracy (validation) 0.294 | Elapsed time: 1.54s\n",
      "Epoch 05 | Loss 1.665 | Accuracy (validation) 0.308 | Elapsed time: 1.54s\n"
     ]
    },
    {
     "ename": "KeyboardInterrupt",
     "evalue": "",
     "output_type": "error",
     "traceback": [
      "\u001b[0;31m---------------------------------------------------------------------------\u001b[0m",
      "\u001b[0;31mKeyboardInterrupt\u001b[0m                         Traceback (most recent call last)",
      "Cell \u001b[0;32mIn[13], line 30\u001b[0m\n\u001b[1;32m     27\u001b[0m score \u001b[38;5;241m=\u001b[39m utils\u001b[38;5;241m.\u001b[39meval_pytorch_geometric_model(model, edge_index, features, labels, train_mask)\n\u001b[1;32m     28\u001b[0m train_score\u001b[38;5;241m.\u001b[39mappend(score)\n\u001b[0;32m---> 30\u001b[0m score \u001b[38;5;241m=\u001b[39m \u001b[43mutils\u001b[49m\u001b[38;5;241;43m.\u001b[39;49m\u001b[43meval_pytorch_geometric_model\u001b[49m\u001b[43m(\u001b[49m\u001b[43mmodel\u001b[49m\u001b[43m,\u001b[49m\u001b[43m \u001b[49m\u001b[43medge_index\u001b[49m\u001b[43m,\u001b[49m\u001b[43m \u001b[49m\u001b[43mfeatures\u001b[49m\u001b[43m,\u001b[49m\u001b[43m \u001b[49m\u001b[43mlabels\u001b[49m\u001b[43m,\u001b[49m\u001b[43m \u001b[49m\u001b[43mval_mask\u001b[49m\u001b[43m)\u001b[49m\n\u001b[1;32m     31\u001b[0m val_score\u001b[38;5;241m.\u001b[39mappend(score)\n\u001b[1;32m     33\u001b[0m \u001b[38;5;66;03m# Print loss\u001b[39;00m\n",
      "File \u001b[0;32m~/GDA/CayleyNets/src/utils.py:73\u001b[0m, in \u001b[0;36meval_pytorch_geometric_model\u001b[0;34m(model, edge_index, features, labels, mask)\u001b[0m\n\u001b[1;32m     71\u001b[0m mask_cpu \u001b[38;5;241m=\u001b[39m mask\u001b[38;5;241m.\u001b[39mcpu()\u001b[38;5;241m.\u001b[39mdetach()\n\u001b[1;32m     72\u001b[0m \u001b[38;5;28;01mwith\u001b[39;00m torch\u001b[38;5;241m.\u001b[39mno_grad():\n\u001b[0;32m---> 73\u001b[0m     output \u001b[38;5;241m=\u001b[39m \u001b[43mmodel\u001b[49m\u001b[43m(\u001b[49m\u001b[43mfeatures\u001b[49m\u001b[43m,\u001b[49m\u001b[43m \u001b[49m\u001b[43medge_index\u001b[49m\u001b[43m)\u001b[49m\u001b[38;5;241m.\u001b[39mcpu()\u001b[38;5;241m.\u001b[39mdetach()\n\u001b[1;32m     74\u001b[0m     labels_pred \u001b[38;5;241m=\u001b[39m torch\u001b[38;5;241m.\u001b[39mmax(output, dim\u001b[38;5;241m=\u001b[39m\u001b[38;5;241m1\u001b[39m)[\u001b[38;5;241m1\u001b[39m]\n\u001b[1;32m     75\u001b[0m     score \u001b[38;5;241m=\u001b[39m np\u001b[38;5;241m.\u001b[39mmean(np\u001b[38;5;241m.\u001b[39marray(labels_cpu[mask_cpu]) \u001b[38;5;241m==\u001b[39m np\u001b[38;5;241m.\u001b[39marray(labels_pred[mask_cpu]))\n",
      "File \u001b[0;32m~/miniconda3/lib/python3.10/site-packages/torch/nn/modules/module.py:1501\u001b[0m, in \u001b[0;36mModule._call_impl\u001b[0;34m(self, *args, **kwargs)\u001b[0m\n\u001b[1;32m   1496\u001b[0m \u001b[38;5;66;03m# If we don't have any hooks, we want to skip the rest of the logic in\u001b[39;00m\n\u001b[1;32m   1497\u001b[0m \u001b[38;5;66;03m# this function, and just call forward.\u001b[39;00m\n\u001b[1;32m   1498\u001b[0m \u001b[38;5;28;01mif\u001b[39;00m \u001b[38;5;129;01mnot\u001b[39;00m (\u001b[38;5;28mself\u001b[39m\u001b[38;5;241m.\u001b[39m_backward_hooks \u001b[38;5;129;01mor\u001b[39;00m \u001b[38;5;28mself\u001b[39m\u001b[38;5;241m.\u001b[39m_backward_pre_hooks \u001b[38;5;129;01mor\u001b[39;00m \u001b[38;5;28mself\u001b[39m\u001b[38;5;241m.\u001b[39m_forward_hooks \u001b[38;5;129;01mor\u001b[39;00m \u001b[38;5;28mself\u001b[39m\u001b[38;5;241m.\u001b[39m_forward_pre_hooks\n\u001b[1;32m   1499\u001b[0m         \u001b[38;5;129;01mor\u001b[39;00m _global_backward_pre_hooks \u001b[38;5;129;01mor\u001b[39;00m _global_backward_hooks\n\u001b[1;32m   1500\u001b[0m         \u001b[38;5;129;01mor\u001b[39;00m _global_forward_hooks \u001b[38;5;129;01mor\u001b[39;00m _global_forward_pre_hooks):\n\u001b[0;32m-> 1501\u001b[0m     \u001b[38;5;28;01mreturn\u001b[39;00m \u001b[43mforward_call\u001b[49m\u001b[43m(\u001b[49m\u001b[38;5;241;43m*\u001b[39;49m\u001b[43margs\u001b[49m\u001b[43m,\u001b[49m\u001b[43m \u001b[49m\u001b[38;5;241;43m*\u001b[39;49m\u001b[38;5;241;43m*\u001b[39;49m\u001b[43mkwargs\u001b[49m\u001b[43m)\u001b[49m\n\u001b[1;32m   1502\u001b[0m \u001b[38;5;66;03m# Do not call functions when jit is used\u001b[39;00m\n\u001b[1;32m   1503\u001b[0m full_backward_hooks, non_full_backward_hooks \u001b[38;5;241m=\u001b[39m [], []\n",
      "File \u001b[0;32m~/GDA/CayleyNets/src/CayleyNet.py:202\u001b[0m, in \u001b[0;36mCayleyNet.forward\u001b[0;34m(self, x, edge_index)\u001b[0m\n\u001b[1;32m    199\u001b[0m     x \u001b[38;5;241m=\u001b[39m F\u001b[38;5;241m.\u001b[39mrelu(x)\n\u001b[1;32m    200\u001b[0m     x \u001b[38;5;241m=\u001b[39m F\u001b[38;5;241m.\u001b[39mdropout(x, p\u001b[38;5;241m=\u001b[39m\u001b[38;5;28mself\u001b[39m\u001b[38;5;241m.\u001b[39mp_dropout, training\u001b[38;5;241m=\u001b[39m\u001b[38;5;28mself\u001b[39m\u001b[38;5;241m.\u001b[39mtraining)\n\u001b[0;32m--> 202\u001b[0m x \u001b[38;5;241m=\u001b[39m \u001b[38;5;28;43mself\u001b[39;49m\u001b[38;5;241;43m.\u001b[39;49m\u001b[43mlayers\u001b[49m\u001b[43m[\u001b[49m\u001b[38;5;241;43m-\u001b[39;49m\u001b[38;5;241;43m1\u001b[39;49m\u001b[43m]\u001b[49m\u001b[43m(\u001b[49m\u001b[43mx\u001b[49m\u001b[43m,\u001b[49m\u001b[43m \u001b[49m\u001b[43medge_index\u001b[49m\u001b[43m)\u001b[49m\n\u001b[1;32m    204\u001b[0m \u001b[38;5;28;01mreturn\u001b[39;00m F\u001b[38;5;241m.\u001b[39mlog_softmax(x\u001b[38;5;241m.\u001b[39mfloat(), dim\u001b[38;5;241m=\u001b[39m\u001b[38;5;241m-\u001b[39m\u001b[38;5;241m1\u001b[39m)\n",
      "File \u001b[0;32m~/miniconda3/lib/python3.10/site-packages/torch/nn/modules/module.py:1501\u001b[0m, in \u001b[0;36mModule._call_impl\u001b[0;34m(self, *args, **kwargs)\u001b[0m\n\u001b[1;32m   1496\u001b[0m \u001b[38;5;66;03m# If we don't have any hooks, we want to skip the rest of the logic in\u001b[39;00m\n\u001b[1;32m   1497\u001b[0m \u001b[38;5;66;03m# this function, and just call forward.\u001b[39;00m\n\u001b[1;32m   1498\u001b[0m \u001b[38;5;28;01mif\u001b[39;00m \u001b[38;5;129;01mnot\u001b[39;00m (\u001b[38;5;28mself\u001b[39m\u001b[38;5;241m.\u001b[39m_backward_hooks \u001b[38;5;129;01mor\u001b[39;00m \u001b[38;5;28mself\u001b[39m\u001b[38;5;241m.\u001b[39m_backward_pre_hooks \u001b[38;5;129;01mor\u001b[39;00m \u001b[38;5;28mself\u001b[39m\u001b[38;5;241m.\u001b[39m_forward_hooks \u001b[38;5;129;01mor\u001b[39;00m \u001b[38;5;28mself\u001b[39m\u001b[38;5;241m.\u001b[39m_forward_pre_hooks\n\u001b[1;32m   1499\u001b[0m         \u001b[38;5;129;01mor\u001b[39;00m _global_backward_pre_hooks \u001b[38;5;129;01mor\u001b[39;00m _global_backward_hooks\n\u001b[1;32m   1500\u001b[0m         \u001b[38;5;129;01mor\u001b[39;00m _global_forward_hooks \u001b[38;5;129;01mor\u001b[39;00m _global_forward_pre_hooks):\n\u001b[0;32m-> 1501\u001b[0m     \u001b[38;5;28;01mreturn\u001b[39;00m \u001b[43mforward_call\u001b[49m\u001b[43m(\u001b[49m\u001b[38;5;241;43m*\u001b[39;49m\u001b[43margs\u001b[49m\u001b[43m,\u001b[49m\u001b[43m \u001b[49m\u001b[38;5;241;43m*\u001b[39;49m\u001b[38;5;241;43m*\u001b[39;49m\u001b[43mkwargs\u001b[49m\u001b[43m)\u001b[49m\n\u001b[1;32m   1502\u001b[0m \u001b[38;5;66;03m# Do not call functions when jit is used\u001b[39;00m\n\u001b[1;32m   1503\u001b[0m full_backward_hooks, non_full_backward_hooks \u001b[38;5;241m=\u001b[39m [], []\n",
      "File \u001b[0;32m~/GDA/CayleyNets/src/CayleyNet.py:132\u001b[0m, in \u001b[0;36mCayleyConv.forward\u001b[0;34m(self, x, edge_index, edge_weight)\u001b[0m\n\u001b[1;32m    128\u001b[0m \u001b[38;5;28;01mdef\u001b[39;00m \u001b[38;5;21mforward\u001b[39m(\u001b[38;5;28mself\u001b[39m, x: torch\u001b[38;5;241m.\u001b[39mtensor, edge_index: torch\u001b[38;5;241m.\u001b[39mtensor, edge_weight: torch\u001b[38;5;241m.\u001b[39mtensor \u001b[38;5;241m=\u001b[39m \u001b[38;5;28;01mNone\u001b[39;00m):\n\u001b[1;32m    129\u001b[0m \u001b[38;5;250m    \u001b[39m\u001b[38;5;124;03m\"\"\"\u001b[39;00m\n\u001b[1;32m    130\u001b[0m \u001b[38;5;124;03m    Source: https://github.com/WhiteNoyse/SiGCN\u001b[39;00m\n\u001b[1;32m    131\u001b[0m \u001b[38;5;124;03m    \"\"\"\u001b[39;00m\n\u001b[0;32m--> 132\u001b[0m     L \u001b[38;5;241m=\u001b[39m \u001b[43mget_laplacian\u001b[49m\u001b[43m(\u001b[49m\u001b[43medge_index\u001b[49m\u001b[43m,\u001b[49m\u001b[43m \u001b[49m\u001b[43medge_weight\u001b[49m\u001b[43m,\u001b[49m\u001b[43m \u001b[49m\u001b[38;5;28;43mself\u001b[39;49m\u001b[38;5;241;43m.\u001b[39;49m\u001b[43mnormalization\u001b[49m\u001b[43m,\u001b[49m\u001b[43m \u001b[49m\u001b[43mdtype\u001b[49m\u001b[38;5;241;43m=\u001b[39;49m\u001b[43mtorch\u001b[49m\u001b[38;5;241;43m.\u001b[39;49m\u001b[43mcomplex64\u001b[49m\u001b[43m)\u001b[49m\n\u001b[1;32m    133\u001b[0m     \u001b[38;5;66;03m#L = torch.sparse_coo_tensor(L[0], L[1]).coalesce()\u001b[39;00m\n\u001b[1;32m    134\u001b[0m     \u001b[38;5;66;03m#L = self.h * L\u001b[39;00m\n\u001b[1;32m    135\u001b[0m     \u001b[38;5;66;03m#edge_index = edge_index.to(device)\u001b[39;00m\n\u001b[1;32m    136\u001b[0m \n\u001b[1;32m    137\u001b[0m     \u001b[38;5;66;03m#Jacobi method\u001b[39;00m\n\u001b[1;32m    138\u001b[0m     \u001b[38;5;66;03m# L to dense matrix\u001b[39;00m\n\u001b[1;32m    139\u001b[0m     \u001b[38;5;28;01mif\u001b[39;00m \u001b[38;5;28mself\u001b[39m\u001b[38;5;241m.\u001b[39msparse:\n",
      "File \u001b[0;32m~/miniconda3/lib/python3.10/site-packages/torch_geometric/utils/get_laplacian.py:62\u001b[0m, in \u001b[0;36mget_laplacian\u001b[0;34m(edge_index, edge_weight, normalization, dtype, num_nodes)\u001b[0m\n\u001b[1;32m     59\u001b[0m \u001b[38;5;28;01mif\u001b[39;00m normalization \u001b[38;5;129;01mis\u001b[39;00m \u001b[38;5;129;01mnot\u001b[39;00m \u001b[38;5;28;01mNone\u001b[39;00m:\n\u001b[1;32m     60\u001b[0m     \u001b[38;5;28;01massert\u001b[39;00m normalization \u001b[38;5;129;01min\u001b[39;00m [\u001b[38;5;124m'\u001b[39m\u001b[38;5;124msym\u001b[39m\u001b[38;5;124m'\u001b[39m, \u001b[38;5;124m'\u001b[39m\u001b[38;5;124mrw\u001b[39m\u001b[38;5;124m'\u001b[39m]  \u001b[38;5;66;03m# 'Invalid normalization'\u001b[39;00m\n\u001b[0;32m---> 62\u001b[0m edge_index, edge_weight \u001b[38;5;241m=\u001b[39m \u001b[43mremove_self_loops\u001b[49m\u001b[43m(\u001b[49m\u001b[43medge_index\u001b[49m\u001b[43m,\u001b[49m\u001b[43m \u001b[49m\u001b[43medge_weight\u001b[49m\u001b[43m)\u001b[49m\n\u001b[1;32m     64\u001b[0m \u001b[38;5;28;01mif\u001b[39;00m edge_weight \u001b[38;5;129;01mis\u001b[39;00m \u001b[38;5;28;01mNone\u001b[39;00m:\n\u001b[1;32m     65\u001b[0m     edge_weight \u001b[38;5;241m=\u001b[39m torch\u001b[38;5;241m.\u001b[39mones(edge_index\u001b[38;5;241m.\u001b[39msize(\u001b[38;5;241m1\u001b[39m), dtype\u001b[38;5;241m=\u001b[39mdtype,\n\u001b[1;32m     66\u001b[0m                              device\u001b[38;5;241m=\u001b[39medge_index\u001b[38;5;241m.\u001b[39mdevice)\n",
      "File \u001b[0;32m~/miniconda3/lib/python3.10/site-packages/torch_geometric/utils/loop.py:80\u001b[0m, in \u001b[0;36mremove_self_loops\u001b[0;34m(edge_index, edge_attr)\u001b[0m\n\u001b[1;32m     77\u001b[0m mask \u001b[38;5;241m=\u001b[39m edge_index[\u001b[38;5;241m0\u001b[39m] \u001b[38;5;241m!=\u001b[39m edge_index[\u001b[38;5;241m1\u001b[39m]\n\u001b[1;32m     78\u001b[0m edge_index \u001b[38;5;241m=\u001b[39m edge_index[:, mask]\n\u001b[0;32m---> 80\u001b[0m \u001b[38;5;28;01mif\u001b[39;00m layout \u001b[38;5;129;01mis\u001b[39;00m \u001b[38;5;129;01mnot\u001b[39;00m \u001b[38;5;28;01mNone\u001b[39;00m:\n\u001b[1;32m     81\u001b[0m     \u001b[38;5;28;01massert\u001b[39;00m edge_attr \u001b[38;5;129;01mis\u001b[39;00m \u001b[38;5;129;01mnot\u001b[39;00m \u001b[38;5;28;01mNone\u001b[39;00m\n\u001b[1;32m     82\u001b[0m     edge_attr \u001b[38;5;241m=\u001b[39m edge_attr[mask]\n",
      "\u001b[0;31mKeyboardInterrupt\u001b[0m: "
     ]
    }
   ],
   "source": [
    "# Train the model\n",
    "batch_size = 32\n",
    "epochs = 200\n",
    "\n",
    "# save loss values for plotting\n",
    "loss_values = []\n",
    "val_score = []\n",
    "train_score = []\n",
    "\n",
    "verbose = True\n",
    "for e in range(epochs):\n",
    "    start = time.time()\n",
    "\n",
    "    # Compute output\n",
    "    logp = model(features, edge_index)\n",
    "\n",
    "    # Compute loss\n",
    "    loss = F.nll_loss(logp[train_mask], labels[train_mask])\n",
    "    loss_values.append(loss.item())\n",
    "\n",
    "    # Perform backward pass\n",
    "    optimizer.zero_grad()\n",
    "    loss.backward()\n",
    "    optimizer.step()\n",
    "\n",
    "    # Evaluation\n",
    "    score = utils.eval_pytorch_geometric_model(model, edge_index, features, labels, train_mask)\n",
    "    train_score.append(score)\n",
    "\n",
    "    score = utils.eval_pytorch_geometric_model(model, edge_index, features, labels, val_mask)\n",
    "    val_score.append(score)\n",
    "\n",
    "    # Print loss\n",
    "    end = time.time()\n",
    "    if verbose:\n",
    "        print(\"Epoch {:02d} | Loss {:.3f} | Accuracy (validation) {:.3f} | Elapsed time: {:.2f}s\".format(e, loss.item(), score, end - start))"
   ]
  },
  {
   "cell_type": "code",
   "execution_count": 14,
   "metadata": {},
   "outputs": [
    {
     "name": "stdout",
     "output_type": "stream",
     "text": [
      "Test accuracy 0.340\n"
     ]
    }
   ],
   "source": [
    "test_score = utils.eval_pytorch_geometric_model(model, edge_index, features, labels, test_mask)\n",
    "print(\"Test accuracy {:.3f}\".format(test_score))"
   ]
  },
  {
   "cell_type": "code",
   "execution_count": 15,
   "metadata": {},
   "outputs": [],
   "source": [
    "results = {'model': 'CayleyNet',\n",
    "           'dataset': dataset.name,\n",
    "           'training size': len(train_mask),\n",
    "           'validation size': len(val_mask),\n",
    "           'test size': len(test_mask),\n",
    "           'n hidden nodes': n_hidden,\n",
    "           'n hidden layers': n_hidden_layers,\n",
    "           'polynomial order': r,\n",
    "           'laplacian normalization': normalization,\n",
    "           'dropout probability': p_dropout,\n",
    "           'learning rate': lr,\n",
    "           'weight decay': weight_decay,\n",
    "           'batch size': batch_size,\n",
    "           'n epochs': epochs,\n",
    "           'loss': loss_values,\n",
    "           'train accuracy': train_score,\n",
    "           'validation accuracy': val_score,\n",
    "           'test accuracy': test_score\n",
    "           }"
   ]
  },
  {
   "cell_type": "code",
   "execution_count": 16,
   "metadata": {},
   "outputs": [],
   "source": [
    "import pickle\n",
    "import datetime\n",
    "ts = datetime.datetime.now()\n",
    "ts = '{}-{}-{}-{}-{}-{}'.format(ts.year, ts.month, ts.day, ts.hour, ts.minute, ts.second)\n",
    "fname = './results/cayley_{}.pkl'.format(ts)\n",
    "with open(fname, 'wb') as f:\n",
    "    pickle.dump(results, f)\n",
    "        \n",
    "with open(fname, 'rb') as f:\n",
    "    loaded_results = pickle.load(f)"
   ]
  },
  {
   "cell_type": "code",
   "execution_count": 17,
   "metadata": {},
   "outputs": [
    {
     "data": {
      "image/png": "[encoded data removed]",
      "text/plain": [
       "<Figure size 600x600 with 1 Axes>"
      ]
     },
     "metadata": {},
     "output_type": "display_data"
    }
   ],
   "source": [
    "utils.plot_accuracy(loaded_results['train accuracy'], loaded_results['validation accuracy'])"
   ]
  },
  {
   "cell_type": "code",
   "execution_count": 18,
   "metadata": {},
   "outputs": [
    {
     "data": {
      "image/png": "[encoded data removed]",
      "text/plain": [
       "<Figure size 600x600 with 1 Axes>"
      ]
     },
     "metadata": {},
     "output_type": "display_data"
    }
   ],
   "source": [
    "utils.plot_loss(loaded_results['loss'])"
   ]
  },
  {
   "cell_type": "code",
   "execution_count": 19,
   "metadata": {},
   "outputs": [
    {
     "name": "stdout",
     "output_type": "stream",
     "text": [
      "Test accuracy 0.340\n"
     ]
    }
   ],
   "source": [
    "print(\"Test accuracy {:.3f}\".format(loaded_results['test accuracy']))"
   ]
  },
  {
   "cell_type": "markdown",
   "metadata": {},
   "source": [
    "# CayLeyNet for community detection"
   ]
  },
  {
   "cell_type": "code",
   "execution_count": 16,
   "metadata": {},
   "outputs": [],
   "source": [
    "import src.CommunitiesGraph as CG\n",
    "import numpy as np"
   ]
  },
  {
   "cell_type": "code",
   "execution_count": 70,
   "metadata": {},
   "outputs": [
    {
     "name": "stdout",
     "output_type": "stream",
     "text": [
      "Number of nodes: 1000\n",
      "Number of edges: 33810\n",
      "Number of features per node: 1\n",
      "Number of training nodes: 700\n",
      "Number of validation nodes: 100\n",
      "Number of test nodes: 200\n",
      "Number of training edges: 16702\n",
      "Number of validation edges: 332\n",
      "Number of test edges: 1346\n"
     ]
    }
   ],
   "source": [
    "n_community=15\n",
    "p=0.5\n",
    "q=0.001\n",
    "n=1000\n",
    "graph = CG.CommunitiesGraph(n_community, p, q, n)\n",
    "\n",
    "\n",
    "train_mask, test_mask, val_mask = utils.split_train_test_val(n, 0.2, 0.1)\n",
    "\n",
    "print(f'Number of nodes: {n}')\n",
    "print(f'Number of edges: {len(edge_index[0])}')\n",
    "print(f'Number of features per node: {features.shape[1]}')\n",
    "\n",
    "print(f'Number of training nodes: {len(labels[train_mask])}')\n",
    "print(f'Number of validation nodes: {len(labels[val_mask])}')\n",
    "print(f'Number of test nodes: {len(labels[test_mask])}')\n",
    "\n",
    "Adj = graph.adjacency\n",
    "\n",
    "edge_index = np.array(Adj.nonzero())\n",
    "\n",
    "edge_index_train = edge_index[:, train_mask[edge_index[0]] & train_mask[edge_index[1]]]\n",
    "edge_index_val = edge_index[:, val_mask[edge_index[0]] & val_mask[edge_index[1]]]\n",
    "edge_index_test = edge_index[:, test_mask[edge_index[0]] & test_mask[edge_index[1]]]\n",
    "\n",
    "print(f'Number of training edges: {len(edge_index_train[0])}')\n",
    "print(f'Number of validation edges: {len(edge_index_val[0])}')\n",
    "print(f'Number of test edges: {len(edge_index_test[0])}')\n",
    "\n",
    "\n",
    "\n",
    "\n"
   ]
  },
  {
   "cell_type": "code",
   "execution_count": 59,
   "metadata": {},
   "outputs": [
    {
     "name": "stderr",
     "output_type": "stream",
     "text": [
      "/home/infres/jalvarez-22/miniconda3/lib/python3.10/site-packages/torch/nn/modules/module.py:1133: UserWarning: Complex modules are a new feature under active development whose design may change, and some modules might not work as expected when using complex tensors as parameters or buffers. Please file an issue at https://github.com/pytorch/pytorch/issues/new?template=bug-report.yml if a complex module does not work as expected.\n",
      "  warnings.warn(\n"
     ]
    }
   ],
   "source": [
    "# Hyperparameters\n",
    "hidden_channels = 32\n",
    "feature_channels = 1\n",
    "r = 10\n",
    "jacobi_iters = 5\n",
    "sparse = False\n",
    "dropout = 0.5\n",
    "normalization = 'sym'\n",
    "bias = True\n",
    "\n",
    "model = CayleyNet.CayleyNet(feature_channels,n_classes=n_community, n_hidden=hidden_channels, n_layers=1, r=r, p_dropout=dropout, normalization=normalization, sparse=sparse, seed=0)"
   ]
  },
  {
   "cell_type": "code",
   "execution_count": 60,
   "metadata": {},
   "outputs": [],
   "source": [
    "importlib.reload(CayleyNet)\n",
    "# Optimizer\n",
    "lr = 5e-3\n",
    "weight_decay = 5e-4\n",
    "optimizer = torch.optim.Adam(model.parameters(), lr=lr, weight_decay=weight_decay)"
   ]
  },
  {
   "cell_type": "code",
   "execution_count": 40,
   "metadata": {},
   "outputs": [
    {
     "name": "stdout",
     "output_type": "stream",
     "text": [
      "Epoch 1 | Loss: 4.2526\n",
      "Epoch 2 | Loss: 4.2173\n",
      "Epoch 3 | Loss: 4.1013\n"
     ]
    },
    {
     "name": "stdout",
     "output_type": "stream",
     "text": [
      "Epoch 4 | Loss: 3.9817\n",
      "Epoch 5 | Loss: 4.2454\n",
      "Epoch 6 | Loss: 4.0936\n",
      "Epoch 7 | Loss: 4.0260\n",
      "Epoch 8 | Loss: 4.0063\n",
      "Epoch 9 | Loss: 4.1360\n",
      "Epoch 10 | Loss: 4.1563\n",
      "Epoch 11 | Loss: 3.8719\n",
      "Epoch 12 | Loss: 4.0954\n",
      "Epoch 13 | Loss: 4.0167\n",
      "Epoch 14 | Loss: 4.1370\n",
      "Epoch 15 | Loss: 3.9760\n",
      "Epoch 16 | Loss: 3.9634\n",
      "Epoch 17 | Loss: 3.7669\n",
      "Epoch 18 | Loss: 3.6953\n",
      "Epoch 19 | Loss: 3.9408\n",
      "Epoch 20 | Loss: 4.1353\n",
      "Epoch 21 | Loss: 3.9262\n",
      "Epoch 22 | Loss: 3.9001\n",
      "Epoch 23 | Loss: 4.0372\n",
      "Epoch 24 | Loss: 3.9146\n",
      "Epoch 25 | Loss: 3.9191\n",
      "Epoch 26 | Loss: 3.8344\n",
      "Epoch 27 | Loss: 4.1076\n",
      "Epoch 28 | Loss: 3.7171\n",
      "Epoch 29 | Loss: 4.0804\n",
      "Epoch 30 | Loss: 3.9394\n",
      "Epoch 31 | Loss: 3.7346\n",
      "Epoch 32 | Loss: 3.9048\n",
      "Epoch 33 | Loss: 3.8292\n",
      "Epoch 34 | Loss: 4.0613\n",
      "Epoch 35 | Loss: 3.9995\n",
      "Epoch 36 | Loss: 3.8263\n",
      "Epoch 37 | Loss: 3.8009\n",
      "Epoch 38 | Loss: 3.7705\n",
      "Epoch 39 | Loss: 3.7397\n",
      "Epoch 40 | Loss: 3.8682\n",
      "Epoch 41 | Loss: 3.7209\n",
      "Epoch 42 | Loss: 3.8102\n",
      "Epoch 43 | Loss: 3.9039\n",
      "Epoch 44 | Loss: 3.8587\n",
      "Epoch 45 | Loss: 3.8280\n",
      "Epoch 46 | Loss: 3.7353\n",
      "Epoch 47 | Loss: 3.6551\n",
      "Epoch 48 | Loss: 3.6711\n",
      "Epoch 49 | Loss: 3.8548\n",
      "Epoch 50 | Loss: 3.7996\n",
      "Epoch 51 | Loss: 3.7185\n",
      "Epoch 52 | Loss: 3.8262\n",
      "Epoch 53 | Loss: 3.6289\n",
      "Epoch 54 | Loss: 3.8476\n",
      "Epoch 55 | Loss: 3.8390\n",
      "Epoch 56 | Loss: 3.6857\n",
      "Epoch 57 | Loss: 3.6719\n",
      "Epoch 58 | Loss: 3.7526\n",
      "Epoch 59 | Loss: 3.6183\n",
      "Epoch 60 | Loss: 3.6070\n",
      "Epoch 61 | Loss: 3.5553\n",
      "Epoch 62 | Loss: 3.6822\n",
      "Epoch 63 | Loss: 3.5948\n",
      "Epoch 64 | Loss: 3.7816\n",
      "Epoch 65 | Loss: 3.5223\n",
      "Epoch 66 | Loss: 3.6840\n",
      "Epoch 67 | Loss: 3.4988\n",
      "Epoch 68 | Loss: 3.5884\n",
      "Epoch 69 | Loss: 3.6032\n",
      "Epoch 70 | Loss: 3.5848\n",
      "Epoch 71 | Loss: 3.6932\n",
      "Epoch 72 | Loss: 3.6254\n",
      "Epoch 73 | Loss: 3.4486\n",
      "Epoch 74 | Loss: 3.5636\n",
      "Epoch 75 | Loss: 3.6062\n",
      "Epoch 76 | Loss: 3.5829\n",
      "Epoch 77 | Loss: 3.5918\n",
      "Epoch 78 | Loss: 3.5948\n",
      "Epoch 79 | Loss: 3.4594\n",
      "Epoch 80 | Loss: 3.3811\n",
      "Epoch 81 | Loss: 3.4533\n",
      "Epoch 82 | Loss: 3.5344\n",
      "Epoch 83 | Loss: 3.5526\n",
      "Epoch 84 | Loss: 3.4644\n",
      "Epoch 85 | Loss: 3.5047\n",
      "Epoch 86 | Loss: 3.5341\n",
      "Epoch 87 | Loss: 3.5130\n",
      "Epoch 88 | Loss: 3.4872\n",
      "Epoch 89 | Loss: 3.4166\n",
      "Epoch 90 | Loss: 3.6073\n",
      "Epoch 91 | Loss: 3.5168\n",
      "Epoch 92 | Loss: 3.5549\n",
      "Epoch 93 | Loss: 3.5326\n",
      "Epoch 94 | Loss: 3.5834\n",
      "Epoch 95 | Loss: 3.5375\n",
      "Epoch 96 | Loss: 3.4761\n",
      "Epoch 97 | Loss: 3.4747\n",
      "Epoch 98 | Loss: 3.4429\n",
      "Epoch 99 | Loss: 3.4965\n",
      "Epoch 100 | Loss: 3.5345\n",
      "Epoch 101 | Loss: 3.4543\n",
      "Epoch 102 | Loss: 3.4452\n",
      "Epoch 103 | Loss: 3.4113\n",
      "Epoch 104 | Loss: 3.4942\n",
      "Epoch 105 | Loss: 3.4409\n",
      "Epoch 106 | Loss: 3.4031\n",
      "Epoch 107 | Loss: 3.3500\n",
      "Epoch 108 | Loss: 3.5298\n",
      "Epoch 109 | Loss: 3.3420\n",
      "Epoch 110 | Loss: 3.4276\n",
      "Epoch 111 | Loss: 3.4978\n",
      "Epoch 112 | Loss: 3.3733\n",
      "Epoch 113 | Loss: 3.3897\n",
      "Epoch 114 | Loss: 3.3187\n",
      "Epoch 115 | Loss: 3.4032\n",
      "Epoch 116 | Loss: 3.3203\n",
      "Epoch 117 | Loss: 3.4463\n",
      "Epoch 118 | Loss: 3.3187\n",
      "Epoch 119 | Loss: 3.2852\n",
      "Epoch 120 | Loss: 3.3869\n",
      "Epoch 121 | Loss: 3.3697\n",
      "Epoch 122 | Loss: 3.3880\n",
      "Epoch 123 | Loss: 3.2527\n",
      "Epoch 124 | Loss: 3.3716\n",
      "Epoch 125 | Loss: 3.4024\n",
      "Epoch 126 | Loss: 3.4031\n",
      "Epoch 127 | Loss: 3.4002\n",
      "Epoch 128 | Loss: 3.2929\n",
      "Epoch 129 | Loss: 3.4130\n",
      "Epoch 130 | Loss: 3.2543\n",
      "Epoch 131 | Loss: 3.1810\n",
      "Epoch 132 | Loss: 3.3925\n",
      "Epoch 133 | Loss: 3.3028\n",
      "Epoch 134 | Loss: 3.2794\n",
      "Epoch 135 | Loss: 3.2417\n",
      "Epoch 136 | Loss: 3.3201\n",
      "Epoch 137 | Loss: 3.2144\n",
      "Epoch 138 | Loss: 3.3335\n",
      "Epoch 139 | Loss: 3.3100\n",
      "Epoch 140 | Loss: 3.1929\n",
      "Epoch 141 | Loss: 3.2992\n",
      "Epoch 142 | Loss: 3.2579\n",
      "Epoch 143 | Loss: 3.2704\n",
      "Epoch 144 | Loss: 3.2287\n",
      "Epoch 145 | Loss: 3.2010\n",
      "Epoch 146 | Loss: 3.2702\n",
      "Epoch 147 | Loss: 3.1806\n",
      "Epoch 148 | Loss: 3.2172\n",
      "Epoch 149 | Loss: 3.1191\n",
      "Epoch 150 | Loss: 3.0431\n",
      "Epoch 151 | Loss: 3.0685\n",
      "Epoch 152 | Loss: 3.1886\n",
      "Epoch 153 | Loss: 3.0975\n",
      "Epoch 154 | Loss: 3.0948\n",
      "Epoch 155 | Loss: 3.2774\n",
      "Epoch 156 | Loss: 3.1892\n",
      "Epoch 157 | Loss: 3.1816\n",
      "Epoch 158 | Loss: 3.2533\n",
      "Epoch 159 | Loss: 3.1048\n",
      "Epoch 160 | Loss: 3.1440\n",
      "Epoch 161 | Loss: 3.1070\n",
      "Epoch 162 | Loss: 3.1569\n",
      "Epoch 163 | Loss: 3.1067\n",
      "Epoch 164 | Loss: 3.2890\n",
      "Epoch 165 | Loss: 3.1880\n",
      "Epoch 166 | Loss: 3.1334\n",
      "Epoch 167 | Loss: 3.1430\n",
      "Epoch 168 | Loss: 3.0701\n",
      "Epoch 169 | Loss: 3.1812\n",
      "Epoch 170 | Loss: 3.2123\n",
      "Epoch 171 | Loss: 3.1107\n",
      "Epoch 172 | Loss: 3.1750\n",
      "Epoch 173 | Loss: 3.1810\n",
      "Epoch 174 | Loss: 3.1423\n",
      "Epoch 175 | Loss: 3.1690\n",
      "Epoch 176 | Loss: 3.0601\n",
      "Epoch 177 | Loss: 3.0993\n",
      "Epoch 178 | Loss: 3.0595\n",
      "Epoch 179 | Loss: 3.1386\n",
      "Epoch 180 | Loss: 3.0482\n",
      "Epoch 181 | Loss: 3.0063\n",
      "Epoch 182 | Loss: 3.0092\n",
      "Epoch 183 | Loss: 3.1032\n",
      "Epoch 184 | Loss: 3.1425\n",
      "Epoch 185 | Loss: 3.1859\n",
      "Epoch 186 | Loss: 3.0081\n",
      "Epoch 187 | Loss: 3.0183\n",
      "Epoch 188 | Loss: 3.0435\n",
      "Epoch 189 | Loss: 3.0954\n",
      "Epoch 190 | Loss: 3.1719\n",
      "Epoch 191 | Loss: 3.0811\n",
      "Epoch 192 | Loss: 3.1068\n",
      "Epoch 193 | Loss: 3.0362\n",
      "Epoch 194 | Loss: 3.0080\n",
      "Epoch 195 | Loss: 3.1752\n",
      "Epoch 196 | Loss: 2.9728\n",
      "Epoch 197 | Loss: 2.9932\n",
      "Epoch 198 | Loss: 3.0905\n",
      "Epoch 199 | Loss: 3.0663\n",
      "Epoch 200 | Loss: 2.9790\n"
     ]
    }
   ],
   "source": [
    "model.train()\n",
    "optimizer = torch.optim.Adam(model.parameters(), lr=0.01)\n",
    "criterion = nn.CrossEntropyLoss()\n",
    " \n",
    "\n",
    "# train the model\n",
    "for epoch in range(200):\n",
    "    optimizer.zero_grad()\n",
    "    out = model(features, edge_index)\n",
    "    loss = F.nll_loss(out, labels)\n",
    "    loss.backward()\n",
    "    optimizer.step()\n",
    "\n",
    "        \n",
    "    print('Epoch %d | Loss: %.4f' % (epoch+1, loss.item()))"
   ]
  },
  {
   "cell_type": "code",
   "execution_count": null,
   "metadata": {},
   "outputs": [],
   "source": []
  }
 ],
 "metadata": {
  "kernelspec": {
   "display_name": "base",
   "language": "python",
   "name": "python3"
  },
  "language_info": {
   "codemirror_mode": {
    "name": "ipython",
    "version": 3
   },
   "file_extension": ".py",
   "mimetype": "text/x-python",
   "name": "python",
   "nbconvert_exporter": "python",
   "pygments_lexer": "ipython3",
   "version": "3.10.11"
  }
 },
 "nbformat": 4,
 "nbformat_minor": 2
}
