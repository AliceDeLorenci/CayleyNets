{
 "cells": [
  {
   "cell_type": "markdown",
   "metadata": {},
   "source": [
    "# ChebNet"
   ]
  },
  {
   "cell_type": "code",
   "execution_count": 42,
   "metadata": {},
   "outputs": [],
   "source": [
    "import ChebNet\n",
    "import CORA\n",
    "import utils\n",
    "\n",
    "import dgl\n",
    "import torch"
   ]
  },
  {
   "cell_type": "code",
   "execution_count": 43,
   "metadata": {},
   "outputs": [
    {
     "data": {
      "text/plain": [
       "<module 'utils' from '/Users/alice/Documents/GIT/CayleyNets/utils.py'>"
      ]
     },
     "execution_count": 43,
     "metadata": {},
     "output_type": "execute_result"
    }
   ],
   "source": [
    "# Reload when files are changed\n",
    "import importlib\n",
    "importlib.reload(ChebNet)\n",
    "importlib.reload(CORA)\n",
    "importlib.reload(utils)"
   ]
  },
  {
   "cell_type": "code",
   "execution_count": 28,
   "metadata": {},
   "outputs": [],
   "source": [
    "import torch\n",
    "import torch.nn as nn\n",
    "import torch.nn.functional as F"
   ]
  },
  {
   "cell_type": "code",
   "execution_count": 29,
   "metadata": {},
   "outputs": [
    {
     "name": "stdout",
     "output_type": "stream",
     "text": [
      "2.1.1\n",
      "True\n",
      "True\n"
     ]
    }
   ],
   "source": [
    "# Checking torch and device\n",
    "\n",
    "# Torch version\n",
    "print(torch.__version__)\n",
    "\n",
    "# Is MPS even available? macOS 12.3+\n",
    "print(torch.backends.mps.is_available())\n",
    "\n",
    "# Was the current version of PyTorch built with MPS activated?\n",
    "print(torch.backends.mps.is_built())"
   ]
  },
  {
   "cell_type": "code",
   "execution_count": 30,
   "metadata": {},
   "outputs": [
    {
     "name": "stdout",
     "output_type": "stream",
     "text": [
      "Parsing files...\n",
      "Done.\n"
     ]
    }
   ],
   "source": [
    "# Import dataset\n",
    "cora = CORA.CORA()"
   ]
  },
  {
   "cell_type": "code",
   "execution_count": 31,
   "metadata": {},
   "outputs": [
    {
     "data": {
      "text/plain": [
       "device(type='cpu')"
      ]
     },
     "execution_count": 31,
     "metadata": {},
     "output_type": "execute_result"
    }
   ],
   "source": [
    "# Use GPU if available (DGL doesn't seem to support MPS)\n",
    "# device = torch.device('mps' if torch.backends.mps.is_available() else 'cuda' if torch.cuda.is_available() else 'cpu')\n",
    "device = torch.device('cuda' if torch.cuda.is_available() else 'cpu')\n",
    "device"
   ]
  },
  {
   "cell_type": "code",
   "execution_count": 32,
   "metadata": {},
   "outputs": [],
   "source": [
    "train_mask, test_mask, val_mask = utils.split_train_test_val(cora.n, 500, 500) # extended split of the CORA dataset"
   ]
  },
  {
   "cell_type": "code",
   "execution_count": 33,
   "metadata": {},
   "outputs": [],
   "source": [
    "# Hyperparameters (Section 4.5)\n",
    "in_feats = cora.n_features\n",
    "n_classes = cora.n_classes\n",
    "n_hidden = 16\n",
    "n_layers = 1 # number of hidden+output layers\n",
    "k = 10 # Chebyshev polynomial order \n",
    "# obs: we weren't able to identify the value of this last parameter in the paper, only that it is 2r, r being the degree of the Cayley polynomial"
   ]
  },
  {
   "cell_type": "code",
   "execution_count": 34,
   "metadata": {},
   "outputs": [],
   "source": [
    "# Graph as an object\n",
    "graph = dgl.from_scipy(cora.adjacency)\n",
    "\n",
    "# Features and labels as tensors\n",
    "features = torch.Tensor(cora.features).to(device)\n",
    "labels = torch.Tensor(cora.labels).long().to(device)\n",
    "\n",
    "# Masks as tensors\n",
    "train_mask = torch.Tensor(train_mask).bool().to(device)\n",
    "test_mask = torch.Tensor(test_mask).bool().to(device)\n",
    "val_mask = torch.Tensor(val_mask).bool().to(device)"
   ]
  },
  {
   "cell_type": "code",
   "execution_count": 35,
   "metadata": {},
   "outputs": [
    {
     "data": {
      "text/plain": [
       "ChebNet(\n",
       "  (layers): ModuleList(\n",
       "    (0): ChebConv(\n",
       "      (linear): Linear(in_features=14330, out_features=16, bias=True)\n",
       "    )\n",
       "    (1): ChebConv(\n",
       "      (linear): Linear(in_features=160, out_features=7, bias=True)\n",
       "    )\n",
       "  )\n",
       ")"
      ]
     },
     "execution_count": 35,
     "metadata": {},
     "output_type": "execute_result"
    }
   ],
   "source": [
    "# Define model\n",
    "p = 0.6 # dropout probability\n",
    "model = ChebNet.ChebNet(in_feats, n_classes, n_hidden, n_layers, k, p).to(device)\n",
    "model"
   ]
  },
  {
   "cell_type": "code",
   "execution_count": 36,
   "metadata": {},
   "outputs": [
    {
     "name": "stdout",
     "output_type": "stream",
     "text": [
      "Number of parameters: 230423\n",
      "Number of parameters: 229296\n",
      "Number of parameters: 1127\n"
     ]
    }
   ],
   "source": [
    "print(f'Number of parameters: {sum(p.numel() for p in model.parameters())}')\n",
    "print(f'Number of parameters: {sum(p.numel() for p in model.layers[0].parameters())}')\n",
    "print(f'Number of parameters: {sum(p.numel() for p in model.layers[1].parameters())}')"
   ]
  },
  {
   "cell_type": "code",
   "execution_count": 37,
   "metadata": {},
   "outputs": [],
   "source": [
    "# Optimizer\n",
    "lr = 5e-3\n",
    "weight_decay = 5e-4\n",
    "optimizer = torch.optim.Adam(model.parameters(), lr=lr, weight_decay=weight_decay)"
   ]
  },
  {
   "cell_type": "code",
   "execution_count": 38,
   "metadata": {},
   "outputs": [
    {
     "name": "stdout",
     "output_type": "stream",
     "text": [
      "Epoch 00 | Loss 1.944 | Accuracy (validation) 0.290\n",
      "Epoch 10 | Loss 0.968 | Accuracy (validation) 0.688\n",
      "Epoch 20 | Loss 0.434 | Accuracy (validation) 0.750\n",
      "Epoch 30 | Loss 0.315 | Accuracy (validation) 0.746\n",
      "Epoch 40 | Loss 0.290 | Accuracy (validation) 0.740\n",
      "Epoch 50 | Loss 0.287 | Accuracy (validation) 0.746\n",
      "Epoch 60 | Loss 0.290 | Accuracy (validation) 0.746\n",
      "Epoch 70 | Loss 0.292 | Accuracy (validation) 0.740\n",
      "Epoch 80 | Loss 0.291 | Accuracy (validation) 0.742\n",
      "Epoch 90 | Loss 0.289 | Accuracy (validation) 0.748\n",
      "Epoch 100 | Loss 0.287 | Accuracy (validation) 0.746\n",
      "Epoch 110 | Loss 0.285 | Accuracy (validation) 0.754\n",
      "Epoch 120 | Loss 0.284 | Accuracy (validation) 0.758\n",
      "Epoch 130 | Loss 0.283 | Accuracy (validation) 0.754\n",
      "Epoch 140 | Loss 0.282 | Accuracy (validation) 0.756\n",
      "Epoch 150 | Loss 0.282 | Accuracy (validation) 0.756\n",
      "Epoch 160 | Loss 0.281 | Accuracy (validation) 0.760\n",
      "Epoch 170 | Loss 0.282 | Accuracy (validation) 0.762\n",
      "Epoch 180 | Loss 0.281 | Accuracy (validation) 0.762\n",
      "Epoch 190 | Loss 0.280 | Accuracy (validation) 0.760\n"
     ]
    }
   ],
   "source": [
    "# Train the model\n",
    "batch_size = 32\n",
    "epochs = 200\n",
    "\n",
    "# save loss values for plotting\n",
    "loss_values = []\n",
    "val_score = []\n",
    "train_score = []\n",
    "\n",
    "verbose = True\n",
    "for e in range(epochs):\n",
    "    # Compute output\n",
    "    output = model(graph, features)\n",
    "\n",
    "    # Compute loss\n",
    "    logp = F.log_softmax(output, 1)\n",
    "    loss = F.nll_loss(logp[train_mask], labels[train_mask])\n",
    "    loss_values.append(loss.item())\n",
    "\n",
    "    # Perform backward pass\n",
    "    optimizer.zero_grad()\n",
    "    loss.backward()\n",
    "    optimizer.step()\n",
    "\n",
    "    # Evaluation\n",
    "    score = utils.eval_model(model, graph, features, labels, train_mask)\n",
    "    train_score.append(score)\n",
    "\n",
    "    score = utils.eval_model(model, graph, features, labels, val_mask)\n",
    "    val_score.append(score)\n",
    "\n",
    "    if verbose and e % 10 == 0:\n",
    "        print(\"Epoch {:02d} | Loss {:.3f} | Accuracy (validation) {:.3f}\".format(e, loss.item(), score))"
   ]
  },
  {
   "cell_type": "code",
   "execution_count": 39,
   "metadata": {},
   "outputs": [
    {
     "name": "stdout",
     "output_type": "stream",
     "text": [
      "Test accuracy 0.752\n"
     ]
    }
   ],
   "source": [
    "test_score = utils.eval_model(model, graph, features, labels, test_mask)\n",
    "print(\"Test accuracy {:.3f}\".format(test_score))"
   ]
  },
  {
   "cell_type": "code",
   "execution_count": 40,
   "metadata": {},
   "outputs": [
    {
     "data": {
      "image/png": "[encoded data removed]",
      "text/plain": [
       "<Figure size 600x600 with 1 Axes>"
      ]
     },
     "metadata": {},
     "output_type": "display_data"
    }
   ],
   "source": [
    "utils.plot_accuracy(train_score, val_score)"
   ]
  },
  {
   "cell_type": "code",
   "execution_count": 44,
   "metadata": {},
   "outputs": [
    {
     "data": {
      "image/png": "[encoded data removed]",
      "text/plain": [
       "<Figure size 600x600 with 1 Axes>"
      ]
     },
     "metadata": {},
     "output_type": "display_data"
    }
   ],
   "source": [
    "utils.plot_loss(loss_values)"
   ]
  },
  {
   "cell_type": "code",
   "execution_count": null,
   "metadata": {},
   "outputs": [],
   "source": []
  }
 ],
 "metadata": {
  "kernelspec": {
   "display_name": "Python 3",
   "language": "python",
   "name": "python3"
  },
  "language_info": {
   "codemirror_mode": {
    "name": "ipython",
    "version": 3
   },
   "file_extension": ".py",
   "mimetype": "text/x-python",
   "name": "python",
   "nbconvert_exporter": "python",
   "pygments_lexer": "ipython3",
   "version": "3.9.6"
  }
 },
 "nbformat": 4,
 "nbformat_minor": 2
}
