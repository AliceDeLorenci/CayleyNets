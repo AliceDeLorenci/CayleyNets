{
 "cells": [
  {
   "cell_type": "code",
   "execution_count": 1,
   "metadata": {},
   "outputs": [],
   "source": [
    "import time\n",
    "\n",
    "import torch\n",
    "import torch.nn as nn\n",
    "import torch.nn.functional as F\n",
    "\n",
    "# Check if GPU is available\n",
    "device = torch.device('cuda' if torch.cuda.is_available() else 'cpu')"
   ]
  },
  {
   "cell_type": "code",
   "execution_count": 2,
   "metadata": {},
   "outputs": [
    {
     "data": {
      "text/plain": [
       "device(type='cpu')"
      ]
     },
     "execution_count": 2,
     "metadata": {},
     "output_type": "execute_result"
    }
   ],
   "source": [
    "device"
   ]
  },
  {
   "cell_type": "code",
   "execution_count": 4,
   "metadata": {},
   "outputs": [],
   "source": [
    "import src.ChebNet as ChebNet\n",
    "import src.CORA as CORA\n",
    "import src.utils as utils"
   ]
  },
  {
   "cell_type": "code",
   "execution_count": 5,
   "metadata": {},
   "outputs": [
    {
     "data": {
      "text/plain": [
       "<module 'src.utils' from '/Users/alice/Documents/GIT/CayleyNets/src/utils.py'>"
      ]
     },
     "execution_count": 5,
     "metadata": {},
     "output_type": "execute_result"
    }
   ],
   "source": [
    "# Reload when files are changed\n",
    "import importlib\n",
    "importlib.reload(ChebNet)\n",
    "importlib.reload(CORA)\n",
    "importlib.reload(utils)"
   ]
  },
  {
   "cell_type": "code",
   "execution_count": 6,
   "metadata": {},
   "outputs": [
    {
     "name": "stdout",
     "output_type": "stream",
     "text": [
      "Parsing files...\n",
      "Done.\n"
     ]
    }
   ],
   "source": [
    "# Import dataset\n",
    "cora = CORA.CORA()"
   ]
  },
  {
   "cell_type": "code",
   "execution_count": 7,
   "metadata": {},
   "outputs": [
    {
     "name": "stdout",
     "output_type": "stream",
     "text": [
      "CORA dataset\n",
      "Number of nodes: 2708\n",
      "Number of edges: 10556\n",
      "Number of features per node: 1433\n"
     ]
    }
   ],
   "source": [
    "# Print properties of the dataset\n",
    "dataset = cora\n",
    "print(dataset.description)\n",
    "print(f'Number of nodes: {dataset.n}')\n",
    "print(f'Number of edges: {dataset.n_edges}')\n",
    "print(f'Number of features per node: {dataset.n_features}')"
   ]
  },
  {
   "cell_type": "code",
   "execution_count": 8,
   "metadata": {},
   "outputs": [],
   "source": [
    "# Extended split of the CORA dataset\n",
    "train_mask, test_mask, val_mask = utils.split_train_test_val(dataset.n, 500, 500) "
   ]
  },
  {
   "cell_type": "code",
   "execution_count": 9,
   "metadata": {},
   "outputs": [],
   "source": [
    "# Features and labels as tensors\n",
    "features = torch.Tensor(1.0*dataset.features).to(device)\n",
    "labels = torch.Tensor(dataset.labels).long().to(device)\n",
    "edge_index = dataset.get_edge_index().to(device)\n",
    "\n",
    "# Masks as tensors\n",
    "train_mask = torch.Tensor(train_mask).bool().to(device)\n",
    "test_mask = torch.Tensor(test_mask).bool().to(device)\n",
    "val_mask = torch.Tensor(val_mask).bool().to(device)"
   ]
  },
  {
   "cell_type": "code",
   "execution_count": 12,
   "metadata": {},
   "outputs": [],
   "source": [
    "# Hyperparameters (Section 4.5)\n",
    "in_feats = dataset.n_features\n",
    "n_classes = dataset.n_classes\n",
    "n_hidden = 16\n",
    "n_hidden_layers = 1 # number of hidden layers\n",
    "k = 10 # Chebshev polynomial order \n",
    "# obs: we weren't able to identify the value of this last parameter in the paper, only that k=2*r where r is the Cayley polynomial order"
   ]
  },
  {
   "cell_type": "code",
   "execution_count": 13,
   "metadata": {},
   "outputs": [],
   "source": [
    "p_dropout=0.5\n",
    "normalization = 'sym'\n",
    "model = ChebNet.ChebNet(in_feats, n_classes, n_hidden, n_hidden_layers, k=k, p_dropout=p_dropout, normalization=normalization)"
   ]
  },
  {
   "cell_type": "code",
   "execution_count": 14,
   "metadata": {},
   "outputs": [
    {
     "name": "stdout",
     "output_type": "stream",
     "text": [
      "ChebNet(\n",
      "  (layers): ModuleList(\n",
      "    (0): ChebConv(1433, 16, K=10, normalization=sym)\n",
      "    (1): ChebConv(16, 7, K=10, normalization=sym)\n",
      "  )\n",
      ")\n",
      "Number of parameters: 230400\n",
      "Number of parameters: 229280\n",
      "Number of parameters: 1120\n"
     ]
    }
   ],
   "source": [
    "print(model)\n",
    "print(f'Number of parameters: {sum(p.numel() for p in model.parameters())}')\n",
    "print(f'Number of parameters: {sum(p.numel() for p in model.layers[0].parameters())}')\n",
    "print(f'Number of parameters: {sum(p.numel() for p in model.layers[1].parameters())}')           "
   ]
  },
  {
   "cell_type": "code",
   "execution_count": 15,
   "metadata": {},
   "outputs": [],
   "source": [
    "# Optimizer\n",
    "lr = 5e-3\n",
    "weight_decay = 5e-4\n",
    "optimizer = torch.optim.Adam(model.parameters(), lr=lr, weight_decay=weight_decay)"
   ]
  },
  {
   "cell_type": "code",
   "execution_count": 16,
   "metadata": {},
   "outputs": [
    {
     "name": "stdout",
     "output_type": "stream",
     "text": [
      "Epoch 00 | Loss 2.508 | Accuracy (validation) 0.184 | Elapsed time: 0.86s\n",
      "Epoch 01 | Loss 1.875 | Accuracy (validation) 0.228 | Elapsed time: 0.61s\n",
      "Epoch 02 | Loss 1.740 | Accuracy (validation) 0.280 | Elapsed time: 0.61s\n",
      "Epoch 03 | Loss 1.582 | Accuracy (validation) 0.314 | Elapsed time: 0.61s\n",
      "Epoch 04 | Loss 1.439 | Accuracy (validation) 0.340 | Elapsed time: 0.63s\n",
      "Epoch 05 | Loss 1.306 | Accuracy (validation) 0.374 | Elapsed time: 0.62s\n",
      "Epoch 06 | Loss 1.151 | Accuracy (validation) 0.416 | Elapsed time: 0.66s\n",
      "Epoch 07 | Loss 1.022 | Accuracy (validation) 0.440 | Elapsed time: 0.62s\n",
      "Epoch 08 | Loss 0.919 | Accuracy (validation) 0.452 | Elapsed time: 0.68s\n",
      "Epoch 09 | Loss 0.797 | Accuracy (validation) 0.470 | Elapsed time: 0.64s\n",
      "Epoch 10 | Loss 0.675 | Accuracy (validation) 0.466 | Elapsed time: 0.66s\n",
      "Epoch 11 | Loss 0.577 | Accuracy (validation) 0.484 | Elapsed time: 0.62s\n",
      "Epoch 12 | Loss 0.471 | Accuracy (validation) 0.520 | Elapsed time: 0.67s\n",
      "Epoch 13 | Loss 0.374 | Accuracy (validation) 0.532 | Elapsed time: 0.79s\n",
      "Epoch 14 | Loss 0.304 | Accuracy (validation) 0.550 | Elapsed time: 0.72s\n",
      "Epoch 15 | Loss 0.234 | Accuracy (validation) 0.550 | Elapsed time: 0.70s\n",
      "Epoch 16 | Loss 0.179 | Accuracy (validation) 0.554 | Elapsed time: 0.66s\n",
      "Epoch 17 | Loss 0.138 | Accuracy (validation) 0.572 | Elapsed time: 0.60s\n",
      "Epoch 18 | Loss 0.103 | Accuracy (validation) 0.584 | Elapsed time: 0.60s\n",
      "Epoch 19 | Loss 0.080 | Accuracy (validation) 0.592 | Elapsed time: 0.59s\n",
      "Epoch 20 | Loss 0.066 | Accuracy (validation) 0.612 | Elapsed time: 0.60s\n",
      "Epoch 21 | Loss 0.056 | Accuracy (validation) 0.626 | Elapsed time: 0.61s\n",
      "Epoch 22 | Loss 0.048 | Accuracy (validation) 0.644 | Elapsed time: 0.63s\n",
      "Epoch 23 | Loss 0.040 | Accuracy (validation) 0.650 | Elapsed time: 0.59s\n",
      "Epoch 24 | Loss 0.033 | Accuracy (validation) 0.656 | Elapsed time: 0.77s\n",
      "Epoch 25 | Loss 0.026 | Accuracy (validation) 0.656 | Elapsed time: 0.65s\n",
      "Epoch 26 | Loss 0.021 | Accuracy (validation) 0.654 | Elapsed time: 0.62s\n",
      "Epoch 27 | Loss 0.016 | Accuracy (validation) 0.652 | Elapsed time: 0.59s\n",
      "Epoch 28 | Loss 0.013 | Accuracy (validation) 0.648 | Elapsed time: 0.59s\n",
      "Epoch 29 | Loss 0.011 | Accuracy (validation) 0.650 | Elapsed time: 0.64s\n",
      "Epoch 30 | Loss 0.010 | Accuracy (validation) 0.656 | Elapsed time: 0.63s\n",
      "Epoch 31 | Loss 0.009 | Accuracy (validation) 0.664 | Elapsed time: 0.65s\n",
      "Epoch 32 | Loss 0.008 | Accuracy (validation) 0.666 | Elapsed time: 0.64s\n",
      "Epoch 33 | Loss 0.007 | Accuracy (validation) 0.664 | Elapsed time: 0.64s\n",
      "Epoch 34 | Loss 0.007 | Accuracy (validation) 0.666 | Elapsed time: 0.64s\n",
      "Epoch 35 | Loss 0.006 | Accuracy (validation) 0.668 | Elapsed time: 0.64s\n",
      "Epoch 36 | Loss 0.006 | Accuracy (validation) 0.674 | Elapsed time: 0.60s\n",
      "Epoch 37 | Loss 0.005 | Accuracy (validation) 0.674 | Elapsed time: 0.60s\n",
      "Epoch 38 | Loss 0.005 | Accuracy (validation) 0.676 | Elapsed time: 0.67s\n",
      "Epoch 39 | Loss 0.005 | Accuracy (validation) 0.680 | Elapsed time: 0.67s\n",
      "Epoch 40 | Loss 0.005 | Accuracy (validation) 0.684 | Elapsed time: 0.69s\n",
      "Epoch 41 | Loss 0.004 | Accuracy (validation) 0.686 | Elapsed time: 0.69s\n",
      "Epoch 42 | Loss 0.004 | Accuracy (validation) 0.686 | Elapsed time: 0.66s\n",
      "Epoch 43 | Loss 0.004 | Accuracy (validation) 0.688 | Elapsed time: 0.66s\n",
      "Epoch 44 | Loss 0.004 | Accuracy (validation) 0.688 | Elapsed time: 0.61s\n",
      "Epoch 45 | Loss 0.004 | Accuracy (validation) 0.692 | Elapsed time: 0.62s\n",
      "Epoch 46 | Loss 0.004 | Accuracy (validation) 0.698 | Elapsed time: 0.61s\n",
      "Epoch 47 | Loss 0.003 | Accuracy (validation) 0.698 | Elapsed time: 0.63s\n",
      "Epoch 48 | Loss 0.003 | Accuracy (validation) 0.700 | Elapsed time: 0.64s\n",
      "Epoch 49 | Loss 0.003 | Accuracy (validation) 0.704 | Elapsed time: 0.63s\n",
      "Epoch 50 | Loss 0.003 | Accuracy (validation) 0.708 | Elapsed time: 0.62s\n",
      "Epoch 51 | Loss 0.003 | Accuracy (validation) 0.710 | Elapsed time: 0.62s\n",
      "Epoch 52 | Loss 0.003 | Accuracy (validation) 0.712 | Elapsed time: 0.66s\n",
      "Epoch 53 | Loss 0.003 | Accuracy (validation) 0.714 | Elapsed time: 0.61s\n",
      "Epoch 54 | Loss 0.003 | Accuracy (validation) 0.716 | Elapsed time: 0.62s\n",
      "Epoch 55 | Loss 0.003 | Accuracy (validation) 0.714 | Elapsed time: 0.63s\n",
      "Epoch 56 | Loss 0.003 | Accuracy (validation) 0.714 | Elapsed time: 0.61s\n",
      "Epoch 57 | Loss 0.003 | Accuracy (validation) 0.714 | Elapsed time: 0.62s\n",
      "Epoch 58 | Loss 0.003 | Accuracy (validation) 0.716 | Elapsed time: 0.61s\n",
      "Epoch 59 | Loss 0.004 | Accuracy (validation) 0.716 | Elapsed time: 0.62s\n",
      "Epoch 60 | Loss 0.004 | Accuracy (validation) 0.718 | Elapsed time: 0.63s\n",
      "Epoch 61 | Loss 0.004 | Accuracy (validation) 0.722 | Elapsed time: 0.60s\n",
      "Epoch 62 | Loss 0.004 | Accuracy (validation) 0.722 | Elapsed time: 0.59s\n",
      "Epoch 63 | Loss 0.004 | Accuracy (validation) 0.726 | Elapsed time: 0.64s\n",
      "Epoch 64 | Loss 0.004 | Accuracy (validation) 0.728 | Elapsed time: 0.77s\n",
      "Epoch 65 | Loss 0.004 | Accuracy (validation) 0.734 | Elapsed time: 0.98s\n",
      "Epoch 66 | Loss 0.004 | Accuracy (validation) 0.736 | Elapsed time: 0.91s\n",
      "Epoch 67 | Loss 0.004 | Accuracy (validation) 0.736 | Elapsed time: 0.79s\n",
      "Epoch 68 | Loss 0.004 | Accuracy (validation) 0.738 | Elapsed time: 0.77s\n",
      "Epoch 69 | Loss 0.004 | Accuracy (validation) 0.744 | Elapsed time: 0.86s\n",
      "Epoch 70 | Loss 0.004 | Accuracy (validation) 0.744 | Elapsed time: 0.72s\n",
      "Epoch 71 | Loss 0.004 | Accuracy (validation) 0.740 | Elapsed time: 0.71s\n",
      "Epoch 72 | Loss 0.005 | Accuracy (validation) 0.742 | Elapsed time: 0.83s\n",
      "Epoch 73 | Loss 0.005 | Accuracy (validation) 0.742 | Elapsed time: 0.78s\n",
      "Epoch 74 | Loss 0.005 | Accuracy (validation) 0.742 | Elapsed time: 0.77s\n",
      "Epoch 75 | Loss 0.005 | Accuracy (validation) 0.742 | Elapsed time: 0.68s\n",
      "Epoch 76 | Loss 0.005 | Accuracy (validation) 0.742 | Elapsed time: 0.63s\n",
      "Epoch 77 | Loss 0.005 | Accuracy (validation) 0.744 | Elapsed time: 0.61s\n",
      "Epoch 78 | Loss 0.005 | Accuracy (validation) 0.748 | Elapsed time: 0.61s\n",
      "Epoch 79 | Loss 0.005 | Accuracy (validation) 0.750 | Elapsed time: 0.60s\n",
      "Epoch 80 | Loss 0.005 | Accuracy (validation) 0.750 | Elapsed time: 0.61s\n",
      "Epoch 81 | Loss 0.005 | Accuracy (validation) 0.750 | Elapsed time: 0.61s\n",
      "Epoch 82 | Loss 0.006 | Accuracy (validation) 0.750 | Elapsed time: 0.63s\n",
      "Epoch 83 | Loss 0.006 | Accuracy (validation) 0.750 | Elapsed time: 0.64s\n",
      "Epoch 84 | Loss 0.006 | Accuracy (validation) 0.750 | Elapsed time: 0.63s\n",
      "Epoch 85 | Loss 0.006 | Accuracy (validation) 0.750 | Elapsed time: 0.61s\n",
      "Epoch 86 | Loss 0.006 | Accuracy (validation) 0.754 | Elapsed time: 0.61s\n",
      "Epoch 87 | Loss 0.006 | Accuracy (validation) 0.756 | Elapsed time: 0.61s\n",
      "Epoch 88 | Loss 0.006 | Accuracy (validation) 0.758 | Elapsed time: 0.61s\n",
      "Epoch 89 | Loss 0.006 | Accuracy (validation) 0.758 | Elapsed time: 0.60s\n",
      "Epoch 90 | Loss 0.006 | Accuracy (validation) 0.758 | Elapsed time: 0.61s\n",
      "Epoch 91 | Loss 0.006 | Accuracy (validation) 0.760 | Elapsed time: 0.60s\n",
      "Epoch 92 | Loss 0.006 | Accuracy (validation) 0.762 | Elapsed time: 0.60s\n",
      "Epoch 93 | Loss 0.006 | Accuracy (validation) 0.766 | Elapsed time: 0.60s\n",
      "Epoch 94 | Loss 0.006 | Accuracy (validation) 0.768 | Elapsed time: 0.59s\n",
      "Epoch 95 | Loss 0.006 | Accuracy (validation) 0.768 | Elapsed time: 0.60s\n",
      "Epoch 96 | Loss 0.007 | Accuracy (validation) 0.772 | Elapsed time: 0.60s\n",
      "Epoch 97 | Loss 0.007 | Accuracy (validation) 0.772 | Elapsed time: 0.60s\n",
      "Epoch 98 | Loss 0.007 | Accuracy (validation) 0.772 | Elapsed time: 0.60s\n",
      "Epoch 99 | Loss 0.007 | Accuracy (validation) 0.778 | Elapsed time: 0.60s\n",
      "Epoch 100 | Loss 0.007 | Accuracy (validation) 0.776 | Elapsed time: 0.60s\n",
      "Epoch 101 | Loss 0.007 | Accuracy (validation) 0.778 | Elapsed time: 0.60s\n",
      "Epoch 102 | Loss 0.007 | Accuracy (validation) 0.780 | Elapsed time: 0.60s\n",
      "Epoch 103 | Loss 0.007 | Accuracy (validation) 0.780 | Elapsed time: 0.60s\n",
      "Epoch 104 | Loss 0.007 | Accuracy (validation) 0.780 | Elapsed time: 0.60s\n",
      "Epoch 105 | Loss 0.007 | Accuracy (validation) 0.778 | Elapsed time: 0.60s\n",
      "Epoch 106 | Loss 0.007 | Accuracy (validation) 0.780 | Elapsed time: 0.60s\n",
      "Epoch 107 | Loss 0.007 | Accuracy (validation) 0.780 | Elapsed time: 0.60s\n",
      "Epoch 108 | Loss 0.007 | Accuracy (validation) 0.780 | Elapsed time: 0.60s\n",
      "Epoch 109 | Loss 0.007 | Accuracy (validation) 0.780 | Elapsed time: 0.60s\n",
      "Epoch 110 | Loss 0.007 | Accuracy (validation) 0.780 | Elapsed time: 0.59s\n",
      "Epoch 111 | Loss 0.007 | Accuracy (validation) 0.778 | Elapsed time: 0.60s\n",
      "Epoch 112 | Loss 0.007 | Accuracy (validation) 0.778 | Elapsed time: 0.60s\n",
      "Epoch 113 | Loss 0.007 | Accuracy (validation) 0.778 | Elapsed time: 0.60s\n",
      "Epoch 114 | Loss 0.007 | Accuracy (validation) 0.782 | Elapsed time: 0.61s\n",
      "Epoch 115 | Loss 0.007 | Accuracy (validation) 0.782 | Elapsed time: 0.60s\n",
      "Epoch 116 | Loss 0.007 | Accuracy (validation) 0.784 | Elapsed time: 0.61s\n",
      "Epoch 117 | Loss 0.007 | Accuracy (validation) 0.784 | Elapsed time: 0.60s\n",
      "Epoch 118 | Loss 0.007 | Accuracy (validation) 0.784 | Elapsed time: 0.60s\n",
      "Epoch 119 | Loss 0.007 | Accuracy (validation) 0.784 | Elapsed time: 0.61s\n",
      "Epoch 120 | Loss 0.007 | Accuracy (validation) 0.784 | Elapsed time: 0.60s\n",
      "Epoch 121 | Loss 0.007 | Accuracy (validation) 0.784 | Elapsed time: 0.60s\n",
      "Epoch 122 | Loss 0.007 | Accuracy (validation) 0.786 | Elapsed time: 0.61s\n",
      "Epoch 123 | Loss 0.007 | Accuracy (validation) 0.786 | Elapsed time: 0.61s\n",
      "Epoch 124 | Loss 0.007 | Accuracy (validation) 0.786 | Elapsed time: 0.60s\n",
      "Epoch 125 | Loss 0.007 | Accuracy (validation) 0.786 | Elapsed time: 0.61s\n",
      "Epoch 126 | Loss 0.007 | Accuracy (validation) 0.788 | Elapsed time: 0.61s\n",
      "Epoch 127 | Loss 0.007 | Accuracy (validation) 0.788 | Elapsed time: 0.60s\n",
      "Epoch 128 | Loss 0.007 | Accuracy (validation) 0.792 | Elapsed time: 0.60s\n",
      "Epoch 129 | Loss 0.007 | Accuracy (validation) 0.792 | Elapsed time: 0.60s\n",
      "Epoch 130 | Loss 0.007 | Accuracy (validation) 0.794 | Elapsed time: 0.61s\n",
      "Epoch 131 | Loss 0.007 | Accuracy (validation) 0.794 | Elapsed time: 0.60s\n",
      "Epoch 132 | Loss 0.007 | Accuracy (validation) 0.794 | Elapsed time: 0.61s\n",
      "Epoch 133 | Loss 0.007 | Accuracy (validation) 0.798 | Elapsed time: 0.60s\n",
      "Epoch 134 | Loss 0.007 | Accuracy (validation) 0.800 | Elapsed time: 0.60s\n",
      "Epoch 135 | Loss 0.007 | Accuracy (validation) 0.800 | Elapsed time: 0.60s\n",
      "Epoch 136 | Loss 0.007 | Accuracy (validation) 0.802 | Elapsed time: 0.60s\n",
      "Epoch 137 | Loss 0.007 | Accuracy (validation) 0.802 | Elapsed time: 0.61s\n",
      "Epoch 138 | Loss 0.006 | Accuracy (validation) 0.802 | Elapsed time: 0.60s\n",
      "Epoch 139 | Loss 0.006 | Accuracy (validation) 0.802 | Elapsed time: 0.61s\n",
      "Epoch 140 | Loss 0.006 | Accuracy (validation) 0.802 | Elapsed time: 0.60s\n",
      "Epoch 141 | Loss 0.006 | Accuracy (validation) 0.802 | Elapsed time: 0.60s\n",
      "Epoch 142 | Loss 0.006 | Accuracy (validation) 0.806 | Elapsed time: 0.60s\n",
      "Epoch 143 | Loss 0.006 | Accuracy (validation) 0.806 | Elapsed time: 0.60s\n",
      "Epoch 144 | Loss 0.006 | Accuracy (validation) 0.806 | Elapsed time: 0.60s\n",
      "Epoch 145 | Loss 0.006 | Accuracy (validation) 0.808 | Elapsed time: 0.60s\n",
      "Epoch 146 | Loss 0.006 | Accuracy (validation) 0.810 | Elapsed time: 0.60s\n",
      "Epoch 147 | Loss 0.006 | Accuracy (validation) 0.810 | Elapsed time: 0.61s\n",
      "Epoch 148 | Loss 0.006 | Accuracy (validation) 0.808 | Elapsed time: 0.60s\n",
      "Epoch 149 | Loss 0.006 | Accuracy (validation) 0.808 | Elapsed time: 0.60s\n",
      "Epoch 150 | Loss 0.006 | Accuracy (validation) 0.808 | Elapsed time: 0.60s\n",
      "Epoch 151 | Loss 0.006 | Accuracy (validation) 0.808 | Elapsed time: 0.60s\n",
      "Epoch 152 | Loss 0.006 | Accuracy (validation) 0.810 | Elapsed time: 0.60s\n",
      "Epoch 153 | Loss 0.006 | Accuracy (validation) 0.810 | Elapsed time: 0.60s\n",
      "Epoch 154 | Loss 0.006 | Accuracy (validation) 0.810 | Elapsed time: 0.60s\n",
      "Epoch 155 | Loss 0.006 | Accuracy (validation) 0.810 | Elapsed time: 0.60s\n",
      "Epoch 156 | Loss 0.006 | Accuracy (validation) 0.812 | Elapsed time: 0.60s\n",
      "Epoch 157 | Loss 0.006 | Accuracy (validation) 0.812 | Elapsed time: 0.61s\n",
      "Epoch 158 | Loss 0.006 | Accuracy (validation) 0.812 | Elapsed time: 0.61s\n",
      "Epoch 159 | Loss 0.006 | Accuracy (validation) 0.810 | Elapsed time: 0.60s\n",
      "Epoch 160 | Loss 0.006 | Accuracy (validation) 0.810 | Elapsed time: 0.60s\n",
      "Epoch 161 | Loss 0.006 | Accuracy (validation) 0.810 | Elapsed time: 0.60s\n",
      "Epoch 162 | Loss 0.006 | Accuracy (validation) 0.810 | Elapsed time: 0.60s\n",
      "Epoch 163 | Loss 0.006 | Accuracy (validation) 0.810 | Elapsed time: 0.61s\n",
      "Epoch 164 | Loss 0.006 | Accuracy (validation) 0.808 | Elapsed time: 0.60s\n",
      "Epoch 165 | Loss 0.006 | Accuracy (validation) 0.808 | Elapsed time: 0.61s\n",
      "Epoch 166 | Loss 0.006 | Accuracy (validation) 0.810 | Elapsed time: 0.60s\n",
      "Epoch 167 | Loss 0.006 | Accuracy (validation) 0.810 | Elapsed time: 0.60s\n",
      "Epoch 168 | Loss 0.006 | Accuracy (validation) 0.810 | Elapsed time: 0.60s\n",
      "Epoch 169 | Loss 0.006 | Accuracy (validation) 0.810 | Elapsed time: 0.60s\n",
      "Epoch 170 | Loss 0.006 | Accuracy (validation) 0.812 | Elapsed time: 0.60s\n",
      "Epoch 171 | Loss 0.006 | Accuracy (validation) 0.814 | Elapsed time: 0.60s\n",
      "Epoch 172 | Loss 0.006 | Accuracy (validation) 0.816 | Elapsed time: 0.60s\n",
      "Epoch 173 | Loss 0.006 | Accuracy (validation) 0.816 | Elapsed time: 0.60s\n",
      "Epoch 174 | Loss 0.006 | Accuracy (validation) 0.816 | Elapsed time: 0.61s\n",
      "Epoch 175 | Loss 0.006 | Accuracy (validation) 0.816 | Elapsed time: 0.60s\n",
      "Epoch 176 | Loss 0.006 | Accuracy (validation) 0.816 | Elapsed time: 0.60s\n",
      "Epoch 177 | Loss 0.006 | Accuracy (validation) 0.816 | Elapsed time: 0.60s\n",
      "Epoch 178 | Loss 0.006 | Accuracy (validation) 0.816 | Elapsed time: 0.60s\n",
      "Epoch 179 | Loss 0.006 | Accuracy (validation) 0.816 | Elapsed time: 0.61s\n",
      "Epoch 180 | Loss 0.006 | Accuracy (validation) 0.816 | Elapsed time: 0.60s\n",
      "Epoch 181 | Loss 0.006 | Accuracy (validation) 0.816 | Elapsed time: 0.61s\n",
      "Epoch 182 | Loss 0.006 | Accuracy (validation) 0.816 | Elapsed time: 0.60s\n",
      "Epoch 183 | Loss 0.006 | Accuracy (validation) 0.816 | Elapsed time: 0.61s\n",
      "Epoch 184 | Loss 0.006 | Accuracy (validation) 0.816 | Elapsed time: 0.60s\n",
      "Epoch 185 | Loss 0.006 | Accuracy (validation) 0.816 | Elapsed time: 0.60s\n",
      "Epoch 186 | Loss 0.006 | Accuracy (validation) 0.816 | Elapsed time: 0.61s\n",
      "Epoch 187 | Loss 0.006 | Accuracy (validation) 0.818 | Elapsed time: 0.60s\n",
      "Epoch 188 | Loss 0.006 | Accuracy (validation) 0.818 | Elapsed time: 0.61s\n",
      "Epoch 189 | Loss 0.006 | Accuracy (validation) 0.818 | Elapsed time: 0.60s\n",
      "Epoch 190 | Loss 0.006 | Accuracy (validation) 0.818 | Elapsed time: 0.60s\n",
      "Epoch 191 | Loss 0.006 | Accuracy (validation) 0.818 | Elapsed time: 0.61s\n",
      "Epoch 192 | Loss 0.006 | Accuracy (validation) 0.818 | Elapsed time: 0.60s\n",
      "Epoch 193 | Loss 0.006 | Accuracy (validation) 0.818 | Elapsed time: 0.61s\n",
      "Epoch 194 | Loss 0.006 | Accuracy (validation) 0.818 | Elapsed time: 0.60s\n",
      "Epoch 195 | Loss 0.006 | Accuracy (validation) 0.818 | Elapsed time: 0.60s\n",
      "Epoch 196 | Loss 0.006 | Accuracy (validation) 0.818 | Elapsed time: 0.60s\n",
      "Epoch 197 | Loss 0.006 | Accuracy (validation) 0.818 | Elapsed time: 0.61s\n",
      "Epoch 198 | Loss 0.006 | Accuracy (validation) 0.818 | Elapsed time: 0.60s\n",
      "Epoch 199 | Loss 0.006 | Accuracy (validation) 0.820 | Elapsed time: 0.61s\n"
     ]
    }
   ],
   "source": [
    "# Train the model\n",
    "batch_size = 32\n",
    "epochs = 200\n",
    "\n",
    "# save loss values for plotting\n",
    "loss_values = []\n",
    "val_score = []\n",
    "train_score = []\n",
    "\n",
    "verbose = True\n",
    "for e in range(epochs):\n",
    "    start = time.time()\n",
    "\n",
    "    # Compute output\n",
    "    logp = model(features, edge_index)\n",
    "\n",
    "    # Compute loss\n",
    "    loss = F.nll_loss(logp[train_mask], labels[train_mask])\n",
    "    loss_values.append(loss.item())\n",
    "\n",
    "    # Perform backward pass\n",
    "    optimizer.zero_grad()\n",
    "    loss.backward()\n",
    "    optimizer.step()\n",
    "\n",
    "    # Evaluation\n",
    "    score = utils.eval_pytorch_geometric_model(model, edge_index, features, labels, train_mask)\n",
    "    train_score.append(score)\n",
    "\n",
    "    score = utils.eval_pytorch_geometric_model(model, edge_index, features, labels, val_mask)\n",
    "    val_score.append(score)\n",
    "\n",
    "    # Print loss\n",
    "    end = time.time()\n",
    "    if verbose:\n",
    "        print(\"Epoch {:02d} | Loss {:.3f} | Accuracy (validation) {:.3f} | Elapsed time: {:.2f}s\".format(e, loss.item(), score, end - start))"
   ]
  },
  {
   "cell_type": "code",
   "execution_count": 17,
   "metadata": {},
   "outputs": [
    {
     "name": "stdout",
     "output_type": "stream",
     "text": [
      "Test accuracy 0.810\n"
     ]
    }
   ],
   "source": [
    "test_score = utils.eval_pytorch_geometric_model(model, edge_index, features, labels, test_mask)\n",
    "print(\"Test accuracy {:.3f}\".format(test_score))"
   ]
  },
  {
   "cell_type": "code",
   "execution_count": 18,
   "metadata": {},
   "outputs": [],
   "source": [
    "results = {'model': 'ChebNet',\n",
    "           'dataset': dataset.name,\n",
    "           'training size': len(train_mask),\n",
    "           'validation size': len(val_mask),\n",
    "           'test size': len(test_mask),\n",
    "           'n hidden nodes': n_hidden,\n",
    "           'n hidden layers': n_hidden_layers,\n",
    "           'polynomial order': r,\n",
    "           'laplacian normalization': normalization,\n",
    "           'dropout probability': p_dropout,\n",
    "           'learning rate': lr,\n",
    "           'weight decay': weight_decay,\n",
    "           'batch size': batch_size,\n",
    "           'n epochs': epochs,\n",
    "           'loss': loss_values,\n",
    "           'train accuracy': train_score,\n",
    "           'validation accuracy': val_score,\n",
    "           'test accuracy': test_score\n",
    "           }"
   ]
  },
  {
   "cell_type": "code",
   "execution_count": 19,
   "metadata": {},
   "outputs": [],
   "source": [
    "import pickle\n",
    "import datetime\n",
    "ts = datetime.datetime.now()\n",
    "ts = '{}-{}-{}-{}-{}-{}'.format(ts.year, ts.month, ts.day, ts.hour, ts.minute, ts.second)\n",
    "fname = './results/cheb_{}.pkl'.format(ts)\n",
    "with open(fname, 'wb') as f:\n",
    "    pickle.dump(results, f)\n",
    "        \n",
    "with open(fname, 'rb') as f:\n",
    "    loaded_results = pickle.load(f)"
   ]
  },
  {
   "cell_type": "code",
   "execution_count": 20,
   "metadata": {},
   "outputs": [
    {
     "data": {
      "image/png": "[encoded data removed]",
      "text/plain": [
       "<Figure size 600x600 with 1 Axes>"
      ]
     },
     "metadata": {},
     "output_type": "display_data"
    }
   ],
   "source": [
    "utils.plot_accuracy(loaded_results['train accuracy'], loaded_results['validation accuracy'])"
   ]
  },
  {
   "cell_type": "code",
   "execution_count": 21,
   "metadata": {},
   "outputs": [
    {
     "data": {
      "image/png": "[encoded data removed]",
      "text/plain": [
       "<Figure size 600x600 with 1 Axes>"
      ]
     },
     "metadata": {},
     "output_type": "display_data"
    }
   ],
   "source": [
    "utils.plot_loss(loaded_results['loss'])"
   ]
  },
  {
   "cell_type": "code",
   "execution_count": 22,
   "metadata": {},
   "outputs": [
    {
     "name": "stdout",
     "output_type": "stream",
     "text": [
      "Test accuracy 0.810\n"
     ]
    }
   ],
   "source": [
    "print(\"Test accuracy {:.3f}\".format(loaded_results['test accuracy']))"
   ]
  },
  {
   "cell_type": "code",
   "execution_count": null,
   "metadata": {},
   "outputs": [],
   "source": []
  }
 ],
 "metadata": {
  "kernelspec": {
   "display_name": "base",
   "language": "python",
   "name": "python3"
  },
  "language_info": {
   "codemirror_mode": {
    "name": "ipython",
    "version": 3
   },
   "file_extension": ".py",
   "mimetype": "text/x-python",
   "name": "python",
   "nbconvert_exporter": "python",
   "pygments_lexer": "ipython3",
   "version": "3.9.6"
  }
 },
 "nbformat": 4,
 "nbformat_minor": 2
}
